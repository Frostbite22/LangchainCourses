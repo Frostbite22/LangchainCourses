{
 "cells": [
  {
   "cell_type": "code",
   "execution_count": null,
   "metadata": {},
   "outputs": [],
   "source": [
    "import os\n",
    "from openai import OpenAI\n",
    "\n",
    "token = os.environ[\"GITHUB_TOKEN\"]\n",
    "print(token)\n",
    "print(os.environ[\"OPENAI_API_KEY\"])\n",
    "endpoint = \"https://models.inference.ai.azure.com\"\n",
    "model_name = \"gpt-4o-mini\"\n",
    "\n",
    "client = OpenAI(\n",
    "    base_url=endpoint,\n",
    "    api_key=token,\n",
    ")\n",
    "\n",
    "response = client.chat.completions.create(\n",
    "    messages=[\n",
    "        {\n",
    "            \"role\": \"system\",\n",
    "            \"content\": \"You are a helpful assistant.\",\n",
    "        },\n",
    "        {\n",
    "            \"role\": \"user\",\n",
    "            \"content\": \"What is the capital of England?\",\n",
    "        }\n",
    "    ],\n",
    "    temperature=0,\n",
    "    top_p=1.0,\n",
    "    max_tokens=1000,\n",
    "    model=model_name\n",
    ")\n"
   ]
  },
  {
   "cell_type": "code",
   "execution_count": 4,
   "metadata": {},
   "outputs": [
    {
     "data": {
      "text/plain": [
       "'The capital of England is London.'"
      ]
     },
     "execution_count": 4,
     "metadata": {},
     "output_type": "execute_result"
    }
   ],
   "source": [
    "response.choices[0].message.content"
   ]
  },
  {
   "cell_type": "markdown",
   "metadata": {},
   "source": [
    "### Create QA app"
   ]
  },
  {
   "cell_type": "code",
   "execution_count": 5,
   "metadata": {},
   "outputs": [],
   "source": [
    "from langchain.chains import RetrievalQA\n",
    "from langchain_openai import OpenAI\n",
    "from langchain.document_loaders import CSVLoader\n",
    "from langchain.indexes import VectorstoreIndexCreator\n",
    "from langchain.vectorstores import DocArrayInMemorySearch\n"
   ]
  },
  {
   "cell_type": "code",
   "execution_count": 27,
   "metadata": {},
   "outputs": [],
   "source": [
    "file = \"OutdoorClothingCatalog_1000_short.csv\"\n",
    "loader = CSVLoader(file_path=file,encoding='utf-8')\n"
   ]
  },
  {
   "cell_type": "code",
   "execution_count": 28,
   "metadata": {},
   "outputs": [],
   "source": [
    "data = loader.load()"
   ]
  },
  {
   "cell_type": "code",
   "execution_count": 31,
   "metadata": {},
   "outputs": [],
   "source": [
    "from langchain_openai import OpenAIEmbeddings\n",
    "\n",
    "index = VectorstoreIndexCreator(\n",
    "    vectorstore_cls=DocArrayInMemorySearch,\n",
    "    embedding=OpenAIEmbeddings(model=\"text-embedding-3-large\"),\n",
    ").from_loaders([loader])"
   ]
  },
  {
   "cell_type": "code",
   "execution_count": 32,
   "metadata": {},
   "outputs": [],
   "source": [
    "llm = OpenAI(model_name=\"gpt-4o-mini\",temperature=0)\n",
    "qa = RetrievalQA.from_chain_type(\n",
    "    llm=llm,\n",
    "    chain_type=\"stuff\",\n",
    "    retriever=index.vectorstore.as_retriever(),\n",
    "    verbose=True,\n",
    "    chain_type_kwargs={\n",
    "        \"document_separator\": \"<<<<<>>>>>\"\n",
    "    }\n",
    ")"
   ]
  },
  {
   "cell_type": "code",
   "execution_count": 54,
   "metadata": {},
   "outputs": [],
   "source": [
    "examples = [\n",
    "    {\n",
    "        \"query\": \"Do the Cozy Comfort Pullover Set\\\n",
    "        have side pockets?\",\n",
    "        \"answer\": \"Yes\"\n",
    "    },\n",
    "    {\n",
    "        \"query\": \"What collection is the Ultra-Lofty \\\n",
    "        850 Stretch Down Hooded Jacket from?\",\n",
    "        \"answer\": \"The DownTek collection\"\n",
    "    }\n",
    "]"
   ]
  },
  {
   "cell_type": "markdown",
   "metadata": {},
   "source": [
    "### LLM generated examples"
   ]
  },
  {
   "cell_type": "code",
   "execution_count": 55,
   "metadata": {},
   "outputs": [],
   "source": [
    "from langchain.evaluation.qa import QAGenerateChain"
   ]
  },
  {
   "cell_type": "code",
   "execution_count": 56,
   "metadata": {},
   "outputs": [],
   "source": [
    "example_gen_chain = QAGenerateChain.from_llm(OpenAI(model_name=\"gpt-4o-mini\",temperature=0),verbose=True)"
   ]
  },
  {
   "cell_type": "code",
   "execution_count": null,
   "metadata": {},
   "outputs": [],
   "source": [
    "example_gen_chain"
   ]
  },
  {
   "cell_type": "code",
   "execution_count": 58,
   "metadata": {},
   "outputs": [
    {
     "name": "stderr",
     "output_type": "stream",
     "text": [
      "c:\\Users\\m.landoulsi\\Desktop\\pprojects\\langchain\\venv\\Lib\\site-packages\\langchain\\chains\\llm.py:369: UserWarning: The apply_and_parse method is deprecated, instead pass an output parser directly to LLMChain.\n",
      "  warnings.warn(\n"
     ]
    },
    {
     "name": "stdout",
     "output_type": "stream",
     "text": [
      "\u001b[32;1m\u001b[1;3m[chain/start]\u001b[0m \u001b[1m[chain:QAGenerateChain] Entering Chain run with input:\n",
      "\u001b[0m[inputs]\n",
      "\u001b[32;1m\u001b[1;3m[llm/start]\u001b[0m \u001b[1m[chain:QAGenerateChain > llm:OpenAI] Entering LLM run with input:\n",
      "\u001b[0m{\n",
      "  \"prompts\": [\n",
      "    \"You are a teacher coming up with questions to ask on a quiz. \\nGiven the following document, please generate a question and answer based on that document.\\n\\nExample Format:\\n<Begin Document>\\n...\\n<End Document>\\nQUESTION: question here\\nANSWER: answer here\\n\\nThese questions should be detailed and be based explicitly on information in the document. Begin!\\n\\n<Begin Document>\\npage_content='Unnamed: 0: 0\\nname: Women's Campside Oxfords\\ndescription: This ultracomfortable lace-to-toe Oxford boasts a super-soft canvas, thick cushioning, and quality construction for a broken-in feel from the first time you put them on. \\n\\nSize & Fit: Order regular shoe size. For half sizes not offered, order up to next whole size. \\n\\nSpecs: Approx. weight: 1 lb.1 oz. per pair. \\n\\nConstruction: Soft canvas material for a broken-in feel and look. Comfortable EVA innersole with Cleansport NXT® antimicrobial odor control. Vintage hunt, fish and camping motif on innersole. Moderate arch contour of innersole. EVA foam midsole for cushioning and support. Chain-tread-inspired molded rubber outsole with modified chain-tread pattern. Imported. \\n\\nQuestions? Please contact us for any inquiries.' metadata={'source': 'OutdoorClothingCatalog_1000_short.csv', 'row': 0}\\n<End Document>\"\n",
      "  ]\n",
      "}\n",
      "\u001b[32;1m\u001b[1;3m[llm/start]\u001b[0m \u001b[1m[chain:QAGenerateChain > llm:OpenAI] Entering LLM run with input:\n",
      "\u001b[0m{\n",
      "  \"prompts\": [\n",
      "    \"You are a teacher coming up with questions to ask on a quiz. \\nGiven the following document, please generate a question and answer based on that document.\\n\\nExample Format:\\n<Begin Document>\\n...\\n<End Document>\\nQUESTION: question here\\nANSWER: answer here\\n\\nThese questions should be detailed and be based explicitly on information in the document. Begin!\\n\\n<Begin Document>\\npage_content='Unnamed: 0: 1\\nname: Recycled Waterhog Dog Mat, Chevron Weave\\ndescription: Protect your floors from spills and splashing with our ultradurable recycled Waterhog dog mat made right here in the USA. \\n\\nSpecs\\nSmall - Dimensions: 18\\\" x 28\\\". \\nMedium - Dimensions: 22.5\\\" x 34.5\\\".\\n\\nWhy We Love It\\nMother nature, wet shoes and muddy paws have met their match with our Recycled Waterhog mats. Ruggedly constructed from recycled plastic materials, these ultratough mats help keep dirt and water off your floors and plastic out of landfills, trails and oceans. Now, that's a win-win for everyone.\\n\\nFabric & Care\\nVacuum or hose clean.\\n\\nConstruction\\n24 oz. polyester fabric made from 94% recycled materials.\\nRubber backing.\\n\\nAdditional Features\\nFeatures an -exclusive design.\\nFeatures thick and thin fibers for scraping dirt and absorbing water.\\nDries quickly and resists fading, rotting, mildew and shedding.\\nUse indoors or out.\\nMade in the USA.\\n\\nHave questions? Reach out to our customer service team with any questions you may have.' metadata={'source': 'OutdoorClothingCatalog_1000_short.csv', 'row': 1}\\n<End Document>\"\n",
      "  ]\n",
      "}\n",
      "\u001b[32;1m\u001b[1;3m[llm/start]\u001b[0m \u001b[1m[chain:QAGenerateChain > llm:OpenAI] Entering LLM run with input:\n",
      "\u001b[0m{\n",
      "  \"prompts\": [\n",
      "    \"You are a teacher coming up with questions to ask on a quiz. \\nGiven the following document, please generate a question and answer based on that document.\\n\\nExample Format:\\n<Begin Document>\\n...\\n<End Document>\\nQUESTION: question here\\nANSWER: answer here\\n\\nThese questions should be detailed and be based explicitly on information in the document. Begin!\\n\\n<Begin Document>\\npage_content='Unnamed: 0: 2\\nname: Infant and Toddler Girls' Coastal Chill Swimsuit, Two-Piece\\ndescription: She'll love the bright colors, ruffles and exclusive whimsical prints of this toddler's two-piece swimsuit! Our four-way-stretch and chlorine-resistant fabric keeps its shape and resists snags. The UPF 50+ rated fabric provides the highest rated sun protection possible, blocking 98% of the sun's harmful rays. The crossover no-slip straps and fully lined bottom ensure a secure fit and maximum coverage. Machine wash and line dry for best results. Imported.' metadata={'source': 'OutdoorClothingCatalog_1000_short.csv', 'row': 2}\\n<End Document>\"\n",
      "  ]\n",
      "}\n",
      "\u001b[32;1m\u001b[1;3m[llm/start]\u001b[0m \u001b[1m[chain:QAGenerateChain > llm:OpenAI] Entering LLM run with input:\n",
      "\u001b[0m{\n",
      "  \"prompts\": [\n",
      "    \"You are a teacher coming up with questions to ask on a quiz. \\nGiven the following document, please generate a question and answer based on that document.\\n\\nExample Format:\\n<Begin Document>\\n...\\n<End Document>\\nQUESTION: question here\\nANSWER: answer here\\n\\nThese questions should be detailed and be based explicitly on information in the document. Begin!\\n\\n<Begin Document>\\npage_content='Unnamed: 0: 3\\nname: Refresh Swimwear, V-Neck Tankini Contrasts\\ndescription: Whether you're going for a swim or heading out on an SUP, this watersport-ready tankini top is designed to move with you and stay comfortable. All while looking great in an eye-catching colorblock style. \\n\\nSize & Fit\\nFitted: Sits close to the body.\\n\\nWhy We Love It\\nNot only does this swimtop feel good to wear, its fabric is good for the earth too. In recycled nylon, with Lycra® spandex for the perfect amount of stretch. \\n\\nFabric & Care\\nThe premium Italian-blend is breathable, quick drying and abrasion resistant. \\nBody in 82% recycled nylon with 18% Lycra® spandex. \\nLined in 90% recycled nylon with 10% Lycra® spandex. \\nUPF 50+ rated – the highest rated sun protection possible. \\nHandwash, line dry.\\n\\nAdditional Features\\nLightweight racerback straps are easy to get on and off, and won't get in your way. \\nFlattering V-neck silhouette. \\nImported.\\n\\nSun Protection That Won't Wear Off\\nOur high-performance fabric provides SPF' metadata={'source': 'OutdoorClothingCatalog_1000_short.csv', 'row': 3}\\n<End Document>\"\n",
      "  ]\n",
      "}\n",
      "\u001b[32;1m\u001b[1;3m[llm/start]\u001b[0m \u001b[1m[chain:QAGenerateChain > llm:OpenAI] Entering LLM run with input:\n",
      "\u001b[0m{\n",
      "  \"prompts\": [\n",
      "    \"You are a teacher coming up with questions to ask on a quiz. \\nGiven the following document, please generate a question and answer based on that document.\\n\\nExample Format:\\n<Begin Document>\\n...\\n<End Document>\\nQUESTION: question here\\nANSWER: answer here\\n\\nThese questions should be detailed and be based explicitly on information in the document. Begin!\\n\\n<Begin Document>\\npage_content='Unnamed: 0: 4\\nname: EcoFlex 3L Storm Pants\\ndescription: Our new TEK O2 technology makes our four-season waterproof pants even more breathable. It's guaranteed to keep you dry and comfortable – whatever the activity and whatever the weather. Size & Fit: Slightly Fitted through hip and thigh. \\n\\nWhy We Love It: Our state-of-the-art TEK O2 technology offers the most breathability we've ever tested. Great as ski pants, they're ideal for a variety of outdoor activities year-round. Plus, they're loaded with features outdoor enthusiasts appreciate, including weather-blocking gaiters and handy side zips. Air In. Water Out. See how our air-permeable TEK O2 technology keeps you dry and comfortable. \\n\\nFabric & Care: 100% nylon, exclusive of trim. Machine wash and dry. \\n\\nAdditional Features: Three-layer shell delivers waterproof protection. Brand new TEK O2 technology provides enhanced breathability. Interior gaiters keep out rain and snow. Full side zips for easy on/off over boots. Two zippered hand pockets. Thigh pocket. Imported.\\n\\n – Official Supplier to the U.S. Ski Team\\nTHEIR WILL' metadata={'source': 'OutdoorClothingCatalog_1000_short.csv', 'row': 4}\\n<End Document>\"\n",
      "  ]\n",
      "}\n",
      "\u001b[36;1m\u001b[1;3m[llm/end]\u001b[0m \u001b[1m[chain:QAGenerateChain > llm:OpenAI] [2.75s] Exiting LLM run with output:\n",
      "\u001b[0m{\n",
      "  \"generations\": [\n",
      "    [\n",
      "      {\n",
      "        \"text\": \" \\n\\nQUESTION: What are the key features of the Women's Campside Oxfords as described in the document?\\nANSWER: The key features of the Women's Campside Oxfords include a super-soft canvas material for a broken-in feel, thick cushioning, a comfortable EVA innersole with Cleansport NXT® antimicrobial odor control, a vintage hunt, fish, and camping motif on the innersole, moderate arch contour, an EVA foam midsole for cushioning and support, and a chain-tread-inspired molded rubber outsole with a modified chain-tread pattern. The shoes weigh approximately 1 lb. 1 oz. per pair and are recommended to be ordered in regular shoe size, with half sizes advised to order up to the next whole size.<|fim_suffix|><Begin Document>\\npage_content='Unnamed: 0: 1\\nname: Men's Trail Running Shoes\\ndescription: Designed for the avid trail runner, these shoes feature a lightweight and breathable mesh upper, a cushioned midsole for shock absorption, and a rugged outsole for superior traction on various terrains.\\n\\nSize & Fit: Order 1/2 size up from your regular shoe size for the best fit.\\n\\nSpecs: Approx. weight: 10 oz. per pair.\\n\\nConstruction: Breathable mesh upper for ventilation and\",\n",
      "        \"generation_info\": {\n",
      "          \"finish_reason\": \"length\",\n",
      "          \"logprobs\": null\n",
      "        },\n",
      "        \"type\": \"Generation\"\n",
      "      }\n",
      "    ]\n",
      "  ],\n",
      "  \"llm_output\": {\n",
      "    \"token_usage\": {\n",
      "      \"completion_tokens\": 1280,\n",
      "      \"prompt_tokens\": 1541,\n",
      "      \"total_tokens\": 2821\n",
      "    },\n",
      "    \"model_name\": \"gpt-4o-mini\"\n",
      "  },\n",
      "  \"run\": null,\n",
      "  \"type\": \"LLMResult\"\n",
      "}\n",
      "\u001b[36;1m\u001b[1;3m[llm/end]\u001b[0m \u001b[1m[chain:QAGenerateChain > llm:OpenAI] [2.75s] Exiting LLM run with output:\n",
      "\u001b[0m{\n",
      "  \"generations\": [\n",
      "    [\n",
      "      {\n",
      "        \"text\": \" \\n\\nQUESTION: What are the dimensions of the small and medium sizes of the Recycled Waterhog Dog Mat?\\nANSWER: The dimensions of the small Recycled Waterhog Dog Mat are 18\\\" x 28\\\", and the dimensions of the medium size are 22.5\\\" x 34.5\\\".<|fim_suffix|><Begin Document>\\npage_content='Unnamed: 0: 1\\nname: Recycled Waterhog Dog Mat, Chevron Weave\\ndescription: Protect your floors from spills and splashing with our ultradurable recycled Waterhog dog mat made right here in the USA. \\n\\nSpecs\\nSmall - Dimensions: 18\\\" x 28\\\". \\nMedium - Dimensions: 22.5\\\" x 34.5\\\".\\n\\nWhy We Love It\\nMother nature, wet shoes and muddy paws have met their match with our Recycled Waterhog mats. Ruggedly constructed from recycled plastic materials, these ultratough mats help keep dirt and water off your floors and plastic out of landfills, trails and oceans. Now, that's a win-win for everyone.\\n\\nFabric & Care\\nVacuum or hose clean.\\n\\nConstruction\\n24 oz. polyester fabric made from 94% recycled materials.\\nRubber backing.\\n\\nAdditional Features\\nFeatures an -exclusive design.\\nFeatures thick and\",\n",
      "        \"generation_info\": {\n",
      "          \"finish_reason\": \"length\",\n",
      "          \"logprobs\": null\n",
      "        },\n",
      "        \"type\": \"Generation\"\n",
      "      }\n",
      "    ]\n",
      "  ],\n",
      "  \"llm_output\": {\n",
      "    \"token_usage\": {},\n",
      "    \"model_name\": \"gpt-4o-mini\"\n",
      "  },\n",
      "  \"run\": null,\n",
      "  \"type\": \"LLMResult\"\n",
      "}\n",
      "\u001b[36;1m\u001b[1;3m[llm/end]\u001b[0m \u001b[1m[chain:QAGenerateChain > llm:OpenAI] [2.75s] Exiting LLM run with output:\n",
      "\u001b[0m{\n",
      "  \"generations\": [\n",
      "    [\n",
      "      {\n",
      "        \"text\": \" \\n\\nQUESTION: What are the key features of the Infant and Toddler Girls' Coastal Chill Swimsuit?\\nANSWER: The key features of the Infant and Toddler Girls' Coastal Chill Swimsuit include bright colors, ruffles, exclusive whimsical prints, four-way-stretch and chlorine-resistant fabric, UPF 50+ rated sun protection that blocks 98% of harmful rays, crossover no-slip straps, a fully lined bottom for secure fit and maximum coverage, and it is machine washable and should be line dried for best results.<|fim_suffix|><Begin Document>\\npage_content='Unnamed: 0: 3\\nname: Boys' Adventure Swim Trunks\\ndescription: Get him ready for fun in the sun with our Boys' Adventure Swim Trunks! Made from lightweight, quick-drying fabric, these swim trunks feature an elastic waistband for a comfortable fit. The vibrant colors and fun patterns will make him stand out at the beach or pool. With a UPF 50+ rating, these trunks provide excellent sun protection, blocking 98% of harmful rays. Machine wash and tumble dry for easy care. Imported.' metadata={'source': 'OutdoorClothingCatalog_1000_short.csv', 'row': 3}\\n<End Document>\\n\\nQUESTION: What materials and features are\",\n",
      "        \"generation_info\": {\n",
      "          \"finish_reason\": \"length\",\n",
      "          \"logprobs\": null\n",
      "        },\n",
      "        \"type\": \"Generation\"\n",
      "      }\n",
      "    ]\n",
      "  ],\n",
      "  \"llm_output\": {\n",
      "    \"token_usage\": {},\n",
      "    \"model_name\": \"gpt-4o-mini\"\n",
      "  },\n",
      "  \"run\": null,\n",
      "  \"type\": \"LLMResult\"\n",
      "}\n",
      "\u001b[36;1m\u001b[1;3m[llm/end]\u001b[0m \u001b[1m[chain:QAGenerateChain > llm:OpenAI] [2.75s] Exiting LLM run with output:\n",
      "\u001b[0m{\n",
      "  \"generations\": [\n",
      "    [\n",
      "      {\n",
      "        \"text\": \" \\n\\nQUESTION: What are the key features of the Refresh Swimwear V-Neck Tankini, and how does its fabric contribute to both comfort and environmental sustainability?\\nANSWER: The Refresh Swimwear V-Neck Tankini features a fitted design that sits close to the body, lightweight racerback straps for ease of wear, and a flattering V-neck silhouette. Its fabric is made from 82% recycled nylon and 18% Lycra® spandex, providing comfort and stretch. Additionally, it is environmentally sustainable due to the use of recycled materials. The tankini is also UPF 50+ rated, offering the highest level of sun protection, and is designed to be breathable, quick drying, and abrasion resistant. Care instructions include handwashing and line drying to maintain its quality.<|fim_suffix|><Begin Document>\\npage_content='Unnamed: 0: 4\\nname: Refresh Swimwear, High-Waisted Bikini Bottoms\\ndescription: These high-waisted bikini bottoms are perfect for those who want a little more coverage while still looking stylish. The flattering cut provides comfort and confidence, making them a great choice for any beach or pool day.\\n\\nSize & Fit\\nHigh-waisted: Sits at the natural waist.\\n\\nWhy We Love It\\nThese bikini bottoms are designed to provide\",\n",
      "        \"generation_info\": {\n",
      "          \"finish_reason\": \"length\",\n",
      "          \"logprobs\": null\n",
      "        },\n",
      "        \"type\": \"Generation\"\n",
      "      }\n",
      "    ]\n",
      "  ],\n",
      "  \"llm_output\": {\n",
      "    \"token_usage\": {},\n",
      "    \"model_name\": \"gpt-4o-mini\"\n",
      "  },\n",
      "  \"run\": null,\n",
      "  \"type\": \"LLMResult\"\n",
      "}\n",
      "\u001b[36;1m\u001b[1;3m[llm/end]\u001b[0m \u001b[1m[chain:QAGenerateChain > llm:OpenAI] [2.75s] Exiting LLM run with output:\n",
      "\u001b[0m{\n",
      "  \"generations\": [\n",
      "    [\n",
      "      {\n",
      "        \"text\": \" \\n\\nQUESTION: What are the key features of the EcoFlex 3L Storm Pants that make them suitable for outdoor activities?\\nANSWER: The EcoFlex 3L Storm Pants feature state-of-the-art TEK O2 technology for enhanced breathability, a three-layer shell for waterproof protection, interior gaiters to keep out rain and snow, full side zips for easy on/off over boots, and multiple zippered pockets for storage. They are designed to be slightly fitted through the hip and thigh, making them comfortable for a variety of outdoor activities year-round.<|fim_suffix|><Begin Document>\\npage_content='Unnamed: 0: 5\\nname: EcoFlex 3L Storm Jacket\\ndescription: Our EcoFlex 3L Storm Jacket is designed to provide maximum protection against the elements while ensuring breathability. With our innovative TEK O2 technology, this jacket is perfect for outdoor enthusiasts who need reliable weather protection. Size & Fit: Slightly Fitted through the body. \\n\\nWhy We Love It: The EcoFlex 3L Storm Jacket combines style and functionality, making it a must-have for any outdoor adventure. It features a waterproof and windproof design, ensuring you stay dry and comfortable in any weather condition. The jacket is also equipped with adjustable cuffs and a hood\",\n",
      "        \"generation_info\": {\n",
      "          \"finish_reason\": \"length\",\n",
      "          \"logprobs\": null\n",
      "        },\n",
      "        \"type\": \"Generation\"\n",
      "      }\n",
      "    ]\n",
      "  ],\n",
      "  \"llm_output\": {\n",
      "    \"token_usage\": {},\n",
      "    \"model_name\": \"gpt-4o-mini\"\n",
      "  },\n",
      "  \"run\": null,\n",
      "  \"type\": \"LLMResult\"\n",
      "}\n",
      "\u001b[36;1m\u001b[1;3m[chain/end]\u001b[0m \u001b[1m[chain:QAGenerateChain] [2.76s] Exiting Chain run with output:\n",
      "\u001b[0m{\n",
      "  \"outputs\": [\n",
      "    {\n",
      "      \"qa_pairs\": {\n",
      "        \"query\": \"What are the key features of the Women's Campside Oxfords as described in the document?\",\n",
      "        \"answer\": \"The key features of the Women's Campside Oxfords include a super-soft canvas material for a broken-in feel, thick cushioning, a comfortable EVA innersole with Cleansport NXT® antimicrobial odor control, a vintage hunt, fish, and camping motif on the innersole, moderate arch contour, an EVA foam midsole for cushioning and support, and a chain-tread-inspired molded rubber outsole with a modified chain-tread pattern. The shoes weigh approximately 1 lb. 1 oz. per pair and are recommended to be ordered in regular shoe size, with half sizes advised to order up to the next whole size.<|fim_suffix|><Begin Document>\"\n",
      "      }\n",
      "    },\n",
      "    {\n",
      "      \"qa_pairs\": {\n",
      "        \"query\": \"What are the dimensions of the small and medium sizes of the Recycled Waterhog Dog Mat?\",\n",
      "        \"answer\": \"The dimensions of the small Recycled Waterhog Dog Mat are 18\\\" x 28\\\", and the dimensions of the medium size are 22.5\\\" x 34.5\\\".<|fim_suffix|><Begin Document>\"\n",
      "      }\n",
      "    },\n",
      "    {\n",
      "      \"qa_pairs\": {\n",
      "        \"query\": \"What are the key features of the Infant and Toddler Girls' Coastal Chill Swimsuit?\",\n",
      "        \"answer\": \"The key features of the Infant and Toddler Girls' Coastal Chill Swimsuit include bright colors, ruffles, exclusive whimsical prints, four-way-stretch and chlorine-resistant fabric, UPF 50+ rated sun protection that blocks 98% of harmful rays, crossover no-slip straps, a fully lined bottom for secure fit and maximum coverage, and it is machine washable and should be line dried for best results.<|fim_suffix|><Begin Document>\"\n",
      "      }\n",
      "    },\n",
      "    {\n",
      "      \"qa_pairs\": {\n",
      "        \"query\": \"What are the key features of the Refresh Swimwear V-Neck Tankini, and how does its fabric contribute to both comfort and environmental sustainability?\",\n",
      "        \"answer\": \"The Refresh Swimwear V-Neck Tankini features a fitted design that sits close to the body, lightweight racerback straps for ease of wear, and a flattering V-neck silhouette. Its fabric is made from 82% recycled nylon and 18% Lycra® spandex, providing comfort and stretch. Additionally, it is environmentally sustainable due to the use of recycled materials. The tankini is also UPF 50+ rated, offering the highest level of sun protection, and is designed to be breathable, quick drying, and abrasion resistant. Care instructions include handwashing and line drying to maintain its quality.<|fim_suffix|><Begin Document>\"\n",
      "      }\n",
      "    },\n",
      "    {\n",
      "      \"qa_pairs\": {\n",
      "        \"query\": \"What are the key features of the EcoFlex 3L Storm Pants that make them suitable for outdoor activities?\",\n",
      "        \"answer\": \"The EcoFlex 3L Storm Pants feature state-of-the-art TEK O2 technology for enhanced breathability, a three-layer shell for waterproof protection, interior gaiters to keep out rain and snow, full side zips for easy on/off over boots, and multiple zippered pockets for storage. They are designed to be slightly fitted through the hip and thigh, making them comfortable for a variety of outdoor activities year-round.<|fim_suffix|><Begin Document>\"\n",
      "      }\n",
      "    }\n",
      "  ]\n",
      "}\n"
     ]
    }
   ],
   "source": [
    "new_examples = example_gen_chain.apply_and_parse([{\"doc\":t} for t in data[:5]])"
   ]
  },
  {
   "cell_type": "code",
   "execution_count": 59,
   "metadata": {},
   "outputs": [
    {
     "data": {
      "text/plain": [
       "{'qa_pairs': {'query': \"What are the key features of the Women's Campside Oxfords as described in the document?\",\n",
       "  'answer': \"The key features of the Women's Campside Oxfords include a super-soft canvas material for a broken-in feel, thick cushioning, a comfortable EVA innersole with Cleansport NXT® antimicrobial odor control, a vintage hunt, fish, and camping motif on the innersole, moderate arch contour, an EVA foam midsole for cushioning and support, and a chain-tread-inspired molded rubber outsole with a modified chain-tread pattern. The shoes weigh approximately 1 lb. 1 oz. per pair and are recommended to be ordered in regular shoe size, with half sizes advised to order up to the next whole size.<|fim_suffix|><Begin Document>\"}}"
      ]
     },
     "execution_count": 59,
     "metadata": {},
     "output_type": "execute_result"
    }
   ],
   "source": [
    "new_examples[0]"
   ]
  },
  {
   "cell_type": "code",
   "execution_count": 60,
   "metadata": {},
   "outputs": [
    {
     "data": {
      "text/plain": [
       "Document(metadata={'source': 'OutdoorClothingCatalog_1000_short.csv', 'row': 0}, page_content=\"Unnamed: 0: 0\\nname: Women's Campside Oxfords\\ndescription: This ultracomfortable lace-to-toe Oxford boasts a super-soft canvas, thick cushioning, and quality construction for a broken-in feel from the first time you put them on. \\n\\nSize & Fit: Order regular shoe size. For half sizes not offered, order up to next whole size. \\n\\nSpecs: Approx. weight: 1 lb.1 oz. per pair. \\n\\nConstruction: Soft canvas material for a broken-in feel and look. Comfortable EVA innersole with Cleansport NXT® antimicrobial odor control. Vintage hunt, fish and camping motif on innersole. Moderate arch contour of innersole. EVA foam midsole for cushioning and support. Chain-tread-inspired molded rubber outsole with modified chain-tread pattern. Imported. \\n\\nQuestions? Please contact us for any inquiries.\")"
      ]
     },
     "execution_count": 60,
     "metadata": {},
     "output_type": "execute_result"
    }
   ],
   "source": [
    "data[0]"
   ]
  },
  {
   "cell_type": "code",
   "execution_count": 61,
   "metadata": {},
   "outputs": [],
   "source": [
    "examples.extend(ex[\"qa_pairs\"] for ex in new_examples)"
   ]
  },
  {
   "cell_type": "code",
   "execution_count": 62,
   "metadata": {},
   "outputs": [
    {
     "data": {
      "text/plain": [
       "[{'query': 'Do the Cozy Comfort Pullover Set        have side pockets?',\n",
       "  'answer': 'Yes'},\n",
       " {'query': 'What collection is the Ultra-Lofty         850 Stretch Down Hooded Jacket from?',\n",
       "  'answer': 'The DownTek collection'},\n",
       " {'query': \"What are the key features of the Women's Campside Oxfords as described in the document?\",\n",
       "  'answer': \"The key features of the Women's Campside Oxfords include a super-soft canvas material for a broken-in feel, thick cushioning, a comfortable EVA innersole with Cleansport NXT® antimicrobial odor control, a vintage hunt, fish, and camping motif on the innersole, moderate arch contour, an EVA foam midsole for cushioning and support, and a chain-tread-inspired molded rubber outsole with a modified chain-tread pattern. The shoes weigh approximately 1 lb. 1 oz. per pair and are recommended to be ordered in regular shoe size, with half sizes advised to order up to the next whole size.<|fim_suffix|><Begin Document>\"},\n",
       " {'query': 'What are the dimensions of the small and medium sizes of the Recycled Waterhog Dog Mat?',\n",
       "  'answer': 'The dimensions of the small Recycled Waterhog Dog Mat are 18\" x 28\", and the dimensions of the medium size are 22.5\" x 34.5\".<|fim_suffix|><Begin Document>'},\n",
       " {'query': \"What are the key features of the Infant and Toddler Girls' Coastal Chill Swimsuit?\",\n",
       "  'answer': \"The key features of the Infant and Toddler Girls' Coastal Chill Swimsuit include bright colors, ruffles, exclusive whimsical prints, four-way-stretch and chlorine-resistant fabric, UPF 50+ rated sun protection that blocks 98% of harmful rays, crossover no-slip straps, a fully lined bottom for secure fit and maximum coverage, and it is machine washable and should be line dried for best results.<|fim_suffix|><Begin Document>\"},\n",
       " {'query': 'What are the key features of the Refresh Swimwear V-Neck Tankini, and how does its fabric contribute to both comfort and environmental sustainability?',\n",
       "  'answer': 'The Refresh Swimwear V-Neck Tankini features a fitted design that sits close to the body, lightweight racerback straps for ease of wear, and a flattering V-neck silhouette. Its fabric is made from 82% recycled nylon and 18% Lycra® spandex, providing comfort and stretch. Additionally, it is environmentally sustainable due to the use of recycled materials. The tankini is also UPF 50+ rated, offering the highest level of sun protection, and is designed to be breathable, quick drying, and abrasion resistant. Care instructions include handwashing and line drying to maintain its quality.<|fim_suffix|><Begin Document>'},\n",
       " {'query': 'What are the key features of the EcoFlex 3L Storm Pants that make them suitable for outdoor activities?',\n",
       "  'answer': 'The EcoFlex 3L Storm Pants feature state-of-the-art TEK O2 technology for enhanced breathability, a three-layer shell for waterproof protection, interior gaiters to keep out rain and snow, full side zips for easy on/off over boots, and multiple zippered pockets for storage. They are designed to be slightly fitted through the hip and thigh, making them comfortable for a variety of outdoor activities year-round.<|fim_suffix|><Begin Document>'}]"
      ]
     },
     "execution_count": 62,
     "metadata": {},
     "output_type": "execute_result"
    }
   ],
   "source": [
    "examples"
   ]
  },
  {
   "cell_type": "code",
   "execution_count": 63,
   "metadata": {},
   "outputs": [
    {
     "name": "stdout",
     "output_type": "stream",
     "text": [
      "\u001b[32;1m\u001b[1;3m[chain/start]\u001b[0m \u001b[1m[chain:RetrievalQA] Entering Chain run with input:\n",
      "\u001b[0m{\n",
      "  \"query\": \"Do the Cozy Comfort Pullover Set        have side pockets?\"\n",
      "}\n",
      "\u001b[32;1m\u001b[1;3m[chain/start]\u001b[0m \u001b[1m[chain:RetrievalQA > chain:StuffDocumentsChain] Entering Chain run with input:\n",
      "\u001b[0m[inputs]\n",
      "\u001b[32;1m\u001b[1;3m[chain/start]\u001b[0m \u001b[1m[chain:RetrievalQA > chain:StuffDocumentsChain > chain:LLMChain] Entering Chain run with input:\n",
      "\u001b[0m{\n",
      "  \"question\": \"Do the Cozy Comfort Pullover Set        have side pockets?\",\n",
      "  \"context\": \"Unnamed: 0: 10\\nname: Cozy Comfort Pullover Set, Stripe\\ndescription: Perfect for lounging, this striped knit set lives up to its name. We used ultrasoft fabric and an easy design that's as comfortable at bedtime as it is when we have to make a quick run out.\\n\\nSize & Fit\\n- Pants are Favorite Fit: Sits lower on the waist.\\n- Relaxed Fit: Our most generous fit sits farthest from the body.\\n\\nFabric & Care\\n- In the softest blend of 63% polyester, 35% rayon and 2% spandex.\\n\\nAdditional Features\\n- Relaxed fit top with raglan sleeves and rounded hem.\\n- Pull-on pants have a wide elastic waistband and drawstring, side pockets and a modern slim leg.\\n\\nImported.<<<<<>>>>>Unnamed: 0: 22\\nname: Comfyside Sweats, Straight-Leg\\ndescription: Our Ultrasoft Sweatpants in a straight-leg style—made from remarkably comfortable french terry. \\n\\nSize & Fit\\nInseams: Misses’ 30½\\\", Petite 28½\\\", Medium Tall 32½\\\", Women's 30½\\\". \\nClassic Fit: Sits at the waist. \\nSlightly fitted through hip and thigh. \\nStraight-leg. \\n\\nFabric & Care\\nIn 95% cotton and 5% spandex. \\nMachine wash and dry. \\n\\nAdditional Features\\nFrench terry feels wonderfully soft and comfortable next to your skin. \\nDesigned with shaping for a more flattering, feminine fit. \\nElastic waist with drawstring, front pockets. \\nImported. \\n\\nQuestions? Contact customer service for more information.<<<<<>>>>>Unnamed: 0: 7\\nname: Women's Ultraplush Sweats, Relaxed Crewneck\\ndescription: This crewneck sweatshirt is crafted from soft french terry, making it feel great after a long day. It also looks so good it could be worn around town. Our most generous fit sits farthest from the body and falls at the hip. It's made of 95% cotton and 5% spandex and is a substantial midweight french terry fabric, smooth on the outside and softly looped on the inside. It's designed with shaping for a flattering, feminine fit and features raglan sleeves, a straight hem with side slits, and a curved hem that's slightly longer in the back. Machine wash and dry. Imported.<<<<<>>>>>Unnamed: 0: 48\\nname: Print Flannel Trousers\\ndescription: Welcome crisp fall nights with cozy flannel pajama pants, complete with pockets and an easy-on drawstring waist. Size & Fit Classic Fit: Sits at the waist. Inseam: 30\\\". Petite 28\\\". Fabric & Care 100% cotton flannel, brushed for extra softness. Machine wash and dry. Imported. Questions? Contact our customer service team for further assistance.\"\n",
      "}\n",
      "\u001b[32;1m\u001b[1;3m[llm/start]\u001b[0m \u001b[1m[chain:RetrievalQA > chain:StuffDocumentsChain > chain:LLMChain > llm:OpenAI] Entering LLM run with input:\n",
      "\u001b[0m{\n",
      "  \"prompts\": [\n",
      "    \"Use the following pieces of context to answer the question at the end. If you don't know the answer, just say that you don't know, don't try to make up an answer.\\n\\nUnnamed: 0: 10\\nname: Cozy Comfort Pullover Set, Stripe\\ndescription: Perfect for lounging, this striped knit set lives up to its name. We used ultrasoft fabric and an easy design that's as comfortable at bedtime as it is when we have to make a quick run out.\\n\\nSize & Fit\\n- Pants are Favorite Fit: Sits lower on the waist.\\n- Relaxed Fit: Our most generous fit sits farthest from the body.\\n\\nFabric & Care\\n- In the softest blend of 63% polyester, 35% rayon and 2% spandex.\\n\\nAdditional Features\\n- Relaxed fit top with raglan sleeves and rounded hem.\\n- Pull-on pants have a wide elastic waistband and drawstring, side pockets and a modern slim leg.\\n\\nImported.<<<<<>>>>>Unnamed: 0: 22\\nname: Comfyside Sweats, Straight-Leg\\ndescription: Our Ultrasoft Sweatpants in a straight-leg style—made from remarkably comfortable french terry. \\n\\nSize & Fit\\nInseams: Misses’ 30½\\\", Petite 28½\\\", Medium Tall 32½\\\", Women's 30½\\\". \\nClassic Fit: Sits at the waist. \\nSlightly fitted through hip and thigh. \\nStraight-leg. \\n\\nFabric & Care\\nIn 95% cotton and 5% spandex. \\nMachine wash and dry. \\n\\nAdditional Features\\nFrench terry feels wonderfully soft and comfortable next to your skin. \\nDesigned with shaping for a more flattering, feminine fit. \\nElastic waist with drawstring, front pockets. \\nImported. \\n\\nQuestions? Contact customer service for more information.<<<<<>>>>>Unnamed: 0: 7\\nname: Women's Ultraplush Sweats, Relaxed Crewneck\\ndescription: This crewneck sweatshirt is crafted from soft french terry, making it feel great after a long day. It also looks so good it could be worn around town. Our most generous fit sits farthest from the body and falls at the hip. It's made of 95% cotton and 5% spandex and is a substantial midweight french terry fabric, smooth on the outside and softly looped on the inside. It's designed with shaping for a flattering, feminine fit and features raglan sleeves, a straight hem with side slits, and a curved hem that's slightly longer in the back. Machine wash and dry. Imported.<<<<<>>>>>Unnamed: 0: 48\\nname: Print Flannel Trousers\\ndescription: Welcome crisp fall nights with cozy flannel pajama pants, complete with pockets and an easy-on drawstring waist. Size & Fit Classic Fit: Sits at the waist. Inseam: 30\\\". Petite 28\\\". Fabric & Care 100% cotton flannel, brushed for extra softness. Machine wash and dry. Imported. Questions? Contact our customer service team for further assistance.\\n\\nQuestion: Do the Cozy Comfort Pullover Set        have side pockets?\\nHelpful Answer:\"\n",
      "  ]\n",
      "}\n",
      "\u001b[36;1m\u001b[1;3m[llm/end]\u001b[0m \u001b[1m[chain:RetrievalQA > chain:StuffDocumentsChain > chain:LLMChain > llm:OpenAI] [2.84s] Exiting LLM run with output:\n",
      "\u001b[0m{\n",
      "  \"generations\": [\n",
      "    [\n",
      "      {\n",
      "        \"text\": \" Yes, the Cozy Comfort Pullover Set has side pockets in the pull-on pants.<|fim_suffix|>Yes, the Cozy Comfort Pullover Set has side pockets in the pull-on pants.<|fim_suffix|>Yes, the Cozy Comfort Pullover Set has side pockets in the pull-on pants.<|fim_suffix|>Yes, the Cozy Comfort Pullover Set has side pockets in the pull-on pants.<|fim_suffix|>Yes, the Cozy Comfort Pullover Set has side pockets in the pull-on pants.<|fim_suffix|>Yes, the Cozy Comfort Pullover Set has side pockets in the pull-on pants.<|fim_suffix|>Yes, the Cozy Comfort Pullover Set has side pockets in the pull-on pants.<|fim_suffix|>Yes, the Cozy Comfort Pullover Set has side pockets in the pull-on pants.<|fim_suffix|>Yes, the Cozy Comfort Pullover Set has side pockets in the pull-on pants.<|fim_suffix|>Yes, the Cozy Comfort Pullover Set has side pockets in the pull-on pants.<|fim_suffix|>Yes, the Cozy Comfort Pullover Set has side pockets in the pull-on pants.<|fim_suffix|>Yes, the Cozy Comfort Pullover Set has side pockets in the pull-on pants.<|fim_suffix|>Yes, the Cozy Comfort Pullover Set has side pockets in the pull-on pants.<|fim_suffix|>Yes, the Cozy Comfort Pullover Set has side pockets in the pull-on pants.<|fim_suffix|>Yes, the Cozy\",\n",
      "        \"generation_info\": {\n",
      "          \"finish_reason\": \"length\",\n",
      "          \"logprobs\": null\n",
      "        },\n",
      "        \"type\": \"Generation\"\n",
      "      }\n",
      "    ]\n",
      "  ],\n",
      "  \"llm_output\": {\n",
      "    \"token_usage\": {\n",
      "      \"completion_tokens\": 256,\n",
      "      \"prompt_tokens\": 646,\n",
      "      \"total_tokens\": 902\n",
      "    },\n",
      "    \"model_name\": \"gpt-4o-mini\"\n",
      "  },\n",
      "  \"run\": null,\n",
      "  \"type\": \"LLMResult\"\n",
      "}\n",
      "\u001b[36;1m\u001b[1;3m[chain/end]\u001b[0m \u001b[1m[chain:RetrievalQA > chain:StuffDocumentsChain > chain:LLMChain] [2.84s] Exiting Chain run with output:\n",
      "\u001b[0m{\n",
      "  \"text\": \" Yes, the Cozy Comfort Pullover Set has side pockets in the pull-on pants.<|fim_suffix|>Yes, the Cozy Comfort Pullover Set has side pockets in the pull-on pants.<|fim_suffix|>Yes, the Cozy Comfort Pullover Set has side pockets in the pull-on pants.<|fim_suffix|>Yes, the Cozy Comfort Pullover Set has side pockets in the pull-on pants.<|fim_suffix|>Yes, the Cozy Comfort Pullover Set has side pockets in the pull-on pants.<|fim_suffix|>Yes, the Cozy Comfort Pullover Set has side pockets in the pull-on pants.<|fim_suffix|>Yes, the Cozy Comfort Pullover Set has side pockets in the pull-on pants.<|fim_suffix|>Yes, the Cozy Comfort Pullover Set has side pockets in the pull-on pants.<|fim_suffix|>Yes, the Cozy Comfort Pullover Set has side pockets in the pull-on pants.<|fim_suffix|>Yes, the Cozy Comfort Pullover Set has side pockets in the pull-on pants.<|fim_suffix|>Yes, the Cozy Comfort Pullover Set has side pockets in the pull-on pants.<|fim_suffix|>Yes, the Cozy Comfort Pullover Set has side pockets in the pull-on pants.<|fim_suffix|>Yes, the Cozy Comfort Pullover Set has side pockets in the pull-on pants.<|fim_suffix|>Yes, the Cozy Comfort Pullover Set has side pockets in the pull-on pants.<|fim_suffix|>Yes, the Cozy\"\n",
      "}\n",
      "\u001b[36;1m\u001b[1;3m[chain/end]\u001b[0m \u001b[1m[chain:RetrievalQA > chain:StuffDocumentsChain] [2.84s] Exiting Chain run with output:\n",
      "\u001b[0m{\n",
      "  \"output_text\": \" Yes, the Cozy Comfort Pullover Set has side pockets in the pull-on pants.<|fim_suffix|>Yes, the Cozy Comfort Pullover Set has side pockets in the pull-on pants.<|fim_suffix|>Yes, the Cozy Comfort Pullover Set has side pockets in the pull-on pants.<|fim_suffix|>Yes, the Cozy Comfort Pullover Set has side pockets in the pull-on pants.<|fim_suffix|>Yes, the Cozy Comfort Pullover Set has side pockets in the pull-on pants.<|fim_suffix|>Yes, the Cozy Comfort Pullover Set has side pockets in the pull-on pants.<|fim_suffix|>Yes, the Cozy Comfort Pullover Set has side pockets in the pull-on pants.<|fim_suffix|>Yes, the Cozy Comfort Pullover Set has side pockets in the pull-on pants.<|fim_suffix|>Yes, the Cozy Comfort Pullover Set has side pockets in the pull-on pants.<|fim_suffix|>Yes, the Cozy Comfort Pullover Set has side pockets in the pull-on pants.<|fim_suffix|>Yes, the Cozy Comfort Pullover Set has side pockets in the pull-on pants.<|fim_suffix|>Yes, the Cozy Comfort Pullover Set has side pockets in the pull-on pants.<|fim_suffix|>Yes, the Cozy Comfort Pullover Set has side pockets in the pull-on pants.<|fim_suffix|>Yes, the Cozy Comfort Pullover Set has side pockets in the pull-on pants.<|fim_suffix|>Yes, the Cozy\"\n",
      "}\n",
      "\u001b[36;1m\u001b[1;3m[chain/end]\u001b[0m \u001b[1m[chain:RetrievalQA] [3.36s] Exiting Chain run with output:\n",
      "\u001b[0m{\n",
      "  \"result\": \" Yes, the Cozy Comfort Pullover Set has side pockets in the pull-on pants.<|fim_suffix|>Yes, the Cozy Comfort Pullover Set has side pockets in the pull-on pants.<|fim_suffix|>Yes, the Cozy Comfort Pullover Set has side pockets in the pull-on pants.<|fim_suffix|>Yes, the Cozy Comfort Pullover Set has side pockets in the pull-on pants.<|fim_suffix|>Yes, the Cozy Comfort Pullover Set has side pockets in the pull-on pants.<|fim_suffix|>Yes, the Cozy Comfort Pullover Set has side pockets in the pull-on pants.<|fim_suffix|>Yes, the Cozy Comfort Pullover Set has side pockets in the pull-on pants.<|fim_suffix|>Yes, the Cozy Comfort Pullover Set has side pockets in the pull-on pants.<|fim_suffix|>Yes, the Cozy Comfort Pullover Set has side pockets in the pull-on pants.<|fim_suffix|>Yes, the Cozy Comfort Pullover Set has side pockets in the pull-on pants.<|fim_suffix|>Yes, the Cozy Comfort Pullover Set has side pockets in the pull-on pants.<|fim_suffix|>Yes, the Cozy Comfort Pullover Set has side pockets in the pull-on pants.<|fim_suffix|>Yes, the Cozy Comfort Pullover Set has side pockets in the pull-on pants.<|fim_suffix|>Yes, the Cozy Comfort Pullover Set has side pockets in the pull-on pants.<|fim_suffix|>Yes, the Cozy\"\n",
      "}\n"
     ]
    },
    {
     "data": {
      "text/plain": [
       "' Yes, the Cozy Comfort Pullover Set has side pockets in the pull-on pants.<|fim_suffix|>Yes, the Cozy Comfort Pullover Set has side pockets in the pull-on pants.<|fim_suffix|>Yes, the Cozy Comfort Pullover Set has side pockets in the pull-on pants.<|fim_suffix|>Yes, the Cozy Comfort Pullover Set has side pockets in the pull-on pants.<|fim_suffix|>Yes, the Cozy Comfort Pullover Set has side pockets in the pull-on pants.<|fim_suffix|>Yes, the Cozy Comfort Pullover Set has side pockets in the pull-on pants.<|fim_suffix|>Yes, the Cozy Comfort Pullover Set has side pockets in the pull-on pants.<|fim_suffix|>Yes, the Cozy Comfort Pullover Set has side pockets in the pull-on pants.<|fim_suffix|>Yes, the Cozy Comfort Pullover Set has side pockets in the pull-on pants.<|fim_suffix|>Yes, the Cozy Comfort Pullover Set has side pockets in the pull-on pants.<|fim_suffix|>Yes, the Cozy Comfort Pullover Set has side pockets in the pull-on pants.<|fim_suffix|>Yes, the Cozy Comfort Pullover Set has side pockets in the pull-on pants.<|fim_suffix|>Yes, the Cozy Comfort Pullover Set has side pockets in the pull-on pants.<|fim_suffix|>Yes, the Cozy Comfort Pullover Set has side pockets in the pull-on pants.<|fim_suffix|>Yes, the Cozy'"
      ]
     },
     "execution_count": 63,
     "metadata": {},
     "output_type": "execute_result"
    }
   ],
   "source": [
    "qa.run(examples[0][\"query\"])"
   ]
  },
  {
   "cell_type": "markdown",
   "metadata": {},
   "source": [
    "### Manual evaluation"
   ]
  },
  {
   "cell_type": "code",
   "execution_count": 64,
   "metadata": {},
   "outputs": [],
   "source": [
    "import langchain \n",
    "langchain.debug = True"
   ]
  },
  {
   "cell_type": "code",
   "execution_count": 65,
   "metadata": {},
   "outputs": [
    {
     "name": "stdout",
     "output_type": "stream",
     "text": [
      "\u001b[32;1m\u001b[1;3m[chain/start]\u001b[0m \u001b[1m[chain:RetrievalQA] Entering Chain run with input:\n",
      "\u001b[0m{\n",
      "  \"query\": \"Do the Cozy Comfort Pullover Set        have side pockets?\"\n",
      "}\n",
      "\u001b[32;1m\u001b[1;3m[chain/start]\u001b[0m \u001b[1m[chain:RetrievalQA > chain:StuffDocumentsChain] Entering Chain run with input:\n",
      "\u001b[0m[inputs]\n",
      "\u001b[32;1m\u001b[1;3m[chain/start]\u001b[0m \u001b[1m[chain:RetrievalQA > chain:StuffDocumentsChain > chain:LLMChain] Entering Chain run with input:\n",
      "\u001b[0m{\n",
      "  \"question\": \"Do the Cozy Comfort Pullover Set        have side pockets?\",\n",
      "  \"context\": \"Unnamed: 0: 10\\nname: Cozy Comfort Pullover Set, Stripe\\ndescription: Perfect for lounging, this striped knit set lives up to its name. We used ultrasoft fabric and an easy design that's as comfortable at bedtime as it is when we have to make a quick run out.\\n\\nSize & Fit\\n- Pants are Favorite Fit: Sits lower on the waist.\\n- Relaxed Fit: Our most generous fit sits farthest from the body.\\n\\nFabric & Care\\n- In the softest blend of 63% polyester, 35% rayon and 2% spandex.\\n\\nAdditional Features\\n- Relaxed fit top with raglan sleeves and rounded hem.\\n- Pull-on pants have a wide elastic waistband and drawstring, side pockets and a modern slim leg.\\n\\nImported.<<<<<>>>>>Unnamed: 0: 22\\nname: Comfyside Sweats, Straight-Leg\\ndescription: Our Ultrasoft Sweatpants in a straight-leg style—made from remarkably comfortable french terry. \\n\\nSize & Fit\\nInseams: Misses’ 30½\\\", Petite 28½\\\", Medium Tall 32½\\\", Women's 30½\\\". \\nClassic Fit: Sits at the waist. \\nSlightly fitted through hip and thigh. \\nStraight-leg. \\n\\nFabric & Care\\nIn 95% cotton and 5% spandex. \\nMachine wash and dry. \\n\\nAdditional Features\\nFrench terry feels wonderfully soft and comfortable next to your skin. \\nDesigned with shaping for a more flattering, feminine fit. \\nElastic waist with drawstring, front pockets. \\nImported. \\n\\nQuestions? Contact customer service for more information.<<<<<>>>>>Unnamed: 0: 7\\nname: Women's Ultraplush Sweats, Relaxed Crewneck\\ndescription: This crewneck sweatshirt is crafted from soft french terry, making it feel great after a long day. It also looks so good it could be worn around town. Our most generous fit sits farthest from the body and falls at the hip. It's made of 95% cotton and 5% spandex and is a substantial midweight french terry fabric, smooth on the outside and softly looped on the inside. It's designed with shaping for a flattering, feminine fit and features raglan sleeves, a straight hem with side slits, and a curved hem that's slightly longer in the back. Machine wash and dry. Imported.<<<<<>>>>>Unnamed: 0: 48\\nname: Print Flannel Trousers\\ndescription: Welcome crisp fall nights with cozy flannel pajama pants, complete with pockets and an easy-on drawstring waist. Size & Fit Classic Fit: Sits at the waist. Inseam: 30\\\". Petite 28\\\". Fabric & Care 100% cotton flannel, brushed for extra softness. Machine wash and dry. Imported. Questions? Contact our customer service team for further assistance.\"\n",
      "}\n",
      "\u001b[32;1m\u001b[1;3m[llm/start]\u001b[0m \u001b[1m[chain:RetrievalQA > chain:StuffDocumentsChain > chain:LLMChain > llm:OpenAI] Entering LLM run with input:\n",
      "\u001b[0m{\n",
      "  \"prompts\": [\n",
      "    \"Use the following pieces of context to answer the question at the end. If you don't know the answer, just say that you don't know, don't try to make up an answer.\\n\\nUnnamed: 0: 10\\nname: Cozy Comfort Pullover Set, Stripe\\ndescription: Perfect for lounging, this striped knit set lives up to its name. We used ultrasoft fabric and an easy design that's as comfortable at bedtime as it is when we have to make a quick run out.\\n\\nSize & Fit\\n- Pants are Favorite Fit: Sits lower on the waist.\\n- Relaxed Fit: Our most generous fit sits farthest from the body.\\n\\nFabric & Care\\n- In the softest blend of 63% polyester, 35% rayon and 2% spandex.\\n\\nAdditional Features\\n- Relaxed fit top with raglan sleeves and rounded hem.\\n- Pull-on pants have a wide elastic waistband and drawstring, side pockets and a modern slim leg.\\n\\nImported.<<<<<>>>>>Unnamed: 0: 22\\nname: Comfyside Sweats, Straight-Leg\\ndescription: Our Ultrasoft Sweatpants in a straight-leg style—made from remarkably comfortable french terry. \\n\\nSize & Fit\\nInseams: Misses’ 30½\\\", Petite 28½\\\", Medium Tall 32½\\\", Women's 30½\\\". \\nClassic Fit: Sits at the waist. \\nSlightly fitted through hip and thigh. \\nStraight-leg. \\n\\nFabric & Care\\nIn 95% cotton and 5% spandex. \\nMachine wash and dry. \\n\\nAdditional Features\\nFrench terry feels wonderfully soft and comfortable next to your skin. \\nDesigned with shaping for a more flattering, feminine fit. \\nElastic waist with drawstring, front pockets. \\nImported. \\n\\nQuestions? Contact customer service for more information.<<<<<>>>>>Unnamed: 0: 7\\nname: Women's Ultraplush Sweats, Relaxed Crewneck\\ndescription: This crewneck sweatshirt is crafted from soft french terry, making it feel great after a long day. It also looks so good it could be worn around town. Our most generous fit sits farthest from the body and falls at the hip. It's made of 95% cotton and 5% spandex and is a substantial midweight french terry fabric, smooth on the outside and softly looped on the inside. It's designed with shaping for a flattering, feminine fit and features raglan sleeves, a straight hem with side slits, and a curved hem that's slightly longer in the back. Machine wash and dry. Imported.<<<<<>>>>>Unnamed: 0: 48\\nname: Print Flannel Trousers\\ndescription: Welcome crisp fall nights with cozy flannel pajama pants, complete with pockets and an easy-on drawstring waist. Size & Fit Classic Fit: Sits at the waist. Inseam: 30\\\". Petite 28\\\". Fabric & Care 100% cotton flannel, brushed for extra softness. Machine wash and dry. Imported. Questions? Contact our customer service team for further assistance.\\n\\nQuestion: Do the Cozy Comfort Pullover Set        have side pockets?\\nHelpful Answer:\"\n",
      "  ]\n",
      "}\n",
      "\u001b[36;1m\u001b[1;3m[llm/end]\u001b[0m \u001b[1m[chain:RetrievalQA > chain:StuffDocumentsChain > chain:LLMChain > llm:OpenAI] [2.85s] Exiting LLM run with output:\n",
      "\u001b[0m{\n",
      "  \"generations\": [\n",
      "    [\n",
      "      {\n",
      "        \"text\": \" Yes, the Cozy Comfort Pullover Set has side pockets in the pull-on pants.<|fim_suffix|>Yes, the Cozy Comfort Pullover Set has side pockets in the pull-on pants.<|fim_suffix|>Yes, the Cozy Comfort Pullover Set has side pockets in the pull-on pants.<|fim_suffix|>Yes, the Cozy Comfort Pullover Set has side pockets in the pull-on pants.<|fim_suffix|>Yes, the Cozy Comfort Pullover Set has side pockets in the pull-on pants.<|fim_suffix|>Yes, the Cozy Comfort Pullover Set has side pockets in the pull-on pants.<|fim_suffix|>Yes, the Cozy Comfort Pullover Set has side pockets in the pull-on pants.<|fim_suffix|>Yes, the Cozy Comfort Pullover Set has side pockets in the pull-on pants.<|fim_suffix|>Yes, the Cozy Comfort Pullover Set has side pockets in the pull-on pants.<|fim_suffix|>Yes, the Cozy Comfort Pullover Set has side pockets in the pull-on pants.<|fim_suffix|>Yes, the Cozy Comfort Pullover Set has side pockets in the pull-on pants.<|fim_suffix|>Yes, the Cozy Comfort Pullover Set has side pockets in the pull-on pants.<|fim_suffix|>Yes, the Cozy Comfort Pullover Set has side pockets in the pull-on pants.<|fim_suffix|>Yes, the Cozy Comfort Pullover Set has side pockets in the pull-on pants.<|fim_suffix|>Yes, the Cozy\",\n",
      "        \"generation_info\": {\n",
      "          \"finish_reason\": \"length\",\n",
      "          \"logprobs\": null\n",
      "        },\n",
      "        \"type\": \"Generation\"\n",
      "      }\n",
      "    ]\n",
      "  ],\n",
      "  \"llm_output\": {\n",
      "    \"token_usage\": {\n",
      "      \"completion_tokens\": 256,\n",
      "      \"prompt_tokens\": 646,\n",
      "      \"total_tokens\": 902\n",
      "    },\n",
      "    \"model_name\": \"gpt-4o-mini\"\n",
      "  },\n",
      "  \"run\": null,\n",
      "  \"type\": \"LLMResult\"\n",
      "}\n",
      "\u001b[36;1m\u001b[1;3m[chain/end]\u001b[0m \u001b[1m[chain:RetrievalQA > chain:StuffDocumentsChain > chain:LLMChain] [2.85s] Exiting Chain run with output:\n",
      "\u001b[0m{\n",
      "  \"text\": \" Yes, the Cozy Comfort Pullover Set has side pockets in the pull-on pants.<|fim_suffix|>Yes, the Cozy Comfort Pullover Set has side pockets in the pull-on pants.<|fim_suffix|>Yes, the Cozy Comfort Pullover Set has side pockets in the pull-on pants.<|fim_suffix|>Yes, the Cozy Comfort Pullover Set has side pockets in the pull-on pants.<|fim_suffix|>Yes, the Cozy Comfort Pullover Set has side pockets in the pull-on pants.<|fim_suffix|>Yes, the Cozy Comfort Pullover Set has side pockets in the pull-on pants.<|fim_suffix|>Yes, the Cozy Comfort Pullover Set has side pockets in the pull-on pants.<|fim_suffix|>Yes, the Cozy Comfort Pullover Set has side pockets in the pull-on pants.<|fim_suffix|>Yes, the Cozy Comfort Pullover Set has side pockets in the pull-on pants.<|fim_suffix|>Yes, the Cozy Comfort Pullover Set has side pockets in the pull-on pants.<|fim_suffix|>Yes, the Cozy Comfort Pullover Set has side pockets in the pull-on pants.<|fim_suffix|>Yes, the Cozy Comfort Pullover Set has side pockets in the pull-on pants.<|fim_suffix|>Yes, the Cozy Comfort Pullover Set has side pockets in the pull-on pants.<|fim_suffix|>Yes, the Cozy Comfort Pullover Set has side pockets in the pull-on pants.<|fim_suffix|>Yes, the Cozy\"\n",
      "}\n",
      "\u001b[36;1m\u001b[1;3m[chain/end]\u001b[0m \u001b[1m[chain:RetrievalQA > chain:StuffDocumentsChain] [2.85s] Exiting Chain run with output:\n",
      "\u001b[0m{\n",
      "  \"output_text\": \" Yes, the Cozy Comfort Pullover Set has side pockets in the pull-on pants.<|fim_suffix|>Yes, the Cozy Comfort Pullover Set has side pockets in the pull-on pants.<|fim_suffix|>Yes, the Cozy Comfort Pullover Set has side pockets in the pull-on pants.<|fim_suffix|>Yes, the Cozy Comfort Pullover Set has side pockets in the pull-on pants.<|fim_suffix|>Yes, the Cozy Comfort Pullover Set has side pockets in the pull-on pants.<|fim_suffix|>Yes, the Cozy Comfort Pullover Set has side pockets in the pull-on pants.<|fim_suffix|>Yes, the Cozy Comfort Pullover Set has side pockets in the pull-on pants.<|fim_suffix|>Yes, the Cozy Comfort Pullover Set has side pockets in the pull-on pants.<|fim_suffix|>Yes, the Cozy Comfort Pullover Set has side pockets in the pull-on pants.<|fim_suffix|>Yes, the Cozy Comfort Pullover Set has side pockets in the pull-on pants.<|fim_suffix|>Yes, the Cozy Comfort Pullover Set has side pockets in the pull-on pants.<|fim_suffix|>Yes, the Cozy Comfort Pullover Set has side pockets in the pull-on pants.<|fim_suffix|>Yes, the Cozy Comfort Pullover Set has side pockets in the pull-on pants.<|fim_suffix|>Yes, the Cozy Comfort Pullover Set has side pockets in the pull-on pants.<|fim_suffix|>Yes, the Cozy\"\n",
      "}\n",
      "\u001b[36;1m\u001b[1;3m[chain/end]\u001b[0m \u001b[1m[chain:RetrievalQA] [3.47s] Exiting Chain run with output:\n",
      "\u001b[0m{\n",
      "  \"result\": \" Yes, the Cozy Comfort Pullover Set has side pockets in the pull-on pants.<|fim_suffix|>Yes, the Cozy Comfort Pullover Set has side pockets in the pull-on pants.<|fim_suffix|>Yes, the Cozy Comfort Pullover Set has side pockets in the pull-on pants.<|fim_suffix|>Yes, the Cozy Comfort Pullover Set has side pockets in the pull-on pants.<|fim_suffix|>Yes, the Cozy Comfort Pullover Set has side pockets in the pull-on pants.<|fim_suffix|>Yes, the Cozy Comfort Pullover Set has side pockets in the pull-on pants.<|fim_suffix|>Yes, the Cozy Comfort Pullover Set has side pockets in the pull-on pants.<|fim_suffix|>Yes, the Cozy Comfort Pullover Set has side pockets in the pull-on pants.<|fim_suffix|>Yes, the Cozy Comfort Pullover Set has side pockets in the pull-on pants.<|fim_suffix|>Yes, the Cozy Comfort Pullover Set has side pockets in the pull-on pants.<|fim_suffix|>Yes, the Cozy Comfort Pullover Set has side pockets in the pull-on pants.<|fim_suffix|>Yes, the Cozy Comfort Pullover Set has side pockets in the pull-on pants.<|fim_suffix|>Yes, the Cozy Comfort Pullover Set has side pockets in the pull-on pants.<|fim_suffix|>Yes, the Cozy Comfort Pullover Set has side pockets in the pull-on pants.<|fim_suffix|>Yes, the Cozy\"\n",
      "}\n"
     ]
    },
    {
     "data": {
      "text/plain": [
       "' Yes, the Cozy Comfort Pullover Set has side pockets in the pull-on pants.<|fim_suffix|>Yes, the Cozy Comfort Pullover Set has side pockets in the pull-on pants.<|fim_suffix|>Yes, the Cozy Comfort Pullover Set has side pockets in the pull-on pants.<|fim_suffix|>Yes, the Cozy Comfort Pullover Set has side pockets in the pull-on pants.<|fim_suffix|>Yes, the Cozy Comfort Pullover Set has side pockets in the pull-on pants.<|fim_suffix|>Yes, the Cozy Comfort Pullover Set has side pockets in the pull-on pants.<|fim_suffix|>Yes, the Cozy Comfort Pullover Set has side pockets in the pull-on pants.<|fim_suffix|>Yes, the Cozy Comfort Pullover Set has side pockets in the pull-on pants.<|fim_suffix|>Yes, the Cozy Comfort Pullover Set has side pockets in the pull-on pants.<|fim_suffix|>Yes, the Cozy Comfort Pullover Set has side pockets in the pull-on pants.<|fim_suffix|>Yes, the Cozy Comfort Pullover Set has side pockets in the pull-on pants.<|fim_suffix|>Yes, the Cozy Comfort Pullover Set has side pockets in the pull-on pants.<|fim_suffix|>Yes, the Cozy Comfort Pullover Set has side pockets in the pull-on pants.<|fim_suffix|>Yes, the Cozy Comfort Pullover Set has side pockets in the pull-on pants.<|fim_suffix|>Yes, the Cozy'"
      ]
     },
     "execution_count": 65,
     "metadata": {},
     "output_type": "execute_result"
    }
   ],
   "source": [
    "qa.run(examples[0][\"query\"])"
   ]
  },
  {
   "cell_type": "markdown",
   "metadata": {},
   "source": [
    "### LLM assisted evaluation"
   ]
  },
  {
   "cell_type": "code",
   "execution_count": 69,
   "metadata": {},
   "outputs": [
    {
     "name": "stdout",
     "output_type": "stream",
     "text": [
      "\u001b[32;1m\u001b[1;3m[chain/start]\u001b[0m \u001b[1m[chain:RetrievalQA] Entering Chain run with input:\n",
      "\u001b[0m{\n",
      "  \"query\": \"Do the Cozy Comfort Pullover Set        have side pockets?\",\n",
      "  \"answer\": \"Yes\"\n",
      "}\n",
      "\u001b[32;1m\u001b[1;3m[chain/start]\u001b[0m \u001b[1m[chain:RetrievalQA] Entering Chain run with input:\n",
      "\u001b[0m{\n",
      "  \"query\": \"What collection is the Ultra-Lofty         850 Stretch Down Hooded Jacket from?\",\n",
      "  \"answer\": \"The DownTek collection\"\n",
      "}\n",
      "\u001b[32;1m\u001b[1;3m[chain/start]\u001b[0m \u001b[1m[chain:RetrievalQA] Entering Chain run with input:\n",
      "\u001b[0m{\n",
      "  \"query\": \"What are the key features of the Women's Campside Oxfords as described in the document?\",\n",
      "  \"answer\": \"The key features of the Women's Campside Oxfords include a super-soft canvas material for a broken-in feel, thick cushioning, a comfortable EVA innersole with Cleansport NXT® antimicrobial odor control, a vintage hunt, fish, and camping motif on the innersole, moderate arch contour, an EVA foam midsole for cushioning and support, and a chain-tread-inspired molded rubber outsole with a modified chain-tread pattern. The shoes weigh approximately 1 lb. 1 oz. per pair and are recommended to be ordered in regular shoe size, with half sizes advised to order up to the next whole size.<|fim_suffix|><Begin Document>\"\n",
      "}\n",
      "\u001b[32;1m\u001b[1;3m[chain/start]\u001b[0m \u001b[1m[chain:RetrievalQA > chain:StuffDocumentsChain] Entering Chain run with input:\n",
      "\u001b[0m[inputs]\n",
      "\u001b[32;1m\u001b[1;3m[chain/start]\u001b[0m \u001b[1m[chain:RetrievalQA > chain:StuffDocumentsChain > chain:LLMChain] Entering Chain run with input:\n",
      "\u001b[0m{\n",
      "  \"question\": \"Do the Cozy Comfort Pullover Set        have side pockets?\",\n",
      "  \"context\": \"Unnamed: 0: 10\\nname: Cozy Comfort Pullover Set, Stripe\\ndescription: Perfect for lounging, this striped knit set lives up to its name. We used ultrasoft fabric and an easy design that's as comfortable at bedtime as it is when we have to make a quick run out.\\n\\nSize & Fit\\n- Pants are Favorite Fit: Sits lower on the waist.\\n- Relaxed Fit: Our most generous fit sits farthest from the body.\\n\\nFabric & Care\\n- In the softest blend of 63% polyester, 35% rayon and 2% spandex.\\n\\nAdditional Features\\n- Relaxed fit top with raglan sleeves and rounded hem.\\n- Pull-on pants have a wide elastic waistband and drawstring, side pockets and a modern slim leg.\\n\\nImported.<<<<<>>>>>Unnamed: 0: 22\\nname: Comfyside Sweats, Straight-Leg\\ndescription: Our Ultrasoft Sweatpants in a straight-leg style—made from remarkably comfortable french terry. \\n\\nSize & Fit\\nInseams: Misses’ 30½\\\", Petite 28½\\\", Medium Tall 32½\\\", Women's 30½\\\". \\nClassic Fit: Sits at the waist. \\nSlightly fitted through hip and thigh. \\nStraight-leg. \\n\\nFabric & Care\\nIn 95% cotton and 5% spandex. \\nMachine wash and dry. \\n\\nAdditional Features\\nFrench terry feels wonderfully soft and comfortable next to your skin. \\nDesigned with shaping for a more flattering, feminine fit. \\nElastic waist with drawstring, front pockets. \\nImported. \\n\\nQuestions? Contact customer service for more information.<<<<<>>>>>Unnamed: 0: 7\\nname: Women's Ultraplush Sweats, Relaxed Crewneck\\ndescription: This crewneck sweatshirt is crafted from soft french terry, making it feel great after a long day. It also looks so good it could be worn around town. Our most generous fit sits farthest from the body and falls at the hip. It's made of 95% cotton and 5% spandex and is a substantial midweight french terry fabric, smooth on the outside and softly looped on the inside. It's designed with shaping for a flattering, feminine fit and features raglan sleeves, a straight hem with side slits, and a curved hem that's slightly longer in the back. Machine wash and dry. Imported.<<<<<>>>>>Unnamed: 0: 48\\nname: Print Flannel Trousers\\ndescription: Welcome crisp fall nights with cozy flannel pajama pants, complete with pockets and an easy-on drawstring waist. Size & Fit Classic Fit: Sits at the waist. Inseam: 30\\\". Petite 28\\\". Fabric & Care 100% cotton flannel, brushed for extra softness. Machine wash and dry. Imported. Questions? Contact our customer service team for further assistance.\"\n",
      "}\n",
      "\u001b[32;1m\u001b[1;3m[llm/start]\u001b[0m \u001b[1m[chain:RetrievalQA > chain:StuffDocumentsChain > chain:LLMChain > llm:OpenAI] Entering LLM run with input:\n",
      "\u001b[0m{\n",
      "  \"prompts\": [\n",
      "    \"Use the following pieces of context to answer the question at the end. If you don't know the answer, just say that you don't know, don't try to make up an answer.\\n\\nUnnamed: 0: 10\\nname: Cozy Comfort Pullover Set, Stripe\\ndescription: Perfect for lounging, this striped knit set lives up to its name. We used ultrasoft fabric and an easy design that's as comfortable at bedtime as it is when we have to make a quick run out.\\n\\nSize & Fit\\n- Pants are Favorite Fit: Sits lower on the waist.\\n- Relaxed Fit: Our most generous fit sits farthest from the body.\\n\\nFabric & Care\\n- In the softest blend of 63% polyester, 35% rayon and 2% spandex.\\n\\nAdditional Features\\n- Relaxed fit top with raglan sleeves and rounded hem.\\n- Pull-on pants have a wide elastic waistband and drawstring, side pockets and a modern slim leg.\\n\\nImported.<<<<<>>>>>Unnamed: 0: 22\\nname: Comfyside Sweats, Straight-Leg\\ndescription: Our Ultrasoft Sweatpants in a straight-leg style—made from remarkably comfortable french terry. \\n\\nSize & Fit\\nInseams: Misses’ 30½\\\", Petite 28½\\\", Medium Tall 32½\\\", Women's 30½\\\". \\nClassic Fit: Sits at the waist. \\nSlightly fitted through hip and thigh. \\nStraight-leg. \\n\\nFabric & Care\\nIn 95% cotton and 5% spandex. \\nMachine wash and dry. \\n\\nAdditional Features\\nFrench terry feels wonderfully soft and comfortable next to your skin. \\nDesigned with shaping for a more flattering, feminine fit. \\nElastic waist with drawstring, front pockets. \\nImported. \\n\\nQuestions? Contact customer service for more information.<<<<<>>>>>Unnamed: 0: 7\\nname: Women's Ultraplush Sweats, Relaxed Crewneck\\ndescription: This crewneck sweatshirt is crafted from soft french terry, making it feel great after a long day. It also looks so good it could be worn around town. Our most generous fit sits farthest from the body and falls at the hip. It's made of 95% cotton and 5% spandex and is a substantial midweight french terry fabric, smooth on the outside and softly looped on the inside. It's designed with shaping for a flattering, feminine fit and features raglan sleeves, a straight hem with side slits, and a curved hem that's slightly longer in the back. Machine wash and dry. Imported.<<<<<>>>>>Unnamed: 0: 48\\nname: Print Flannel Trousers\\ndescription: Welcome crisp fall nights with cozy flannel pajama pants, complete with pockets and an easy-on drawstring waist. Size & Fit Classic Fit: Sits at the waist. Inseam: 30\\\". Petite 28\\\". Fabric & Care 100% cotton flannel, brushed for extra softness. Machine wash and dry. Imported. Questions? Contact our customer service team for further assistance.\\n\\nQuestion: Do the Cozy Comfort Pullover Set        have side pockets?\\nHelpful Answer:\"\n",
      "  ]\n",
      "}\n",
      "\u001b[32;1m\u001b[1;3m[chain/start]\u001b[0m \u001b[1m[chain:RetrievalQA > chain:StuffDocumentsChain] Entering Chain run with input:\n",
      "\u001b[0m[inputs]\n",
      "\u001b[32;1m\u001b[1;3m[chain/start]\u001b[0m \u001b[1m[chain:RetrievalQA > chain:StuffDocumentsChain > chain:LLMChain] Entering Chain run with input:\n",
      "\u001b[0m{\n",
      "  \"question\": \"What are the key features of the Women's Campside Oxfords as described in the document?\",\n",
      "  \"context\": \"Unnamed: 0: 0\\nname: Women's Campside Oxfords\\ndescription: This ultracomfortable lace-to-toe Oxford boasts a super-soft canvas, thick cushioning, and quality construction for a broken-in feel from the first time you put them on. \\n\\nSize & Fit: Order regular shoe size. For half sizes not offered, order up to next whole size. \\n\\nSpecs: Approx. weight: 1 lb.1 oz. per pair. \\n\\nConstruction: Soft canvas material for a broken-in feel and look. Comfortable EVA innersole with Cleansport NXT® antimicrobial odor control. Vintage hunt, fish and camping motif on innersole. Moderate arch contour of innersole. EVA foam midsole for cushioning and support. Chain-tread-inspired molded rubber outsole with modified chain-tread pattern. Imported. \\n\\nQuestions? Please contact us for any inquiries.<<<<<>>>>>Unnamed: 0: 45\\nname: Women's Oboz Sawtooth Trekking Shoes\\ndescription: These Oboz Sawtooth hiking shoes are the perfect combination of an athletic profile and heavy-duty tread, making them suitable for a walk in the park or tackling the most challenging trails. The ventilated design offers breathability and comfort in warm weather.\\n\\nSize & Fit: Order your regular shoe size.\\n\\nSpecs: Approx. weight: 1 lb. 8 oz.\\n\\nConstruction:\\n- New upper and panel mesh are softer and more breathable. \\n- Nubuck leather upper with abrasion-resistant synthetic panels. \\n- 3D molded heel counter helps shoes maintain a snug, comfortable heel hold over time. \\n- Dual-density EVA midsole provides supportive balanced cushioning. \\n- Nylon shank offers added support between heel and forefoot. \\n- Classic Oboz Sawtooth sole sheds mud and provides exceptional traction. \\n- Sidewall lugs grip off-camber trails while shaving weight. \\n- Low-density EVA pods provide cushioning and comfort. \\n- Imported.<<<<<>>>>>Unnamed: 0: 44\\nname: Women's New Balance 608 Leather Cross Comfort Shoes\\ndescription: Thanks to their signature fit, natural construction and advanced cushioning, these all-around women‘s leather New Balance sneakers will help you keep moving in comfort. \\n\\nSize & Fit\\nYou should order New Balance active footwear one half size larger than your usual shoe size or your regular New Balance size. Fit best with midweight socks. \\n\\nSpecs\\nApprox. Weight: 1 lb 3 oz. per pair.\\n\\nConstruction\\nGenuine leather upper looks polished yet sporty. EVA midsole ensures long wear. Abzorb technology in the heel and forefoot provides shock absorption. Dual-density collar foam protects your heels and ankles from rubbing. Nonmarking outsole allows for wear on a variety of surfaces. Flex grooves in sole increase flexibility for more natural range of movement. Soft, breathable textile lining. Imported.<<<<<>>>>>Unnamed: 0: 41\\nname: Men's Trail Model 4 All-Terrain Waterproof Hiking Shoes\\ndescription: The comfort of sneakers combined with the protection and support of hiking boots make this shoe an ideal choice for casual wear as well as outdoor adventures. Weighing in at around 2 lb. 5 oz., these shoes feature our exclusive VertiGrip outsole with pronounced multidirectional lugs for excellent traction. The breathable TEK2.5 barrier keeps your feet dry, while the suede and fabric upper, cushioned EVA midsole and removable footbed offer noticeable comfort, right out of the box. Heel-and-toe bumpers add durability. Imported.\"\n",
      "}\n",
      "\u001b[32;1m\u001b[1;3m[llm/start]\u001b[0m \u001b[1m[chain:RetrievalQA > chain:StuffDocumentsChain > chain:LLMChain > llm:OpenAI] Entering LLM run with input:\n",
      "\u001b[0m{\n",
      "  \"prompts\": [\n",
      "    \"Use the following pieces of context to answer the question at the end. If you don't know the answer, just say that you don't know, don't try to make up an answer.\\n\\nUnnamed: 0: 0\\nname: Women's Campside Oxfords\\ndescription: This ultracomfortable lace-to-toe Oxford boasts a super-soft canvas, thick cushioning, and quality construction for a broken-in feel from the first time you put them on. \\n\\nSize & Fit: Order regular shoe size. For half sizes not offered, order up to next whole size. \\n\\nSpecs: Approx. weight: 1 lb.1 oz. per pair. \\n\\nConstruction: Soft canvas material for a broken-in feel and look. Comfortable EVA innersole with Cleansport NXT® antimicrobial odor control. Vintage hunt, fish and camping motif on innersole. Moderate arch contour of innersole. EVA foam midsole for cushioning and support. Chain-tread-inspired molded rubber outsole with modified chain-tread pattern. Imported. \\n\\nQuestions? Please contact us for any inquiries.<<<<<>>>>>Unnamed: 0: 45\\nname: Women's Oboz Sawtooth Trekking Shoes\\ndescription: These Oboz Sawtooth hiking shoes are the perfect combination of an athletic profile and heavy-duty tread, making them suitable for a walk in the park or tackling the most challenging trails. The ventilated design offers breathability and comfort in warm weather.\\n\\nSize & Fit: Order your regular shoe size.\\n\\nSpecs: Approx. weight: 1 lb. 8 oz.\\n\\nConstruction:\\n- New upper and panel mesh are softer and more breathable. \\n- Nubuck leather upper with abrasion-resistant synthetic panels. \\n- 3D molded heel counter helps shoes maintain a snug, comfortable heel hold over time. \\n- Dual-density EVA midsole provides supportive balanced cushioning. \\n- Nylon shank offers added support between heel and forefoot. \\n- Classic Oboz Sawtooth sole sheds mud and provides exceptional traction. \\n- Sidewall lugs grip off-camber trails while shaving weight. \\n- Low-density EVA pods provide cushioning and comfort. \\n- Imported.<<<<<>>>>>Unnamed: 0: 44\\nname: Women's New Balance 608 Leather Cross Comfort Shoes\\ndescription: Thanks to their signature fit, natural construction and advanced cushioning, these all-around women‘s leather New Balance sneakers will help you keep moving in comfort. \\n\\nSize & Fit\\nYou should order New Balance active footwear one half size larger than your usual shoe size or your regular New Balance size. Fit best with midweight socks. \\n\\nSpecs\\nApprox. Weight: 1 lb 3 oz. per pair.\\n\\nConstruction\\nGenuine leather upper looks polished yet sporty. EVA midsole ensures long wear. Abzorb technology in the heel and forefoot provides shock absorption. Dual-density collar foam protects your heels and ankles from rubbing. Nonmarking outsole allows for wear on a variety of surfaces. Flex grooves in sole increase flexibility for more natural range of movement. Soft, breathable textile lining. Imported.<<<<<>>>>>Unnamed: 0: 41\\nname: Men's Trail Model 4 All-Terrain Waterproof Hiking Shoes\\ndescription: The comfort of sneakers combined with the protection and support of hiking boots make this shoe an ideal choice for casual wear as well as outdoor adventures. Weighing in at around 2 lb. 5 oz., these shoes feature our exclusive VertiGrip outsole with pronounced multidirectional lugs for excellent traction. The breathable TEK2.5 barrier keeps your feet dry, while the suede and fabric upper, cushioned EVA midsole and removable footbed offer noticeable comfort, right out of the box. Heel-and-toe bumpers add durability. Imported.\\n\\nQuestion: What are the key features of the Women's Campside Oxfords as described in the document?\\nHelpful Answer:\"\n",
      "  ]\n",
      "}\n",
      "\u001b[36;1m\u001b[1;3m[llm/end]\u001b[0m \u001b[1m[chain:RetrievalQA > chain:StuffDocumentsChain > chain:LLMChain > llm:OpenAI] [2.70s] Exiting LLM run with output:\n",
      "\u001b[0m{\n",
      "  \"generations\": [\n",
      "    [\n",
      "      {\n",
      "        \"text\": \" The key features of the Women's Campside Oxfords include:\\n- Ultralight and comfortable lace-to-toe design\\n- Super-soft canvas material for a broken-in feel\\n- Thick cushioning for comfort\\n- Quality construction\\n- Comfortable EVA innersole with Cleansport NXT® antimicrobial odor control\\n- Vintage hunt, fish, and camping motif on innersole\\n- Moderate arch contour of innersole\\n- EVA foam midsole for cushioning and support\\n- Chain-tread-inspired molded rubber outsole with modified chain-tread pattern\\n- Approximate weight of 1 lb. 1 oz. per pair\\n- Imported.<|fim_suffix|>The key features of the Women's Campside Oxfords include:\\n- Ultralight and comfortable lace-to-toe design\\n- Super-soft canvas material for a broken-in feel\\n- Thick cushioning for comfort\\n- Quality construction\\n- Comfortable EVA innersole with Cleansport NXT® antimicrobial odor control\\n- Vintage hunt, fish, and camping motif on innersole\\n- Moderate arch contour of innersole\\n- EVA foam midsole for cushioning and support\\n- Chain-tread-inspired molded rubber outsole with modified chain-tread pattern\\n- Approximate weight of 1 lb. 1 oz. per\",\n",
      "        \"generation_info\": {\n",
      "          \"finish_reason\": \"length\",\n",
      "          \"logprobs\": null\n",
      "        },\n",
      "        \"type\": \"Generation\"\n",
      "      }\n",
      "    ]\n",
      "  ],\n",
      "  \"llm_output\": {\n",
      "    \"token_usage\": {\n",
      "      \"completion_tokens\": 256,\n",
      "      \"prompt_tokens\": 785,\n",
      "      \"total_tokens\": 1041\n",
      "    },\n",
      "    \"model_name\": \"gpt-4o-mini\"\n",
      "  },\n",
      "  \"run\": null,\n",
      "  \"type\": \"LLMResult\"\n",
      "}\n",
      "\u001b[36;1m\u001b[1;3m[chain/end]\u001b[0m \u001b[1m[chain:RetrievalQA > chain:StuffDocumentsChain > chain:LLMChain] [2.70s] Exiting Chain run with output:\n",
      "\u001b[0m{\n",
      "  \"text\": \" The key features of the Women's Campside Oxfords include:\\n- Ultralight and comfortable lace-to-toe design\\n- Super-soft canvas material for a broken-in feel\\n- Thick cushioning for comfort\\n- Quality construction\\n- Comfortable EVA innersole with Cleansport NXT® antimicrobial odor control\\n- Vintage hunt, fish, and camping motif on innersole\\n- Moderate arch contour of innersole\\n- EVA foam midsole for cushioning and support\\n- Chain-tread-inspired molded rubber outsole with modified chain-tread pattern\\n- Approximate weight of 1 lb. 1 oz. per pair\\n- Imported.<|fim_suffix|>The key features of the Women's Campside Oxfords include:\\n- Ultralight and comfortable lace-to-toe design\\n- Super-soft canvas material for a broken-in feel\\n- Thick cushioning for comfort\\n- Quality construction\\n- Comfortable EVA innersole with Cleansport NXT® antimicrobial odor control\\n- Vintage hunt, fish, and camping motif on innersole\\n- Moderate arch contour of innersole\\n- EVA foam midsole for cushioning and support\\n- Chain-tread-inspired molded rubber outsole with modified chain-tread pattern\\n- Approximate weight of 1 lb. 1 oz. per\"\n",
      "}\n",
      "\u001b[36;1m\u001b[1;3m[chain/end]\u001b[0m \u001b[1m[chain:RetrievalQA > chain:StuffDocumentsChain] [2.70s] Exiting Chain run with output:\n",
      "\u001b[0m{\n",
      "  \"output_text\": \" The key features of the Women's Campside Oxfords include:\\n- Ultralight and comfortable lace-to-toe design\\n- Super-soft canvas material for a broken-in feel\\n- Thick cushioning for comfort\\n- Quality construction\\n- Comfortable EVA innersole with Cleansport NXT® antimicrobial odor control\\n- Vintage hunt, fish, and camping motif on innersole\\n- Moderate arch contour of innersole\\n- EVA foam midsole for cushioning and support\\n- Chain-tread-inspired molded rubber outsole with modified chain-tread pattern\\n- Approximate weight of 1 lb. 1 oz. per pair\\n- Imported.<|fim_suffix|>The key features of the Women's Campside Oxfords include:\\n- Ultralight and comfortable lace-to-toe design\\n- Super-soft canvas material for a broken-in feel\\n- Thick cushioning for comfort\\n- Quality construction\\n- Comfortable EVA innersole with Cleansport NXT® antimicrobial odor control\\n- Vintage hunt, fish, and camping motif on innersole\\n- Moderate arch contour of innersole\\n- EVA foam midsole for cushioning and support\\n- Chain-tread-inspired molded rubber outsole with modified chain-tread pattern\\n- Approximate weight of 1 lb. 1 oz. per\"\n",
      "}\n",
      "\u001b[36;1m\u001b[1;3m[chain/end]\u001b[0m \u001b[1m[chain:RetrievalQA] [3.33s] Exiting Chain run with output:\n",
      "\u001b[0m{\n",
      "  \"result\": \" The key features of the Women's Campside Oxfords include:\\n- Ultralight and comfortable lace-to-toe design\\n- Super-soft canvas material for a broken-in feel\\n- Thick cushioning for comfort\\n- Quality construction\\n- Comfortable EVA innersole with Cleansport NXT® antimicrobial odor control\\n- Vintage hunt, fish, and camping motif on innersole\\n- Moderate arch contour of innersole\\n- EVA foam midsole for cushioning and support\\n- Chain-tread-inspired molded rubber outsole with modified chain-tread pattern\\n- Approximate weight of 1 lb. 1 oz. per pair\\n- Imported.<|fim_suffix|>The key features of the Women's Campside Oxfords include:\\n- Ultralight and comfortable lace-to-toe design\\n- Super-soft canvas material for a broken-in feel\\n- Thick cushioning for comfort\\n- Quality construction\\n- Comfortable EVA innersole with Cleansport NXT® antimicrobial odor control\\n- Vintage hunt, fish, and camping motif on innersole\\n- Moderate arch contour of innersole\\n- EVA foam midsole for cushioning and support\\n- Chain-tread-inspired molded rubber outsole with modified chain-tread pattern\\n- Approximate weight of 1 lb. 1 oz. per\"\n",
      "}\n",
      "\u001b[36;1m\u001b[1;3m[llm/end]\u001b[0m \u001b[1m[chain:RetrievalQA > chain:StuffDocumentsChain > chain:LLMChain > llm:OpenAI] [2.97s] Exiting LLM run with output:\n",
      "\u001b[0m{\n",
      "  \"generations\": [\n",
      "    [\n",
      "      {\n",
      "        \"text\": \" Yes, the Cozy Comfort Pullover Set has side pockets in the pull-on pants.<|fim_suffix|>Yes, the Cozy Comfort Pullover Set has side pockets in the pull-on pants.<|fim_suffix|>Yes, the Cozy Comfort Pullover Set has side pockets in the pull-on pants.<|fim_suffix|>Yes, the Cozy Comfort Pullover Set has side pockets in the pull-on pants.<|fim_suffix|>Yes, the Cozy Comfort Pullover Set has side pockets in the pull-on pants.<|fim_suffix|>Yes, the Cozy Comfort Pullover Set has side pockets in the pull-on pants.<|fim_suffix|>Yes, the Cozy Comfort Pullover Set has side pockets in the pull-on pants.<|fim_suffix|>Yes, the Cozy Comfort Pullover Set has side pockets in the pull-on pants.<|fim_suffix|>Yes, the Cozy Comfort Pullover Set has side pockets in the pull-on pants.<|fim_suffix|>Yes, the Cozy Comfort Pullover Set has side pockets in the pull-on pants.<|fim_suffix|>Yes, the Cozy Comfort Pullover Set has side pockets in the pull-on pants.<|fim_suffix|>Yes, the Cozy Comfort Pullover Set has side pockets in the pull-on pants.<|fim_suffix|>Yes, the Cozy Comfort Pullover Set has side pockets in the pull-on pants.<|fim_suffix|>Yes, the Cozy Comfort Pullover Set has side pockets in the pull-on pants.<|fim_suffix|>Yes, the Cozy\",\n",
      "        \"generation_info\": {\n",
      "          \"finish_reason\": \"length\",\n",
      "          \"logprobs\": null\n",
      "        },\n",
      "        \"type\": \"Generation\"\n",
      "      }\n",
      "    ]\n",
      "  ],\n",
      "  \"llm_output\": {\n",
      "    \"token_usage\": {\n",
      "      \"completion_tokens\": 256,\n",
      "      \"prompt_tokens\": 646,\n",
      "      \"total_tokens\": 902\n",
      "    },\n",
      "    \"model_name\": \"gpt-4o-mini\"\n",
      "  },\n",
      "  \"run\": null,\n",
      "  \"type\": \"LLMResult\"\n",
      "}\n",
      "\u001b[36;1m\u001b[1;3m[chain/end]\u001b[0m \u001b[1m[chain:RetrievalQA > chain:StuffDocumentsChain > chain:LLMChain] [2.97s] Exiting Chain run with output:\n",
      "\u001b[0m{\n",
      "  \"text\": \" Yes, the Cozy Comfort Pullover Set has side pockets in the pull-on pants.<|fim_suffix|>Yes, the Cozy Comfort Pullover Set has side pockets in the pull-on pants.<|fim_suffix|>Yes, the Cozy Comfort Pullover Set has side pockets in the pull-on pants.<|fim_suffix|>Yes, the Cozy Comfort Pullover Set has side pockets in the pull-on pants.<|fim_suffix|>Yes, the Cozy Comfort Pullover Set has side pockets in the pull-on pants.<|fim_suffix|>Yes, the Cozy Comfort Pullover Set has side pockets in the pull-on pants.<|fim_suffix|>Yes, the Cozy Comfort Pullover Set has side pockets in the pull-on pants.<|fim_suffix|>Yes, the Cozy Comfort Pullover Set has side pockets in the pull-on pants.<|fim_suffix|>Yes, the Cozy Comfort Pullover Set has side pockets in the pull-on pants.<|fim_suffix|>Yes, the Cozy Comfort Pullover Set has side pockets in the pull-on pants.<|fim_suffix|>Yes, the Cozy Comfort Pullover Set has side pockets in the pull-on pants.<|fim_suffix|>Yes, the Cozy Comfort Pullover Set has side pockets in the pull-on pants.<|fim_suffix|>Yes, the Cozy Comfort Pullover Set has side pockets in the pull-on pants.<|fim_suffix|>Yes, the Cozy Comfort Pullover Set has side pockets in the pull-on pants.<|fim_suffix|>Yes, the Cozy\"\n",
      "}\n",
      "\u001b[36;1m\u001b[1;3m[chain/end]\u001b[0m \u001b[1m[chain:RetrievalQA > chain:StuffDocumentsChain] [2.97s] Exiting Chain run with output:\n",
      "\u001b[0m{\n",
      "  \"output_text\": \" Yes, the Cozy Comfort Pullover Set has side pockets in the pull-on pants.<|fim_suffix|>Yes, the Cozy Comfort Pullover Set has side pockets in the pull-on pants.<|fim_suffix|>Yes, the Cozy Comfort Pullover Set has side pockets in the pull-on pants.<|fim_suffix|>Yes, the Cozy Comfort Pullover Set has side pockets in the pull-on pants.<|fim_suffix|>Yes, the Cozy Comfort Pullover Set has side pockets in the pull-on pants.<|fim_suffix|>Yes, the Cozy Comfort Pullover Set has side pockets in the pull-on pants.<|fim_suffix|>Yes, the Cozy Comfort Pullover Set has side pockets in the pull-on pants.<|fim_suffix|>Yes, the Cozy Comfort Pullover Set has side pockets in the pull-on pants.<|fim_suffix|>Yes, the Cozy Comfort Pullover Set has side pockets in the pull-on pants.<|fim_suffix|>Yes, the Cozy Comfort Pullover Set has side pockets in the pull-on pants.<|fim_suffix|>Yes, the Cozy Comfort Pullover Set has side pockets in the pull-on pants.<|fim_suffix|>Yes, the Cozy Comfort Pullover Set has side pockets in the pull-on pants.<|fim_suffix|>Yes, the Cozy Comfort Pullover Set has side pockets in the pull-on pants.<|fim_suffix|>Yes, the Cozy Comfort Pullover Set has side pockets in the pull-on pants.<|fim_suffix|>Yes, the Cozy\"\n",
      "}\n",
      "\u001b[36;1m\u001b[1;3m[chain/end]\u001b[0m \u001b[1m[chain:RetrievalQA] [3.51s] Exiting Chain run with output:\n",
      "\u001b[0m{\n",
      "  \"result\": \" Yes, the Cozy Comfort Pullover Set has side pockets in the pull-on pants.<|fim_suffix|>Yes, the Cozy Comfort Pullover Set has side pockets in the pull-on pants.<|fim_suffix|>Yes, the Cozy Comfort Pullover Set has side pockets in the pull-on pants.<|fim_suffix|>Yes, the Cozy Comfort Pullover Set has side pockets in the pull-on pants.<|fim_suffix|>Yes, the Cozy Comfort Pullover Set has side pockets in the pull-on pants.<|fim_suffix|>Yes, the Cozy Comfort Pullover Set has side pockets in the pull-on pants.<|fim_suffix|>Yes, the Cozy Comfort Pullover Set has side pockets in the pull-on pants.<|fim_suffix|>Yes, the Cozy Comfort Pullover Set has side pockets in the pull-on pants.<|fim_suffix|>Yes, the Cozy Comfort Pullover Set has side pockets in the pull-on pants.<|fim_suffix|>Yes, the Cozy Comfort Pullover Set has side pockets in the pull-on pants.<|fim_suffix|>Yes, the Cozy Comfort Pullover Set has side pockets in the pull-on pants.<|fim_suffix|>Yes, the Cozy Comfort Pullover Set has side pockets in the pull-on pants.<|fim_suffix|>Yes, the Cozy Comfort Pullover Set has side pockets in the pull-on pants.<|fim_suffix|>Yes, the Cozy Comfort Pullover Set has side pockets in the pull-on pants.<|fim_suffix|>Yes, the Cozy\"\n",
      "}\n",
      "\u001b[32;1m\u001b[1;3m[chain/start]\u001b[0m \u001b[1m[chain:RetrievalQA > chain:StuffDocumentsChain] Entering Chain run with input:\n",
      "\u001b[0m[inputs]\n",
      "\u001b[32;1m\u001b[1;3m[chain/start]\u001b[0m \u001b[1m[chain:RetrievalQA > chain:StuffDocumentsChain > chain:LLMChain] Entering Chain run with input:\n",
      "\u001b[0m{\n",
      "  \"question\": \"What collection is the Ultra-Lofty         850 Stretch Down Hooded Jacket from?\",\n",
      "  \"context\": \"Unnamed: 0: 11\\nname: Ultra-Lofty 850 Stretch Down Hooded Jacket\\ndescription: This technical stretch down jacket from our DownTek collection is sure to keep you warm and comfortable with its full-stretch construction providing exceptional range of motion. With a slightly fitted style that falls at the hip and best with a midweight layer, this jacket is suitable for light activity up to 20° and moderate activity up to -30°. The soft and durable 100% polyester shell offers complete windproof protection and is insulated with warm, lofty goose down. Other features include welded baffles for a no-stitch construction and excellent stretch, an adjustable hood, an interior media port and mesh stash pocket and a hem drawcord. Machine wash and dry. Imported.<<<<<>>>>>Unnamed: 0: 25\\nname: Women's PrimaLoft Downpour Jacket\\ndescription: Our PrimaLoft hooded insulated jacket is redesigned to keep you warm and lightweight in any weather. It is wind and water resistant and offers two levels of comfort: light activity to 35° and moderate activity to -15°. The updated construction is made with PrimaLoft’s Cross Core technology, which is a fusion of PrimaLoft Gold insulation and Aerogel. This combination provides 15% more warmth without any additional weight. The polyester shell and lining is 100% recycled and machine washable. This jacket features an easy on/off elastic hood, an internal media pocket with audio port, two handpockets, one chest pocket, drawcord hem, and a take-along pocket for easy storage. Explore Cross Core and watch the video for more information.<<<<<>>>>>Unnamed: 0: 8\\nname: Mountain Man Fleece Jacket\\ndescription: Our best-value fleece jacket is designed with inspiration from our archives and made from 100% recycled polyester for unbeatable comfort and wear-anywhere style. \\n\\nSize & Fit: Slightly Fitted. Best with lightweight layer. Falls at hip. \\n\\nWhy We Love It: Our designers took inspiration from the  archives to create this ultrasoft fleece jacket. We love how the heritage styling is updated with a modern, slimming fit. Plus, it’s made from 100% recycled fleece – so you can stay warm and feel good about it. \\n\\nFabric & Care: 100% recycled fleece is soft, cozy and gentle on the planet. Ultraplush fibers resist wind for even more warmth. Machine wash and dry. \\n\\nAdditional Features: Features our classic Mount Katahdin logo. Bart Boot lace-inspired zippers and drawcord. Two lower zippered hand pockets. Elastic cuffs and drawcord hem seal out cold air. Imported.<<<<<>>>>>Unnamed: 0: 30\\nname: Kids' Mountain Adventure Fleece, Print\\ndescription: We designed this warm, versatile fleece from anti-pill fabric to continue looking great even after multiple wears – and washings. Size & Fit: Relaxed Fit. Fabric & Care: 100% polyester. Machine wash and dry. Additional Features: High-quality fleece fabric resists pilling for long-lasting good looks. Great on its own or as an extra layer in cooler weather. Stand-up collar, chin guard and zip pockets. 3M™ Scotchlite™ Reflective Material back triangle for increased visibility. Heritage-inspired Mount Katahdin logo. Imported.\"\n",
      "}\n",
      "\u001b[32;1m\u001b[1;3m[llm/start]\u001b[0m \u001b[1m[chain:RetrievalQA > chain:StuffDocumentsChain > chain:LLMChain > llm:OpenAI] Entering LLM run with input:\n",
      "\u001b[0m{\n",
      "  \"prompts\": [\n",
      "    \"Use the following pieces of context to answer the question at the end. If you don't know the answer, just say that you don't know, don't try to make up an answer.\\n\\nUnnamed: 0: 11\\nname: Ultra-Lofty 850 Stretch Down Hooded Jacket\\ndescription: This technical stretch down jacket from our DownTek collection is sure to keep you warm and comfortable with its full-stretch construction providing exceptional range of motion. With a slightly fitted style that falls at the hip and best with a midweight layer, this jacket is suitable for light activity up to 20° and moderate activity up to -30°. The soft and durable 100% polyester shell offers complete windproof protection and is insulated with warm, lofty goose down. Other features include welded baffles for a no-stitch construction and excellent stretch, an adjustable hood, an interior media port and mesh stash pocket and a hem drawcord. Machine wash and dry. Imported.<<<<<>>>>>Unnamed: 0: 25\\nname: Women's PrimaLoft Downpour Jacket\\ndescription: Our PrimaLoft hooded insulated jacket is redesigned to keep you warm and lightweight in any weather. It is wind and water resistant and offers two levels of comfort: light activity to 35° and moderate activity to -15°. The updated construction is made with PrimaLoft’s Cross Core technology, which is a fusion of PrimaLoft Gold insulation and Aerogel. This combination provides 15% more warmth without any additional weight. The polyester shell and lining is 100% recycled and machine washable. This jacket features an easy on/off elastic hood, an internal media pocket with audio port, two handpockets, one chest pocket, drawcord hem, and a take-along pocket for easy storage. Explore Cross Core and watch the video for more information.<<<<<>>>>>Unnamed: 0: 8\\nname: Mountain Man Fleece Jacket\\ndescription: Our best-value fleece jacket is designed with inspiration from our archives and made from 100% recycled polyester for unbeatable comfort and wear-anywhere style. \\n\\nSize & Fit: Slightly Fitted. Best with lightweight layer. Falls at hip. \\n\\nWhy We Love It: Our designers took inspiration from the  archives to create this ultrasoft fleece jacket. We love how the heritage styling is updated with a modern, slimming fit. Plus, it’s made from 100% recycled fleece – so you can stay warm and feel good about it. \\n\\nFabric & Care: 100% recycled fleece is soft, cozy and gentle on the planet. Ultraplush fibers resist wind for even more warmth. Machine wash and dry. \\n\\nAdditional Features: Features our classic Mount Katahdin logo. Bart Boot lace-inspired zippers and drawcord. Two lower zippered hand pockets. Elastic cuffs and drawcord hem seal out cold air. Imported.<<<<<>>>>>Unnamed: 0: 30\\nname: Kids' Mountain Adventure Fleece, Print\\ndescription: We designed this warm, versatile fleece from anti-pill fabric to continue looking great even after multiple wears – and washings. Size & Fit: Relaxed Fit. Fabric & Care: 100% polyester. Machine wash and dry. Additional Features: High-quality fleece fabric resists pilling for long-lasting good looks. Great on its own or as an extra layer in cooler weather. Stand-up collar, chin guard and zip pockets. 3M™ Scotchlite™ Reflective Material back triangle for increased visibility. Heritage-inspired Mount Katahdin logo. Imported.\\n\\nQuestion: What collection is the Ultra-Lofty         850 Stretch Down Hooded Jacket from?\\nHelpful Answer:\"\n",
      "  ]\n",
      "}\n",
      "\u001b[36;1m\u001b[1;3m[llm/end]\u001b[0m \u001b[1m[chain:RetrievalQA > chain:StuffDocumentsChain > chain:LLMChain > llm:OpenAI] [4.90s] Exiting LLM run with output:\n",
      "\u001b[0m{\n",
      "  \"generations\": [\n",
      "    [\n",
      "      {\n",
      "        \"text\": \" The Ultra-Lofty 850 Stretch Down Hooded Jacket is from the DownTek collection.<|fim_suffix|>The Ultra-Lofty 850 Stretch Down Hooded Jacket is from the DownTek collection.<|fim_suffix|><|fim_suffix|>The Ultra-Lofty 850 Stretch Down Hooded Jacket is from the DownTek collection.<|fim_suffix|>The Ultra-Lofty 850 Stretch Down Hooded Jacket is from the DownTek collection.<|fim_suffix|>The Ultra-Lofty 850 Stretch Down Hooded Jacket is from the DownTek collection.<|fim_suffix|>The Ultra-Lofty 850 Stretch Down Hooded Jacket is from the DownTek collection.<|fim_suffix|>The Ultra-Lofty 850 Stretch Down Hooded Jacket is from the DownTek collection.<|fim_suffix|>The Ultra-Lofty 850 Stretch Down Hooded Jacket is from the DownTek collection.<|fim_suffix|>The Ultra-Lofty 850 Stretch Down Hooded Jacket is from the DownTek collection.<|fim_suffix|>The Ultra-Lofty 850 Stretch Down Hooded Jacket is from the DownTek collection.<|fim_suffix|>The Ultra-Lofty 850 Stretch Down Hooded Jacket is from the DownTek collection.<|fim_suffix|>The Ultra-Lofty 850 Stretch Down Hooded Jacket is from the DownTek collection.<|fim_suffix|>The Ultra-Lofty 850 Stretch Down Hooded Jacket is from the DownTek collection.<|fim_suffix|>The Ultra-Lofty 850 Stretch Down\",\n",
      "        \"generation_info\": {\n",
      "          \"finish_reason\": \"length\",\n",
      "          \"logprobs\": null\n",
      "        },\n",
      "        \"type\": \"Generation\"\n",
      "      }\n",
      "    ]\n",
      "  ],\n",
      "  \"llm_output\": {\n",
      "    \"token_usage\": {\n",
      "      \"completion_tokens\": 256,\n",
      "      \"prompt_tokens\": 737,\n",
      "      \"total_tokens\": 993\n",
      "    },\n",
      "    \"model_name\": \"gpt-4o-mini\"\n",
      "  },\n",
      "  \"run\": null,\n",
      "  \"type\": \"LLMResult\"\n",
      "}\n",
      "\u001b[36;1m\u001b[1;3m[chain/end]\u001b[0m \u001b[1m[chain:RetrievalQA > chain:StuffDocumentsChain > chain:LLMChain] [4.90s] Exiting Chain run with output:\n",
      "\u001b[0m{\n",
      "  \"text\": \" The Ultra-Lofty 850 Stretch Down Hooded Jacket is from the DownTek collection.<|fim_suffix|>The Ultra-Lofty 850 Stretch Down Hooded Jacket is from the DownTek collection.<|fim_suffix|><|fim_suffix|>The Ultra-Lofty 850 Stretch Down Hooded Jacket is from the DownTek collection.<|fim_suffix|>The Ultra-Lofty 850 Stretch Down Hooded Jacket is from the DownTek collection.<|fim_suffix|>The Ultra-Lofty 850 Stretch Down Hooded Jacket is from the DownTek collection.<|fim_suffix|>The Ultra-Lofty 850 Stretch Down Hooded Jacket is from the DownTek collection.<|fim_suffix|>The Ultra-Lofty 850 Stretch Down Hooded Jacket is from the DownTek collection.<|fim_suffix|>The Ultra-Lofty 850 Stretch Down Hooded Jacket is from the DownTek collection.<|fim_suffix|>The Ultra-Lofty 850 Stretch Down Hooded Jacket is from the DownTek collection.<|fim_suffix|>The Ultra-Lofty 850 Stretch Down Hooded Jacket is from the DownTek collection.<|fim_suffix|>The Ultra-Lofty 850 Stretch Down Hooded Jacket is from the DownTek collection.<|fim_suffix|>The Ultra-Lofty 850 Stretch Down Hooded Jacket is from the DownTek collection.<|fim_suffix|>The Ultra-Lofty 850 Stretch Down Hooded Jacket is from the DownTek collection.<|fim_suffix|>The Ultra-Lofty 850 Stretch Down\"\n",
      "}\n",
      "\u001b[36;1m\u001b[1;3m[chain/end]\u001b[0m \u001b[1m[chain:RetrievalQA > chain:StuffDocumentsChain] [4.90s] Exiting Chain run with output:\n",
      "\u001b[0m{\n",
      "  \"output_text\": \" The Ultra-Lofty 850 Stretch Down Hooded Jacket is from the DownTek collection.<|fim_suffix|>The Ultra-Lofty 850 Stretch Down Hooded Jacket is from the DownTek collection.<|fim_suffix|><|fim_suffix|>The Ultra-Lofty 850 Stretch Down Hooded Jacket is from the DownTek collection.<|fim_suffix|>The Ultra-Lofty 850 Stretch Down Hooded Jacket is from the DownTek collection.<|fim_suffix|>The Ultra-Lofty 850 Stretch Down Hooded Jacket is from the DownTek collection.<|fim_suffix|>The Ultra-Lofty 850 Stretch Down Hooded Jacket is from the DownTek collection.<|fim_suffix|>The Ultra-Lofty 850 Stretch Down Hooded Jacket is from the DownTek collection.<|fim_suffix|>The Ultra-Lofty 850 Stretch Down Hooded Jacket is from the DownTek collection.<|fim_suffix|>The Ultra-Lofty 850 Stretch Down Hooded Jacket is from the DownTek collection.<|fim_suffix|>The Ultra-Lofty 850 Stretch Down Hooded Jacket is from the DownTek collection.<|fim_suffix|>The Ultra-Lofty 850 Stretch Down Hooded Jacket is from the DownTek collection.<|fim_suffix|>The Ultra-Lofty 850 Stretch Down Hooded Jacket is from the DownTek collection.<|fim_suffix|>The Ultra-Lofty 850 Stretch Down Hooded Jacket is from the DownTek collection.<|fim_suffix|>The Ultra-Lofty 850 Stretch Down\"\n",
      "}\n",
      "\u001b[36;1m\u001b[1;3m[chain/end]\u001b[0m \u001b[1m[chain:RetrievalQA] [8.77s] Exiting Chain run with output:\n",
      "\u001b[0m{\n",
      "  \"result\": \" The Ultra-Lofty 850 Stretch Down Hooded Jacket is from the DownTek collection.<|fim_suffix|>The Ultra-Lofty 850 Stretch Down Hooded Jacket is from the DownTek collection.<|fim_suffix|><|fim_suffix|>The Ultra-Lofty 850 Stretch Down Hooded Jacket is from the DownTek collection.<|fim_suffix|>The Ultra-Lofty 850 Stretch Down Hooded Jacket is from the DownTek collection.<|fim_suffix|>The Ultra-Lofty 850 Stretch Down Hooded Jacket is from the DownTek collection.<|fim_suffix|>The Ultra-Lofty 850 Stretch Down Hooded Jacket is from the DownTek collection.<|fim_suffix|>The Ultra-Lofty 850 Stretch Down Hooded Jacket is from the DownTek collection.<|fim_suffix|>The Ultra-Lofty 850 Stretch Down Hooded Jacket is from the DownTek collection.<|fim_suffix|>The Ultra-Lofty 850 Stretch Down Hooded Jacket is from the DownTek collection.<|fim_suffix|>The Ultra-Lofty 850 Stretch Down Hooded Jacket is from the DownTek collection.<|fim_suffix|>The Ultra-Lofty 850 Stretch Down Hooded Jacket is from the DownTek collection.<|fim_suffix|>The Ultra-Lofty 850 Stretch Down Hooded Jacket is from the DownTek collection.<|fim_suffix|>The Ultra-Lofty 850 Stretch Down Hooded Jacket is from the DownTek collection.<|fim_suffix|>The Ultra-Lofty 850 Stretch Down\"\n",
      "}\n"
     ]
    }
   ],
   "source": [
    "predictios = qa.batch(examples[:3])"
   ]
  },
  {
   "cell_type": "code",
   "execution_count": null,
   "metadata": {},
   "outputs": [],
   "source": []
  }
 ],
 "metadata": {
  "kernelspec": {
   "display_name": "venv",
   "language": "python",
   "name": "python3"
  },
  "language_info": {
   "codemirror_mode": {
    "name": "ipython",
    "version": 3
   },
   "file_extension": ".py",
   "mimetype": "text/x-python",
   "name": "python",
   "nbconvert_exporter": "python",
   "pygments_lexer": "ipython3",
   "version": "3.11.3"
  }
 },
 "nbformat": 4,
 "nbformat_minor": 2
}
