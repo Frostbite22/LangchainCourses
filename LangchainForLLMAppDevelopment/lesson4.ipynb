{
 "cells": [
  {
   "cell_type": "code",
   "execution_count": null,
   "metadata": {},
   "outputs": [],
   "source": [
    "import os\n",
    "from openai import OpenAI\n",
    "\n",
    "token = os.environ[\"GITHUB_TOKEN\"]\n",
    "print(token)\n",
    "print(os.environ[\"OPENAI_API_KEY\"])\n",
    "endpoint = \"https://models.inference.ai.azure.com\"\n",
    "model_name = \"gpt-4o-mini\"\n",
    "\n",
    "client = OpenAI(\n",
    "    base_url=endpoint,\n",
    "    api_key=token,\n",
    ")\n",
    "\n",
    "response = client.chat.completions.create(\n",
    "    messages=[\n",
    "        {\n",
    "            \"role\": \"system\",\n",
    "            \"content\": \"You are a helpful assistant.\",\n",
    "        },\n",
    "        {\n",
    "            \"role\": \"user\",\n",
    "            \"content\": \"What is the capital of England?\",\n",
    "        }\n",
    "    ],\n",
    "    temperature=0,\n",
    "    top_p=1.0,\n",
    "    max_tokens=1000,\n",
    "    model=model_name\n",
    ")\n"
   ]
  },
  {
   "cell_type": "code",
   "execution_count": 2,
   "metadata": {},
   "outputs": [
    {
     "data": {
      "text/plain": [
       "'The capital of England is London.'"
      ]
     },
     "execution_count": 2,
     "metadata": {},
     "output_type": "execute_result"
    }
   ],
   "source": [
    "response.choices[0].message.content"
   ]
  },
  {
   "cell_type": "code",
   "execution_count": 3,
   "metadata": {},
   "outputs": [],
   "source": [
    "from langchain.chains import RetrievalQA\n",
    "from langchain.document_loaders import CSVLoader\n",
    "from langchain.vectorstores import DocArrayInMemorySearch\n",
    "from IPython.display import display, Markdown\n"
   ]
  },
  {
   "cell_type": "code",
   "execution_count": 45,
   "metadata": {},
   "outputs": [],
   "source": [
    "file = \"OutdoorClothingCatalog_1000.csv\"\n",
    "\n",
    "import pandas as pd\n",
    "df = pd.read_csv(file)\n",
    "\n",
    "df = df.iloc[:50]\n",
    "\n",
    "# save csv file\n",
    "df.to_csv(\"OutdoorClothingCatalog_1000_short.csv\", index=False)"
   ]
  },
  {
   "cell_type": "code",
   "execution_count": 50,
   "metadata": {},
   "outputs": [
    {
     "data": {
      "text/html": [
       "<div>\n",
       "<style scoped>\n",
       "    .dataframe tbody tr th:only-of-type {\n",
       "        vertical-align: middle;\n",
       "    }\n",
       "\n",
       "    .dataframe tbody tr th {\n",
       "        vertical-align: top;\n",
       "    }\n",
       "\n",
       "    .dataframe thead th {\n",
       "        text-align: right;\n",
       "    }\n",
       "</style>\n",
       "<table border=\"1\" class=\"dataframe\">\n",
       "  <thead>\n",
       "    <tr style=\"text-align: right;\">\n",
       "      <th></th>\n",
       "      <th>Unnamed: 0</th>\n",
       "      <th>name</th>\n",
       "      <th>description</th>\n",
       "    </tr>\n",
       "  </thead>\n",
       "  <tbody>\n",
       "    <tr>\n",
       "      <th>0</th>\n",
       "      <td>0</td>\n",
       "      <td>Women's Campside Oxfords</td>\n",
       "      <td>This ultracomfortable lace-to-toe Oxford boast...</td>\n",
       "    </tr>\n",
       "    <tr>\n",
       "      <th>1</th>\n",
       "      <td>1</td>\n",
       "      <td>Recycled Waterhog Dog Mat, Chevron Weave</td>\n",
       "      <td>Protect your floors from spills and splashing ...</td>\n",
       "    </tr>\n",
       "    <tr>\n",
       "      <th>2</th>\n",
       "      <td>2</td>\n",
       "      <td>Infant and Toddler Girls' Coastal Chill Swimsu...</td>\n",
       "      <td>She'll love the bright colors, ruffles and exc...</td>\n",
       "    </tr>\n",
       "    <tr>\n",
       "      <th>3</th>\n",
       "      <td>3</td>\n",
       "      <td>Refresh Swimwear, V-Neck Tankini Contrasts</td>\n",
       "      <td>Whether you're going for a swim or heading out...</td>\n",
       "    </tr>\n",
       "    <tr>\n",
       "      <th>4</th>\n",
       "      <td>4</td>\n",
       "      <td>EcoFlex 3L Storm Pants</td>\n",
       "      <td>Our new TEK O2 technology makes our four-seaso...</td>\n",
       "    </tr>\n",
       "    <tr>\n",
       "      <th>5</th>\n",
       "      <td>5</td>\n",
       "      <td>Smooth Comfort Check Shirt, Slightly Fitted</td>\n",
       "      <td>Our men's slightly fitted check shirt is the p...</td>\n",
       "    </tr>\n",
       "    <tr>\n",
       "      <th>6</th>\n",
       "      <td>6</td>\n",
       "      <td>Mens Outdoor Research Apex Gloves</td>\n",
       "      <td>These Outdoor Research Arete gloves are perfec...</td>\n",
       "    </tr>\n",
       "    <tr>\n",
       "      <th>7</th>\n",
       "      <td>7</td>\n",
       "      <td>Women's Ultraplush Sweats, Relaxed Crewneck</td>\n",
       "      <td>This crewneck sweatshirt is crafted from soft ...</td>\n",
       "    </tr>\n",
       "    <tr>\n",
       "      <th>8</th>\n",
       "      <td>8</td>\n",
       "      <td>Mountain Man Fleece Jacket</td>\n",
       "      <td>Our best-value fleece jacket is designed with ...</td>\n",
       "    </tr>\n",
       "    <tr>\n",
       "      <th>9</th>\n",
       "      <td>9</td>\n",
       "      <td>Compact Camping Table, 25\"</td>\n",
       "      <td>This aluminum portable camp table is perfect f...</td>\n",
       "    </tr>\n",
       "    <tr>\n",
       "      <th>10</th>\n",
       "      <td>10</td>\n",
       "      <td>Cozy Comfort Pullover Set, Stripe</td>\n",
       "      <td>Perfect for lounging, this striped knit set li...</td>\n",
       "    </tr>\n",
       "    <tr>\n",
       "      <th>11</th>\n",
       "      <td>11</td>\n",
       "      <td>Ultra-Lofty 850 Stretch Down Hooded Jacket</td>\n",
       "      <td>This technical stretch down jacket from our Do...</td>\n",
       "    </tr>\n",
       "    <tr>\n",
       "      <th>12</th>\n",
       "      <td>12</td>\n",
       "      <td>CozyCloud Flannel Sheet Set</td>\n",
       "      <td>Our Ultrasoft Flannel Bedding solid colored so...</td>\n",
       "    </tr>\n",
       "    <tr>\n",
       "      <th>13</th>\n",
       "      <td>13</td>\n",
       "      <td>Men's Maine Explorer Zip-Front Jac-Shirt</td>\n",
       "      <td>This classic wool jac-shirt is a unique combin...</td>\n",
       "    </tr>\n",
       "    <tr>\n",
       "      <th>14</th>\n",
       "      <td>14</td>\n",
       "      <td>Easy-Care Classic Stripe Short-Sleeve Shirt, T...</td>\n",
       "      <td>The ultimate striped chambray shirt – we kept ...</td>\n",
       "    </tr>\n",
       "    <tr>\n",
       "      <th>15</th>\n",
       "      <td>15</td>\n",
       "      <td>Wind Chaser 110 Kayak</td>\n",
       "      <td>This lightweight recreational kayak is designe...</td>\n",
       "    </tr>\n",
       "    <tr>\n",
       "      <th>16</th>\n",
       "      <td>16</td>\n",
       "      <td>Camo Trekker Midweight Quarter-Zip Pullover Ho...</td>\n",
       "      <td>This camo quarter-zip hoodie is an extremely v...</td>\n",
       "    </tr>\n",
       "    <tr>\n",
       "      <th>17</th>\n",
       "      <td>17</td>\n",
       "      <td>Summit Soft Loveseat</td>\n",
       "      <td>Our upholstered loveseat sofa is designed for ...</td>\n",
       "    </tr>\n",
       "    <tr>\n",
       "      <th>18</th>\n",
       "      <td>18</td>\n",
       "      <td>Zen Wave SUP Board, 10'8\"</td>\n",
       "      <td>This inflatable SUP combines the rigidity of a...</td>\n",
       "    </tr>\n",
       "    <tr>\n",
       "      <th>19</th>\n",
       "      <td>19</td>\n",
       "      <td>Buckingham Leather Sofa</td>\n",
       "      <td>Our American-made Leather Lodge Collection off...</td>\n",
       "    </tr>\n",
       "    <tr>\n",
       "      <th>20</th>\n",
       "      <td>20</td>\n",
       "      <td>Women's Camelbak Horizon Hydration Pack</td>\n",
       "      <td>When it’s time to log some miles, this women’s...</td>\n",
       "    </tr>\n",
       "    <tr>\n",
       "      <th>21</th>\n",
       "      <td>21</td>\n",
       "      <td>Militia Pullover, Crewneck</td>\n",
       "      <td>Our Men’s commando sweater is comfortable, war...</td>\n",
       "    </tr>\n",
       "    <tr>\n",
       "      <th>22</th>\n",
       "      <td>22</td>\n",
       "      <td>Comfyside Sweats, Straight-Leg</td>\n",
       "      <td>Our Ultrasoft Sweatpants in a straight-leg sty...</td>\n",
       "    </tr>\n",
       "    <tr>\n",
       "      <th>23</th>\n",
       "      <td>23</td>\n",
       "      <td>Campers' Adventure Bag, Zip-Top with Shoulder ...</td>\n",
       "      <td>Ideal for waterfowling, dog training or shooti...</td>\n",
       "    </tr>\n",
       "    <tr>\n",
       "      <th>24</th>\n",
       "      <td>24</td>\n",
       "      <td>Junior All-Terrain Adventurers</td>\n",
       "      <td>Our colorful kids' waterproof hiking shoes fea...</td>\n",
       "    </tr>\n",
       "    <tr>\n",
       "      <th>25</th>\n",
       "      <td>25</td>\n",
       "      <td>Women's PrimaLoft Downpour Jacket</td>\n",
       "      <td>Our PrimaLoft hooded insulated jacket is redes...</td>\n",
       "    </tr>\n",
       "    <tr>\n",
       "      <th>26</th>\n",
       "      <td>26</td>\n",
       "      <td>MaxGrip Sport Socks, Twin Pack</td>\n",
       "      <td>Our women's moisture-wicking socks are designe...</td>\n",
       "    </tr>\n",
       "    <tr>\n",
       "      <th>27</th>\n",
       "      <td>27</td>\n",
       "      <td>Doggy Den Pad</td>\n",
       "      <td>Keep your dog comfortable on the go with our d...</td>\n",
       "    </tr>\n",
       "    <tr>\n",
       "      <th>28</th>\n",
       "      <td>28</td>\n",
       "      <td>Performance Plus Woven Shirt</td>\n",
       "      <td>Perfect for trail or travel, this breathable s...</td>\n",
       "    </tr>\n",
       "    <tr>\n",
       "      <th>29</th>\n",
       "      <td>29</td>\n",
       "      <td>Classic Book Pack</td>\n",
       "      <td>Our Original Book Pack has been beloved by par...</td>\n",
       "    </tr>\n",
       "    <tr>\n",
       "      <th>30</th>\n",
       "      <td>30</td>\n",
       "      <td>Kids' Mountain Adventure Fleece, Print</td>\n",
       "      <td>\\n\\nWe designed this warm, versatile fleece f...</td>\n",
       "    </tr>\n",
       "    <tr>\n",
       "      <th>31</th>\n",
       "      <td>31</td>\n",
       "      <td>Rustic Reclaimed Wood Accent Table</td>\n",
       "      <td>This rustic wooden side table with pullout dra...</td>\n",
       "    </tr>\n",
       "    <tr>\n",
       "      <th>32</th>\n",
       "      <td>32</td>\n",
       "      <td>Timeless Leather Ranger Mocs</td>\n",
       "      <td>has been crafting authentic handsewn moccasin...</td>\n",
       "    </tr>\n",
       "    <tr>\n",
       "      <th>33</th>\n",
       "      <td>33</td>\n",
       "      <td>ed\\n\\nRangeley Camp Performance Checked Flanne...</td>\n",
       "      <td>This flannel shirt jac is made for the adventu...</td>\n",
       "    </tr>\n",
       "    <tr>\n",
       "      <th>34</th>\n",
       "      <td>34</td>\n",
       "      <td>Men's Camo Traverse Rubber Hunting Boots</td>\n",
       "      <td>Warm, waterproof, odor fighting, durable, ultr...</td>\n",
       "    </tr>\n",
       "    <tr>\n",
       "      <th>35</th>\n",
       "      <td>35</td>\n",
       "      <td>Polar Plunge Tube</td>\n",
       "      <td>This tube is designed for commercial tubing pa...</td>\n",
       "    </tr>\n",
       "    <tr>\n",
       "      <th>36</th>\n",
       "      <td>36</td>\n",
       "      <td>Garmin MiniTrack Satellite Communicator</td>\n",
       "      <td>The Garmin inReachMini is a palm-sized satelli...</td>\n",
       "    </tr>\n",
       "    <tr>\n",
       "      <th>37</th>\n",
       "      <td>37</td>\n",
       "      <td>Fjord Fleece Sweater</td>\n",
       "      <td>Inspired by the traditional sweaters of Norway...</td>\n",
       "    </tr>\n",
       "    <tr>\n",
       "      <th>38</th>\n",
       "      <td>38</td>\n",
       "      <td>Women's Luxurious Shearling-Lined Slides</td>\n",
       "      <td>Pamper your soles with these easy-on women's W...</td>\n",
       "    </tr>\n",
       "    <tr>\n",
       "      <th>39</th>\n",
       "      <td>39</td>\n",
       "      <td>Sealed Leather Moc</td>\n",
       "      <td>Whoever said “they don’t build things like the...</td>\n",
       "    </tr>\n",
       "    <tr>\n",
       "      <th>40</th>\n",
       "      <td>40</td>\n",
       "      <td>Kork-Ease Myrna Comfort Sandals</td>\n",
       "      <td>These platform wedge sandals from Kork-Ease ha...</td>\n",
       "    </tr>\n",
       "    <tr>\n",
       "      <th>41</th>\n",
       "      <td>41</td>\n",
       "      <td>Men's Trail Model 4 All-Terrain Waterproof Hik...</td>\n",
       "      <td>The comfort of sneakers combined with the prot...</td>\n",
       "    </tr>\n",
       "    <tr>\n",
       "      <th>42</th>\n",
       "      <td>42</td>\n",
       "      <td>Big Agnes Big House 4 Deluxe Tent Ground Cover</td>\n",
       "      <td>Protect your tent floor from rocks, debris, an...</td>\n",
       "    </tr>\n",
       "    <tr>\n",
       "      <th>43</th>\n",
       "      <td>43</td>\n",
       "      <td>New Balance Women's 990v4 Trail Runners</td>\n",
       "      <td>The latest in New Balance's Made in the USA se...</td>\n",
       "    </tr>\n",
       "    <tr>\n",
       "      <th>44</th>\n",
       "      <td>44</td>\n",
       "      <td>Women's New Balance 608 Leather Cross Comfort ...</td>\n",
       "      <td>Thanks to their signature fit, natural constru...</td>\n",
       "    </tr>\n",
       "    <tr>\n",
       "      <th>45</th>\n",
       "      <td>45</td>\n",
       "      <td>Women's Oboz Sawtooth Trekking Shoes</td>\n",
       "      <td>These Oboz Sawtooth hiking shoes are the perfe...</td>\n",
       "    </tr>\n",
       "    <tr>\n",
       "      <th>46</th>\n",
       "      <td>46</td>\n",
       "      <td>Kids' OluKai Nohea Breeze Slip-Ons</td>\n",
       "      <td>With its handsewn seam stitching, comfy fit an...</td>\n",
       "    </tr>\n",
       "    <tr>\n",
       "      <th>47</th>\n",
       "      <td>47</td>\n",
       "      <td>Angler's Athletic Shorts</td>\n",
       "      <td>These high-performance fly-fishing shorts are ...</td>\n",
       "    </tr>\n",
       "    <tr>\n",
       "      <th>48</th>\n",
       "      <td>48</td>\n",
       "      <td>Print Flannel Trousers</td>\n",
       "      <td>Welcome crisp fall nights with cozy flannel pa...</td>\n",
       "    </tr>\n",
       "    <tr>\n",
       "      <th>49</th>\n",
       "      <td>49</td>\n",
       "      <td>Premium Double L Short-Sleeve Polo Banded With...</td>\n",
       "      <td>This extraordinary all-cotton polo simply will...</td>\n",
       "    </tr>\n",
       "  </tbody>\n",
       "</table>\n",
       "</div>"
      ],
      "text/plain": [
       "    Unnamed: 0                                               name  \\\n",
       "0            0                           Women's Campside Oxfords   \n",
       "1            1           Recycled Waterhog Dog Mat, Chevron Weave   \n",
       "2            2  Infant and Toddler Girls' Coastal Chill Swimsu...   \n",
       "3            3         Refresh Swimwear, V-Neck Tankini Contrasts   \n",
       "4            4                             EcoFlex 3L Storm Pants   \n",
       "5            5        Smooth Comfort Check Shirt, Slightly Fitted   \n",
       "6            6                  Mens Outdoor Research Apex Gloves   \n",
       "7            7        Women's Ultraplush Sweats, Relaxed Crewneck   \n",
       "8            8                         Mountain Man Fleece Jacket   \n",
       "9            9                         Compact Camping Table, 25\"   \n",
       "10          10                  Cozy Comfort Pullover Set, Stripe   \n",
       "11          11         Ultra-Lofty 850 Stretch Down Hooded Jacket   \n",
       "12          12                        CozyCloud Flannel Sheet Set   \n",
       "13          13           Men's Maine Explorer Zip-Front Jac-Shirt   \n",
       "14          14  Easy-Care Classic Stripe Short-Sleeve Shirt, T...   \n",
       "15          15                              Wind Chaser 110 Kayak   \n",
       "16          16  Camo Trekker Midweight Quarter-Zip Pullover Ho...   \n",
       "17          17                               Summit Soft Loveseat   \n",
       "18          18                          Zen Wave SUP Board, 10'8\"   \n",
       "19          19                            Buckingham Leather Sofa   \n",
       "20          20            Women's Camelbak Horizon Hydration Pack   \n",
       "21          21                         Militia Pullover, Crewneck   \n",
       "22          22                     Comfyside Sweats, Straight-Leg   \n",
       "23          23  Campers' Adventure Bag, Zip-Top with Shoulder ...   \n",
       "24          24                     Junior All-Terrain Adventurers   \n",
       "25          25                  Women's PrimaLoft Downpour Jacket   \n",
       "26          26                     MaxGrip Sport Socks, Twin Pack   \n",
       "27          27                                      Doggy Den Pad   \n",
       "28          28                       Performance Plus Woven Shirt   \n",
       "29          29                                  Classic Book Pack   \n",
       "30          30             Kids' Mountain Adventure Fleece, Print   \n",
       "31          31                 Rustic Reclaimed Wood Accent Table   \n",
       "32          32                       Timeless Leather Ranger Mocs   \n",
       "33          33  ed\\n\\nRangeley Camp Performance Checked Flanne...   \n",
       "34          34           Men's Camo Traverse Rubber Hunting Boots   \n",
       "35          35                                  Polar Plunge Tube   \n",
       "36          36            Garmin MiniTrack Satellite Communicator   \n",
       "37          37                               Fjord Fleece Sweater   \n",
       "38          38           Women's Luxurious Shearling-Lined Slides   \n",
       "39          39                                 Sealed Leather Moc   \n",
       "40          40                    Kork-Ease Myrna Comfort Sandals   \n",
       "41          41  Men's Trail Model 4 All-Terrain Waterproof Hik...   \n",
       "42          42     Big Agnes Big House 4 Deluxe Tent Ground Cover   \n",
       "43          43            New Balance Women's 990v4 Trail Runners   \n",
       "44          44  Women's New Balance 608 Leather Cross Comfort ...   \n",
       "45          45               Women's Oboz Sawtooth Trekking Shoes   \n",
       "46          46                 Kids' OluKai Nohea Breeze Slip-Ons   \n",
       "47          47                           Angler's Athletic Shorts   \n",
       "48          48                             Print Flannel Trousers   \n",
       "49          49  Premium Double L Short-Sleeve Polo Banded With...   \n",
       "\n",
       "                                          description  \n",
       "0   This ultracomfortable lace-to-toe Oxford boast...  \n",
       "1   Protect your floors from spills and splashing ...  \n",
       "2   She'll love the bright colors, ruffles and exc...  \n",
       "3   Whether you're going for a swim or heading out...  \n",
       "4   Our new TEK O2 technology makes our four-seaso...  \n",
       "5   Our men's slightly fitted check shirt is the p...  \n",
       "6   These Outdoor Research Arete gloves are perfec...  \n",
       "7   This crewneck sweatshirt is crafted from soft ...  \n",
       "8   Our best-value fleece jacket is designed with ...  \n",
       "9   This aluminum portable camp table is perfect f...  \n",
       "10  Perfect for lounging, this striped knit set li...  \n",
       "11  This technical stretch down jacket from our Do...  \n",
       "12  Our Ultrasoft Flannel Bedding solid colored so...  \n",
       "13  This classic wool jac-shirt is a unique combin...  \n",
       "14  The ultimate striped chambray shirt – we kept ...  \n",
       "15  This lightweight recreational kayak is designe...  \n",
       "16  This camo quarter-zip hoodie is an extremely v...  \n",
       "17  Our upholstered loveseat sofa is designed for ...  \n",
       "18  This inflatable SUP combines the rigidity of a...  \n",
       "19  Our American-made Leather Lodge Collection off...  \n",
       "20  When it’s time to log some miles, this women’s...  \n",
       "21  Our Men’s commando sweater is comfortable, war...  \n",
       "22  Our Ultrasoft Sweatpants in a straight-leg sty...  \n",
       "23  Ideal for waterfowling, dog training or shooti...  \n",
       "24  Our colorful kids' waterproof hiking shoes fea...  \n",
       "25  Our PrimaLoft hooded insulated jacket is redes...  \n",
       "26  Our women's moisture-wicking socks are designe...  \n",
       "27  Keep your dog comfortable on the go with our d...  \n",
       "28  Perfect for trail or travel, this breathable s...  \n",
       "29  Our Original Book Pack has been beloved by par...  \n",
       "30   \\n\\nWe designed this warm, versatile fleece f...  \n",
       "31  This rustic wooden side table with pullout dra...  \n",
       "32   has been crafting authentic handsewn moccasin...  \n",
       "33  This flannel shirt jac is made for the adventu...  \n",
       "34  Warm, waterproof, odor fighting, durable, ultr...  \n",
       "35  This tube is designed for commercial tubing pa...  \n",
       "36  The Garmin inReachMini is a palm-sized satelli...  \n",
       "37  Inspired by the traditional sweaters of Norway...  \n",
       "38  Pamper your soles with these easy-on women's W...  \n",
       "39  Whoever said “they don’t build things like the...  \n",
       "40  These platform wedge sandals from Kork-Ease ha...  \n",
       "41  The comfort of sneakers combined with the prot...  \n",
       "42  Protect your tent floor from rocks, debris, an...  \n",
       "43  The latest in New Balance's Made in the USA se...  \n",
       "44  Thanks to their signature fit, natural constru...  \n",
       "45  These Oboz Sawtooth hiking shoes are the perfe...  \n",
       "46  With its handsewn seam stitching, comfy fit an...  \n",
       "47  These high-performance fly-fishing shorts are ...  \n",
       "48  Welcome crisp fall nights with cozy flannel pa...  \n",
       "49  This extraordinary all-cotton polo simply will...  "
      ]
     },
     "execution_count": 50,
     "metadata": {},
     "output_type": "execute_result"
    }
   ],
   "source": [
    "df"
   ]
  },
  {
   "cell_type": "code",
   "execution_count": 46,
   "metadata": {},
   "outputs": [],
   "source": [
    "file = \"OutdoorClothingCatalog_1000_short.csv\"\n",
    "loader = CSVLoader(file_path=file, encoding='utf-8')\n"
   ]
  },
  {
   "cell_type": "code",
   "execution_count": 47,
   "metadata": {},
   "outputs": [],
   "source": [
    "from langchain.indexes import VectorstoreIndexCreator"
   ]
  },
  {
   "cell_type": "code",
   "execution_count": 48,
   "metadata": {},
   "outputs": [],
   "source": [
    "from langchain_openai import OpenAI\n",
    "from langchain_openai import OpenAIEmbeddings\n",
    "\n",
    "llm = OpenAI(temperature=0.9,model=model_name)"
   ]
  },
  {
   "cell_type": "code",
   "execution_count": 49,
   "metadata": {},
   "outputs": [],
   "source": [
    "embeddings = OpenAIEmbeddings(model=\"text-embedding-3-large\",\n",
    "                              dimensions=1024)\n",
    "\n",
    "index = VectorstoreIndexCreator(\n",
    "    embedding=embeddings,\n",
    "    vectorstore_cls=DocArrayInMemorySearch\n",
    ").from_loaders([loader])"
   ]
  },
  {
   "cell_type": "code",
   "execution_count": 51,
   "metadata": {},
   "outputs": [
    {
     "data": {
      "text/plain": [
       "VectorStoreIndexWrapper(vectorstore=<langchain_community.vectorstores.docarray.in_memory.DocArrayInMemorySearch object at 0x00000217F00C95D0>)"
      ]
     },
     "execution_count": 51,
     "metadata": {},
     "output_type": "execute_result"
    }
   ],
   "source": [
    "index"
   ]
  },
  {
   "cell_type": "code",
   "execution_count": 52,
   "metadata": {},
   "outputs": [],
   "source": [
    "query =\"Please list all your shirts with sun protection \\\n",
    "in a table in markdown and summarize each one.\""
   ]
  },
  {
   "cell_type": "code",
   "execution_count": 53,
   "metadata": {},
   "outputs": [],
   "source": [
    "response = index.query(query, llm)"
   ]
  },
  {
   "cell_type": "code",
   "execution_count": 54,
   "metadata": {},
   "outputs": [
    {
     "data": {
      "text/markdown": [
       " \n",
       "\n",
       "| Name                                        | Description                                                                                                   |\n",
       "|---------------------------------------------|---------------------------------------------------------------------------------------------------------------|\n",
       "| Performance Plus Woven Shirt                | A quick-dry, breathable summer shirt made of 100% nylon with UPF 40+ sun protection, ideal for trail or city. |\n",
       "| Easy-Care Classic Stripe Short-Sleeve Shirt | A light and breathable 100% cotton chambray shirt with an easy-care finish. It does not have sun protection.   |<|fim_suffix|>I don't know.<|fim_suffix|>"
      ],
      "text/plain": [
       "<IPython.core.display.Markdown object>"
      ]
     },
     "metadata": {},
     "output_type": "display_data"
    }
   ],
   "source": [
    "display(Markdown(response))"
   ]
  },
  {
   "cell_type": "markdown",
   "metadata": {},
   "source": [
    "### step by step"
   ]
  },
  {
   "cell_type": "code",
   "execution_count": 56,
   "metadata": {},
   "outputs": [],
   "source": [
    "from langchain.document_loaders import CSVLoader\n",
    "loader = CSVLoader(file_path=\"OutdoorClothingCatalog_1000_short.csv\", encoding='utf-8')"
   ]
  },
  {
   "cell_type": "code",
   "execution_count": 58,
   "metadata": {},
   "outputs": [],
   "source": [
    "docs = loader.load()"
   ]
  },
  {
   "cell_type": "code",
   "execution_count": 59,
   "metadata": {},
   "outputs": [
    {
     "data": {
      "text/plain": [
       "Document(metadata={'source': 'OutdoorClothingCatalog_1000_short.csv', 'row': 0}, page_content=\"Unnamed: 0: 0\\nname: Women's Campside Oxfords\\ndescription: This ultracomfortable lace-to-toe Oxford boasts a super-soft canvas, thick cushioning, and quality construction for a broken-in feel from the first time you put them on. \\n\\nSize & Fit: Order regular shoe size. For half sizes not offered, order up to next whole size. \\n\\nSpecs: Approx. weight: 1 lb.1 oz. per pair. \\n\\nConstruction: Soft canvas material for a broken-in feel and look. Comfortable EVA innersole with Cleansport NXT® antimicrobial odor control. Vintage hunt, fish and camping motif on innersole. Moderate arch contour of innersole. EVA foam midsole for cushioning and support. Chain-tread-inspired molded rubber outsole with modified chain-tread pattern. Imported. \\n\\nQuestions? Please contact us for any inquiries.\")"
      ]
     },
     "execution_count": 59,
     "metadata": {},
     "output_type": "execute_result"
    }
   ],
   "source": [
    "docs[0]"
   ]
  },
  {
   "cell_type": "code",
   "execution_count": 60,
   "metadata": {},
   "outputs": [
    {
     "name": "stderr",
     "output_type": "stream",
     "text": [
      "C:\\Users\\m.landoulsi\\AppData\\Local\\Temp\\ipykernel_13792\\917072604.py:2: LangChainDeprecationWarning: The class `OpenAIEmbeddings` was deprecated in LangChain 0.0.9 and will be removed in 1.0. An updated version of the class exists in the :class:`~langchain-openai package and should be used instead. To use it run `pip install -U :class:`~langchain-openai` and import as `from :class:`~langchain_openai import OpenAIEmbeddings``.\n",
      "  embeddings = OpenAIEmbeddings(model=\"text-embedding-3-small\", dimensions=1024)\n",
      "c:\\Users\\m.landoulsi\\Desktop\\pprojects\\langchain\\venv\\Lib\\site-packages\\langchain_community\\embeddings\\openai.py:271: UserWarning: WARNING! dimensions is not default parameter.\n",
      "                    dimensions was transferred to model_kwargs.\n",
      "                    Please confirm that dimensions is what you intended.\n",
      "  warnings.warn(\n"
     ]
    }
   ],
   "source": [
    "from langchain.embeddings import OpenAIEmbeddings\n",
    "embeddings = OpenAIEmbeddings(model=\"text-embedding-3-small\", dimensions=1024)"
   ]
  },
  {
   "cell_type": "code",
   "execution_count": 76,
   "metadata": {},
   "outputs": [],
   "source": [
    "embed = embeddings.embed_query(\"Hi folks, I am Nathan!\")"
   ]
  },
  {
   "cell_type": "code",
   "execution_count": 77,
   "metadata": {},
   "outputs": [
    {
     "data": {
      "text/plain": [
       "1024"
      ]
     },
     "execution_count": 77,
     "metadata": {},
     "output_type": "execute_result"
    }
   ],
   "source": [
    "len(embed)"
   ]
  },
  {
   "cell_type": "code",
   "execution_count": 87,
   "metadata": {},
   "outputs": [],
   "source": [
    "db = DocArrayInMemorySearch.from_documents(embedding=embeddings,\n",
    "                            documents=docs)"
   ]
  },
  {
   "cell_type": "code",
   "execution_count": 88,
   "metadata": {},
   "outputs": [
    {
     "data": {
      "text/plain": [
       "<langchain_community.vectorstores.docarray.in_memory.DocArrayInMemorySearch at 0x217f12ef890>"
      ]
     },
     "execution_count": 88,
     "metadata": {},
     "output_type": "execute_result"
    }
   ],
   "source": [
    "db"
   ]
  },
  {
   "cell_type": "code",
   "execution_count": 89,
   "metadata": {},
   "outputs": [],
   "source": [
    "query = \"Please suggest a shirt.\""
   ]
  },
  {
   "cell_type": "code",
   "execution_count": 91,
   "metadata": {},
   "outputs": [],
   "source": [
    "docs = db.similarity_search(query)"
   ]
  },
  {
   "cell_type": "code",
   "execution_count": 92,
   "metadata": {},
   "outputs": [
    {
     "data": {
      "text/plain": [
       "Document(metadata={'source': 'OutdoorClothingCatalog_1000_short.csv', 'row': 14}, page_content=\"Unnamed: 0: 14\\nname: Easy-Care Classic Stripe Short-Sleeve Shirt, Traditional Fit\\ndescription: The ultimate striped chambray shirt – we kept everything you love and made it even better. Light and breathable in 100% cotton, with an easy-care finish that sheds wrinkles remarkably well. \\n\\nSize & Fit\\nTraditional Fit: Relaxed through the chest, sleeve and waist. \\n\\nWhy We Love It\\nEven when something is loved as much as a classic chambray, there's always something you can do to make it even better. And that's just what we did – introducing our exclusive easy-care chambray. It's light, breathable and sheds wrinkles. Just throw it in the wash, and it's ready to wear right out of the dryer. \\n\\nFabric & Care\\n100% cotton chambray. A light iron gives it an even crisper look. Machine wash and dry. \\n\\nAdditional Features\\nSingle patch pocket. Button-down collar. Imported. \\n\\nQuestions?\\nFeel free to contact us with any questions or inquiries.\")"
      ]
     },
     "execution_count": 92,
     "metadata": {},
     "output_type": "execute_result"
    }
   ],
   "source": [
    "docs[0]"
   ]
  },
  {
   "cell_type": "code",
   "execution_count": 93,
   "metadata": {},
   "outputs": [
    {
     "data": {
      "text/plain": [
       "4"
      ]
     },
     "execution_count": 93,
     "metadata": {},
     "output_type": "execute_result"
    }
   ],
   "source": [
    "len(docs)"
   ]
  },
  {
   "cell_type": "code",
   "execution_count": 94,
   "metadata": {},
   "outputs": [],
   "source": [
    "retriever = db.as_retriever()"
   ]
  },
  {
   "cell_type": "code",
   "execution_count": 95,
   "metadata": {},
   "outputs": [],
   "source": [
    "llm = OpenAI(temperature=0,model=model_name)"
   ]
  },
  {
   "cell_type": "code",
   "execution_count": 97,
   "metadata": {},
   "outputs": [],
   "source": [
    "qdocs = \"\".join([docs[i].page_content for i in range(len(docs))])"
   ]
  },
  {
   "cell_type": "code",
   "execution_count": 98,
   "metadata": {},
   "outputs": [
    {
     "data": {
      "text/plain": [
       "\"Unnamed: 0: 14\\nname: Easy-Care Classic Stripe Short-Sleeve Shirt, Traditional Fit\\ndescription: The ultimate striped chambray shirt – we kept everything you love and made it even better. Light and breathable in 100% cotton, with an easy-care finish that sheds wrinkles remarkably well. \\n\\nSize & Fit\\nTraditional Fit: Relaxed through the chest, sleeve and waist. \\n\\nWhy We Love It\\nEven when something is loved as much as a classic chambray, there's always something you can do to make it even better. And that's just what we did – introducing our exclusive easy-care chambray. It's light, breathable and sheds wrinkles. Just throw it in the wash, and it's ready to wear right out of the dryer. \\n\\nFabric & Care\\n100% cotton chambray. A light iron gives it an even crisper look. Machine wash and dry. \\n\\nAdditional Features\\nSingle patch pocket. Button-down collar. Imported. \\n\\nQuestions?\\nFeel free to contact us with any questions or inquiries.Unnamed: 0: 5\\nname: Smooth Comfort Check Shirt, Slightly Fitted\\ndescription: Our men's slightly fitted check shirt is the perfect choice for your wardrobe! Customers love how it fits right out of the dryer. Size & Fit: Slightly Fitted, Relaxed through the chest and sleeve with a slightly slimmer waist. Fabric & Care: 100% cotton poplin, with wrinkle-free performance that won't wash out. Our innovative TrueCool® fabric wicks moisture away from your skin and helps it dry quickly. Additional Features: Traditional styling with a button-down collar and a single patch pocket. Imported.Unnamed: 0: 13\\nname: Men's Maine Explorer Zip-Front Jac-Shirt\\ndescription: This classic wool jac-shirt is a unique combination of a jacket and a shirt, so you can wear it all year round. It fits loosely, perfect for layering when it's cold outside but can also be worn as an outer shirt when it's warm. \\n\\nSize & Fit\\nTraditional Fit: Relaxed through the chest, sleeve and waist.\\n\\nFabric & Care\\n85% wool, 15% nylon. \\nSolid colors: 11 oz. per sq. yd. \\nCamouflage: 15 oz. per sq. yd. \\nDry clean. \\n\\nAdditional Features\\nAttached exterior wool cape for additional warmth and protection in drizzle and snow. \\nTwo welted handwarmer pockets and two button-through chest pockets. \\nCut full for layering in colder weather. \\nTop-quality wool for exceptional durability. \\nWarm when wet and quiet in the woods. \\nUltrasuede trim on cuffs and collar for comfort against skin. \\nRugged brass zipper. \\nPocket buttons are reinforced for security. \\nTwo buttons on cuffs for increased adjustability. \\nImported.Unnamed: 0: 33\\nname: ed\\n\\nRangeley Camp Performance Checked Flannel Shirt\\ndescription: This flannel shirt jac is made for the adventurous type. Rugged and packed with performance features, it is sure to keep you warm and comfortable no matter where your journey takes you. With a slightly fitted silhouette that softly shapes the body and falls at the low hip, this ultrarugged performance flannel shirt is the perfect combination of soft and substantial. Crafted with a blend of 70% cotton and 30% polyester, high-performance hollow-core polyester yarns are designed to wick away moisture and dry fast. Abrasion-resistant construction ensures it will stand up to wear and tear. Additional features include reinforced elbows and side-seam pockets. Machine wash and dry for easy care. Imported.\""
      ]
     },
     "execution_count": 98,
     "metadata": {},
     "output_type": "execute_result"
    }
   ],
   "source": [
    "qdocs"
   ]
  },
  {
   "cell_type": "code",
   "execution_count": 100,
   "metadata": {},
   "outputs": [],
   "source": [
    "response = llm.invoke(f\"{qdocs} Question: Please list all your \\\n",
    "shirts with sun protection in a table in markdown and summarize each one.\") \n"
   ]
  },
  {
   "cell_type": "code",
   "execution_count": 101,
   "metadata": {},
   "outputs": [
    {
     "data": {
      "text/markdown": [
       " \n",
       "\n",
       "Answer:\n",
       "\n",
       "| Name | Description |\n",
       "| --- | --- |\n",
       "| Easy-Care Classic Stripe Short-Sleeve Shirt, Traditional Fit | A light and breathable 100% cotton chambray shirt with an easy-care finish that sheds wrinkles. Traditional fit, relaxed through the chest, sleeve, and waist. |\n",
       "| Smooth Comfort Check Shirt, Slightly Fitted | A slightly fitted check shirt made of 100% cotton poplin with wrinkle-free performance. Features TrueCool® fabric that wicks moisture away and dries quickly. |\n",
       "| Men's Maine Explorer Zip-Front Jac-Shirt | A classic wool jac-shirt that combines a jacket and a shirt, perfect for layering. Made of 85% wool and 15% nylon, it is warm and durable. |\n",
       "| Rangeley Camp Performance Checked Flannel Shirt | A rugged flannel shirt made of 70% cotton and 30% polyester, designed for performance with moisture-wicking properties and abrasion-resistant construction. |<|fim_suffix|>| Name | Description |\n",
       "| --- | --- |\n",
       "| Easy-Care Classic Stripe Short-Sleeve Shirt, Traditional Fit | A light and breathable 100% cotton chambray shirt with an easy-care finish that sheds wrinkles. Traditional fit, relaxed through the chest, sleeve, and waist. |\n",
       "|"
      ],
      "text/plain": [
       "<IPython.core.display.Markdown object>"
      ]
     },
     "metadata": {},
     "output_type": "display_data"
    }
   ],
   "source": [
    "display(Markdown(response))"
   ]
  },
  {
   "cell_type": "code",
   "execution_count": 103,
   "metadata": {},
   "outputs": [],
   "source": [
    "qa_stuff = RetrievalQA.from_chain_type(retriever=retriever, llm=llm,chain_type=\"stuff\",verbose=True)"
   ]
  },
  {
   "cell_type": "code",
   "execution_count": 105,
   "metadata": {},
   "outputs": [
    {
     "name": "stdout",
     "output_type": "stream",
     "text": [
      "\n",
      "\n",
      "\u001b[1m> Entering new RetrievalQA chain...\u001b[0m\n",
      "\n",
      "\u001b[1m> Finished chain.\u001b[0m\n"
     ]
    },
    {
     "data": {
      "text/plain": [
       "{'query': 'Please suggest a shirt.',\n",
       " 'result': \" I suggest the Easy-Care Classic Stripe Short-Sleeve Shirt, Traditional Fit. It is made of 100% cotton, light and breathable, and has an easy-care finish that sheds wrinkles remarkably well. It is perfect for casual wear and can be worn right out of the dryer.<|fim_suffix|>I suggest the Smooth Comfort Check Shirt, Slightly Fitted. It is made of 100% cotton poplin with wrinkle-free performance, and it features TrueCool® fabric that wicks moisture away from your skin. This shirt is slightly fitted, providing a relaxed fit through the chest and sleeve with a slightly slimmer waist, making it a great choice for your wardrobe.<|fim_suffix|><|fim_suffix|>I suggest the Men's Maine Explorer Zip-Front Jac-Shirt. This classic wool jac-shirt is perfect for layering in colder weather and can also be worn as an outer shirt when it's warm. It features a relaxed fit, two welted handwarmer pockets, and an attached exterior wool cape for added warmth and protection. The durable wool fabric ensures comfort and warmth, making it a versatile choice for year-round wear.<|fim_suffix|><|fim_suffix|>I suggest the Rangeley Camp Performance Checked Flannel Shirt. This flannel shirt jac is designed for the adventurous type, offering a slightly fitted silhouette that shapes the body while providing warmth and\"}"
      ]
     },
     "execution_count": 105,
     "metadata": {},
     "output_type": "execute_result"
    }
   ],
   "source": [
    "qa_stuff.invoke(\"Please suggest a shirt.\")"
   ]
  },
  {
   "cell_type": "code",
   "execution_count": 106,
   "metadata": {},
   "outputs": [],
   "source": [
    "index = VectorstoreIndexCreator(\n",
    "    vectorstore_cls=DocArrayInMemorySearch,\n",
    "    embedding=embeddings,\n",
    ").from_loaders([loader])"
   ]
  },
  {
   "cell_type": "code",
   "execution_count": 107,
   "metadata": {},
   "outputs": [],
   "source": [
    "response = index.query(query, llm=llm)"
   ]
  },
  {
   "cell_type": "code",
   "execution_count": 108,
   "metadata": {},
   "outputs": [
    {
     "data": {
      "text/markdown": [
       " I suggest the Easy-Care Classic Stripe Short-Sleeve Shirt, Traditional Fit. It is light, breathable, and has an easy-care finish that sheds wrinkles remarkably well. It is made of 100% cotton and is perfect for casual wear.<|fim_suffix|>I suggest the Smooth Comfort Check Shirt, Slightly Fitted. It is made of 100% cotton poplin with wrinkle-free performance and features TrueCool® fabric that wicks moisture away from your skin. It has a slightly fitted design, making it a great choice for a comfortable and stylish look.<|fim_suffix|>I suggest the Men's Maine Explorer Zip-Front Jac-Shirt. It is a versatile piece that combines the features of a jacket and a shirt, making it suitable for year-round wear. It is made of a durable wool blend and is perfect for layering in colder weather. Plus, it has multiple pockets for added functionality.<|fim_suffix|>I suggest the Rangeley Camp Performance Checked Flannel Shirt. It is designed for the adventurous type, made with a blend of cotton and polyester for warmth and comfort. It features moisture-wicking properties, reinforced elbows, and side-seam pockets, making it both practical and stylish for outdoor activities.<|fim_suffix|>I don't know.<|fim_suffix|>I don't know.<|fim_suffix|>I don't know.<|fim_suffix|>I don't know."
      ],
      "text/plain": [
       "<IPython.core.display.Markdown object>"
      ]
     },
     "metadata": {},
     "output_type": "display_data"
    }
   ],
   "source": [
    "display(Markdown(response))"
   ]
  },
  {
   "cell_type": "code",
   "execution_count": null,
   "metadata": {},
   "outputs": [],
   "source": []
  }
 ],
 "metadata": {
  "kernelspec": {
   "display_name": "venv",
   "language": "python",
   "name": "python3"
  },
  "language_info": {
   "codemirror_mode": {
    "name": "ipython",
    "version": 3
   },
   "file_extension": ".py",
   "mimetype": "text/x-python",
   "name": "python",
   "nbconvert_exporter": "python",
   "pygments_lexer": "ipython3",
   "version": "3.11.3"
  }
 },
 "nbformat": 4,
 "nbformat_minor": 2
}
