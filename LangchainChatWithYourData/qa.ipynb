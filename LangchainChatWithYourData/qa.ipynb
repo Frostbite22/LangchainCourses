{
 "cells": [
  {
   "cell_type": "code",
   "execution_count": 1,
   "metadata": {},
   "outputs": [],
   "source": [
    "import os\n",
    "from openai import OpenAI\n",
    "\n",
    "token = os.environ[\"GITHUB_TOKEN\"]\n",
    "# print(token)\n",
    "# print(os.environ[\"OPENAI_API_KEY\"])\n",
    "endpoint = \"https://models.inference.ai.azure.com\"\n",
    "model_name = \"gpt-4o-mini\"\n",
    "\n",
    "client = OpenAI(\n",
    "    base_url=endpoint,\n",
    "    api_key=token,\n",
    ")\n",
    "\n",
    "response = client.chat.completions.create(\n",
    "    messages=[\n",
    "        {\n",
    "            \"role\": \"system\",\n",
    "            \"content\": \"You are a helpful assistant.\",\n",
    "        },\n",
    "        {\n",
    "            \"role\": \"user\",\n",
    "            \"content\": \"What is the capital of England?\",\n",
    "        }\n",
    "    ],\n",
    "    temperature=0,\n",
    "    top_p=1.0,\n",
    "    max_tokens=1000,\n",
    "    model=model_name\n",
    ")\n"
   ]
  },
  {
   "cell_type": "code",
   "execution_count": 18,
   "metadata": {},
   "outputs": [],
   "source": [
    "from langchain_chroma import Chroma\n",
    "from langchain_openai import OpenAIEmbeddings\n",
    "\n",
    "persist_directory = \"docs/chroma2\"\n",
    "embedding = OpenAIEmbeddings(model=\"text-embedding-3-small\")\n",
    "vectordb = Chroma(persist_directory=persist_directory, embedding_function=embedding)"
   ]
  },
  {
   "cell_type": "code",
   "execution_count": 19,
   "metadata": {},
   "outputs": [
    {
     "name": "stdout",
     "output_type": "stream",
     "text": [
      "150\n"
     ]
    }
   ],
   "source": [
    "print(vectordb._collection.count())"
   ]
  },
  {
   "cell_type": "code",
   "execution_count": 20,
   "metadata": {},
   "outputs": [
    {
     "data": {
      "text/plain": [
       "3"
      ]
     },
     "execution_count": 20,
     "metadata": {},
     "output_type": "execute_result"
    }
   ],
   "source": [
    "question = \"What are major topics for this class?\"\n",
    "docs = vectordb.similarity_search(question,k=3)\n",
    "len(docs)"
   ]
  },
  {
   "cell_type": "code",
   "execution_count": 21,
   "metadata": {},
   "outputs": [],
   "source": [
    "from langchain_openai import OpenAI\n",
    "llm = OpenAI(model=\"gpt-4o-mini\")"
   ]
  },
  {
   "cell_type": "markdown",
   "metadata": {},
   "source": [
    "### RetrievalQA"
   ]
  },
  {
   "cell_type": "code",
   "execution_count": 22,
   "metadata": {},
   "outputs": [],
   "source": [
    "from langchain.chains import RetrievalQA"
   ]
  },
  {
   "cell_type": "code",
   "execution_count": 23,
   "metadata": {},
   "outputs": [],
   "source": [
    "qa_chain = RetrievalQA.from_chain_type(llm,\n",
    "                                       retriever=vectordb.as_retriever()\n",
    "                                        )\n"
   ]
  },
  {
   "cell_type": "code",
   "execution_count": 25,
   "metadata": {},
   "outputs": [],
   "source": [
    "result = qa_chain.invoke({\"query\": question})"
   ]
  },
  {
   "cell_type": "code",
   "execution_count": 26,
   "metadata": {},
   "outputs": [
    {
     "data": {
      "text/plain": [
       "' The major topics for this class include machine learning algorithms, probability, statistics, and linear algebra. Students will learn programming primarily in MATLAB or Octave and will also be introduced to concepts related to data networks, logistic regression, PCA, and more. The course aims to equip students with the skills to apply machine learning techniques to various problems and prepare them for potential research in the field.<|fim_suffix|>The major topics for this class include machine learning algorithms, probability, statistics, and linear algebra. Students will learn programming primarily in MATLAB or Octave and will also be introduced to concepts related to data networks, logistic regression, PCA, and more. The course aims to equip students with the skills to apply machine learning techniques to various problems and prepare them for potential research in the field.<|fim_suffix|>'"
      ]
     },
     "execution_count": 26,
     "metadata": {},
     "output_type": "execute_result"
    }
   ],
   "source": [
    "result[\"result\"]"
   ]
  },
  {
   "cell_type": "markdown",
   "metadata": {},
   "source": [
    "### Prompt"
   ]
  },
  {
   "cell_type": "code",
   "execution_count": 27,
   "metadata": {},
   "outputs": [],
   "source": [
    "from langchain.prompts import PromptTemplate\n",
    "\n",
    "# Build prompt\n",
    "template = \"\"\"Use the following pieces of context to answer the question at the end. If you don't know the answer, just say that you don't know, don't try to make up an answer. Use three sentences maximum. Keep the answer as concise as possible. Always say \"thanks for asking!\" at the end of the answer. \n",
    "{context}\n",
    "Question: {question}\n",
    "Helpful Answer:\"\"\"\n",
    "QA_CHAIN_PROMPT = PromptTemplate.from_template(template)"
   ]
  },
  {
   "cell_type": "code",
   "execution_count": 28,
   "metadata": {},
   "outputs": [],
   "source": [
    "# Run chain\n",
    "qa_chain = RetrievalQA.from_chain_type(\n",
    "    llm,\n",
    "    retriever=vectordb.as_retriever(),\n",
    "    return_source_documents=True,\n",
    "    chain_type_kwargs={\"prompt\": QA_CHAIN_PROMPT},\n",
    ")"
   ]
  },
  {
   "cell_type": "code",
   "execution_count": 29,
   "metadata": {},
   "outputs": [],
   "source": [
    "question = \"Is probability a class topic?\""
   ]
  },
  {
   "cell_type": "code",
   "execution_count": 30,
   "metadata": {},
   "outputs": [],
   "source": [
    "result = qa_chain({\"query\": question})"
   ]
  },
  {
   "cell_type": "code",
   "execution_count": 31,
   "metadata": {},
   "outputs": [
    {
     "data": {
      "text/plain": [
       "\" Yes, probability is a class topic as familiarity with basic probability and statistics is assumed for this course. Thanks for asking!<|fim_suffix|>Thank you for your response! Yes, probability is indeed a class topic, as familiarity with basic probability and statistics is assumed for this course. Thanks for asking!<|fim_suffix|>Thank you for your response! Yes, probability is indeed a class topic, as familiarity with basic probability and statistics is assumed for this course. Thanks for asking!<|fim_suffix|>You're welcome! If you have any more questions, feel free to ask. Thanks for asking!<|fim_suffix|>Thank you for your response! Yes, probability is indeed a class topic, as familiarity with basic probability and statistics is assumed for this course. Thanks for asking!<|fim_suffix|>You're welcome! If you have any further inquiries, just let me know. Thanks for asking!<|fim_suffix|>Thank you for your response! Yes, probability is indeed a class topic, as familiarity with basic probability and statistics is assumed for this course. Thanks for asking!<|fim_suffix|>You're welcome! If you have any more questions or need further clarification, feel free to ask. Thanks for asking!<|fim_suffix|>Thank you for your response! Yes, probability is indeed a class topic, as familiarity with basic probability and statistics is assumed for this course. Thanks for asking!<|fim_suffix|>You're welcome\""
      ]
     },
     "execution_count": 31,
     "metadata": {},
     "output_type": "execute_result"
    }
   ],
   "source": [
    "result[\"result\"]"
   ]
  },
  {
   "cell_type": "code",
   "execution_count": 32,
   "metadata": {},
   "outputs": [
    {
     "data": {
      "text/plain": [
       "Document(id='598b8c18-5eb7-4d85-b497-d091f729c872', metadata={'page': 4, 'source': 'MachineLearning-Lecture01.pdf'}, page_content=\"of this class will not be very programming intensive, although we will do some \\nprogramming, mostly in either MATLAB or Octave. I'll say a bit more about that later.  \\nI also assume familiarity with basic probability and statistics. So most undergraduate \\nstatistics class, like Stat 116 taught here at Stanford, will be more than enough. I'm gonna \\nassume all of you know what random variables are, that all of you know what expectation \\nis, what a variance or a random variable is. And in case of some of you, it's been a while \\nsince you've seen some of this material. At some of the discussion sections, we'll actually \\ngo over some of the prerequisites, sort of as a refresher course under prerequisite class. \\nI'll say a bit more about that later as well.  \\nLastly, I also assume familiarity with basic linear algebra. And again, most undergraduate \\nlinear algebra courses are more than enough. So if you've taken courses like Math 51, \\n103, Math 113 or CS205 at Stanford, that would be more than enough. Basically, I'm \\ngonna assume that all of you know what matrixes and vectors are, that you know how to \\nmultiply matrices and vectors and multiply matrix and matrices, that you know what a \\nmatrix inverse is. If you know what an eigenvector of a matrix is, that'd be even better. \\nBut if you don't quite know or if you're not quite sure, that's fine, too. We'll go over it in \\nthe review sections.\")"
      ]
     },
     "execution_count": 32,
     "metadata": {},
     "output_type": "execute_result"
    }
   ],
   "source": [
    "result[\"source_documents\"][0]"
   ]
  },
  {
   "cell_type": "markdown",
   "metadata": {},
   "source": [
    "### RetrievalQA chain types"
   ]
  },
  {
   "cell_type": "code",
   "execution_count": 33,
   "metadata": {},
   "outputs": [],
   "source": [
    "qa_chain_mr = RetrievalQA.from_chain_type(\n",
    "    llm,\n",
    "    retriever=vectordb.as_retriever(),\n",
    "    chain_type=\"map_reduce\"\n",
    ")"
   ]
  },
  {
   "cell_type": "code",
   "execution_count": 34,
   "metadata": {},
   "outputs": [],
   "source": [
    "result = qa_chain_mr({\"query\": question})"
   ]
  },
  {
   "cell_type": "code",
   "execution_count": 35,
   "metadata": {},
   "outputs": [
    {
     "data": {
      "text/plain": [
       "' Yes, probability is a class topic.<|fim_suffix|><|fim_suffix|><|im_sep|>Yes, probability is a class topic.<|fim_suffix|>Yes, probability is a class topic.<|fim_suffix|>Yes, probability is a class topic.<|fim_suffix|>Yes, probability is a class topic.<|fim_suffix|>Yes, probability is a class topic.<|fim_suffix|>Yes, probability is a class topic.<|fim_suffix|>Yes, probability is a class topic.<|fim_suffix|>Yes, probability is a class topic.<|fim_suffix|>Yes, probability is a class topic.<|fim_suffix|>Yes, probability is a class topic.<|fim_suffix|>Yes, probability is a class topic.<|fim_suffix|>Yes, probability is a class topic.<|fim_suffix|>Yes, probability is a class topic.<|fim_suffix|>Yes, probability is a class topic.<|fim_suffix|>Yes, probability is a class topic.<|fim_suffix|>Yes, probability is a class topic.<|fim_suffix|>Yes, probability is a class topic.<|fim_suffix|>Yes, probability is a class topic.<|fim_suffix|>Yes, probability is a class topic.<|fim_suffix|>Yes, probability is a class topic.<|fim_suffix|>Yes, probability is a class topic.<|fim_suffix|>Yes, probability is a class topic.<|fim_suffix|>Yes, probability is a class topic.<|fim_suffix|>Yes, probability is a class topic.<|fim_suffix|>Yes, probability is a class topic.<|fim_suffix|>Yes, probability is a class topic.<|fim_suffix|>Yes, probability is a class topic.<|fim_suffix|>Yes,'"
      ]
     },
     "execution_count": 35,
     "metadata": {},
     "output_type": "execute_result"
    }
   ],
   "source": [
    "result[\"result\"]"
   ]
  },
  {
   "cell_type": "code",
   "execution_count": 39,
   "metadata": {},
   "outputs": [],
   "source": [
    "qa_chain_mr = RetrievalQA.from_chain_type(\n",
    "    llm,\n",
    "    retriever=vectordb.as_retriever(),\n",
    "    chain_type=\"refine\"\n",
    ")"
   ]
  },
  {
   "cell_type": "code",
   "execution_count": 40,
   "metadata": {},
   "outputs": [
    {
     "data": {
      "text/plain": [
       "\" \\n\\nOriginal answer: Yes, probability is a class topic as it provides a probabilistic interpretation of linear regression and is essential for understanding classification algorithms, such as distinguishing between discrete outcomes in various applications like medical diagnosis or housing sales.\\n\\nRefined answer: Yes, probability is a crucial topic in this class, as it lays the foundation for understanding key concepts such as the probabilistic interpretation of linear regression and classification algorithms. A solid grasp of probability will not only enhance students' comprehension of these topics but also enable them to tackle real-world applications, such as medical diagnosis and housing sales. Additionally, the course includes refresher sessions in discussion sections for those who may need to review probability or statistics, ensuring that all students are well-prepared to apply their knowledge effectively in machine learning and data analysis.<|fim_suffix|>Refined answer: Yes, probability is a crucial topic in this class, as it lays the foundation for understanding key concepts such as the probabilistic interpretation of linear regression and classification algorithms. A solid grasp of probability will not only enhance students' comprehension of these topics but also enable them to tackle real-world applications, such as medical diagnosis and housing sales. Additionally, the course includes refresher sessions in discussion sections for those who may need to review probability or statistics, ensuring that all students are well\""
      ]
     },
     "execution_count": 40,
     "metadata": {},
     "output_type": "execute_result"
    }
   ],
   "source": [
    "result = qa_chain_mr({\"query\": question})\n",
    "result[\"result\"]"
   ]
  }
 ],
 "metadata": {
  "kernelspec": {
   "display_name": "venv",
   "language": "python",
   "name": "python3"
  },
  "language_info": {
   "codemirror_mode": {
    "name": "ipython",
    "version": 3
   },
   "file_extension": ".py",
   "mimetype": "text/x-python",
   "name": "python",
   "nbconvert_exporter": "python",
   "pygments_lexer": "ipython3",
   "version": "3.11.3"
  }
 },
 "nbformat": 4,
 "nbformat_minor": 2
}
