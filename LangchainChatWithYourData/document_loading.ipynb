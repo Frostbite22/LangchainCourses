{
 "cells": [
  {
   "cell_type": "code",
   "execution_count": 1,
   "metadata": {},
   "outputs": [],
   "source": [
    "import os\n",
    "from openai import OpenAI\n",
    "\n",
    "token = os.environ[\"GITHUB_TOKEN\"]\n",
    "# print(token)\n",
    "# print(os.environ[\"OPENAI_API_KEY\"])\n",
    "endpoint = \"https://models.inference.ai.azure.com\"\n",
    "model_name = \"gpt-4o-mini\"\n",
    "\n",
    "client = OpenAI(\n",
    "    base_url=endpoint,\n",
    "    api_key=token,\n",
    ")\n",
    "\n",
    "response = client.chat.completions.create(\n",
    "    messages=[\n",
    "        {\n",
    "            \"role\": \"system\",\n",
    "            \"content\": \"You are a helpful assistant.\",\n",
    "        },\n",
    "        {\n",
    "            \"role\": \"user\",\n",
    "            \"content\": \"What is the capital of England?\",\n",
    "        }\n",
    "    ],\n",
    "    temperature=0,\n",
    "    top_p=1.0,\n",
    "    max_tokens=1000,\n",
    "    model=model_name\n",
    ")\n"
   ]
  },
  {
   "cell_type": "markdown",
   "metadata": {},
   "source": [
    "## PDF"
   ]
  },
  {
   "cell_type": "code",
   "execution_count": 2,
   "metadata": {},
   "outputs": [],
   "source": [
    "from langchain.document_loaders import PyPDFLoader\n",
    "loader = PyPDFLoader(\"motivation.pdf\")\n",
    "pages = loader.load()"
   ]
  },
  {
   "cell_type": "code",
   "execution_count": 3,
   "metadata": {},
   "outputs": [
    {
     "data": {
      "text/plain": [
       "1"
      ]
     },
     "execution_count": 3,
     "metadata": {},
     "output_type": "execute_result"
    }
   ],
   "source": [
    "len(pages)"
   ]
  },
  {
   "cell_type": "code",
   "execution_count": 4,
   "metadata": {},
   "outputs": [],
   "source": [
    "page = pages[0]"
   ]
  },
  {
   "cell_type": "code",
   "execution_count": 5,
   "metadata": {},
   "outputs": [
    {
     "name": "stdout",
     "output_type": "stream",
     "text": [
      "I  am  Mohamed  Fares  Landoulsi,  AI  engineer  within  Novobit,  a  software  company  located  in  \n",
      "Braunschweig,\n",
      " \n",
      "Germany.\n",
      " \n",
      "I\n",
      " \n",
      "graduated\n",
      " \n",
      "in\n",
      " \n",
      "December\n",
      " \n",
      "2023\n",
      " \n",
      "as\n",
      " \n",
      "a\n",
      " \n",
      "software\n",
      " \n",
      "engineer\n",
      " \n",
      "from\n",
      " \n",
      "the\n",
      " \n",
      "Higher\n",
      " \n",
      "Institute\n",
      " \n",
      "of\n",
      " \n",
      "Computer\n",
      " \n",
      "Science\n",
      " \n",
      "Ariana,\n",
      " \n",
      "in\n",
      " \n",
      "Tunisia,\n",
      " \n",
      "after\n",
      " \n",
      "a\n",
      " \n",
      "successful\n",
      " \n",
      "end\n",
      " \n",
      "of\n",
      " \n",
      "studies\n",
      " \n",
      "internship\n",
      " \n",
      "in\n",
      " \n",
      "Novobit\n",
      " \n",
      "in\n",
      " \n",
      "Germany\n",
      " \n",
      "that\n",
      " \n",
      "led\n",
      " \n",
      "to\n",
      " \n",
      "being\n",
      " \n",
      "hired.\n",
      "  My  end  of  studies  internship  lasted  about  6  months  from  May  2023  to  November  2023,  in  which  \n",
      "I\n",
      " \n",
      "applied\n",
      " \n",
      "my\n",
      " \n",
      "knowledge\n",
      " \n",
      "in\n",
      " \n",
      "deep\n",
      " \n",
      "learning\n",
      " \n",
      "to\n",
      " \n",
      "build\n",
      " \n",
      "smart\n",
      " \n",
      "glasses\n",
      " \n",
      "for\n",
      " \n",
      "visually\n",
      " \n",
      "impaired\n",
      " \n",
      "persons,\n",
      " \n",
      "in\n",
      " \n",
      "a\n",
      " \n",
      "team\n",
      " \n",
      "of\n",
      " \n",
      "8\n",
      " \n",
      "persons.\n",
      " \n",
      "My\n",
      " \n",
      "responsibility\n",
      " \n",
      "was\n",
      " \n",
      "to\n",
      " \n",
      "build\n",
      " \n",
      "an\n",
      " \n",
      "obstacle\n",
      " \n",
      "detection\n",
      " \n",
      "and\n",
      " \n",
      "avoidance\n",
      " \n",
      "system\n",
      " \n",
      "that\n",
      " \n",
      "would\n",
      " \n",
      "be\n",
      " \n",
      "integrated\n",
      " \n",
      "with\n",
      " \n",
      "the\n",
      " \n",
      "other\n",
      " \n",
      "functionalities\n",
      " \n",
      "of\n",
      " \n",
      "the\n",
      " \n",
      "smart\n",
      " \n",
      "glasses,\n",
      " \n",
      "such\n",
      " \n",
      "as\n",
      " \n",
      "hand\n",
      " \n",
      "gestures\n",
      " \n",
      "recognition.\n",
      " \n",
      "Within\n",
      " \n",
      "this\n",
      " \n",
      "time\n",
      " \n",
      "frame,\n",
      " \n",
      "I\n",
      " \n",
      "got\n",
      " \n",
      "familiar\n",
      " \n",
      "with\n",
      " \n",
      "transformer\n",
      " \n",
      "bas\n"
     ]
    }
   ],
   "source": [
    "print(page.page_content[:1000])"
   ]
  },
  {
   "cell_type": "code",
   "execution_count": 6,
   "metadata": {},
   "outputs": [
    {
     "data": {
      "text/plain": [
       "{'source': 'motivation.pdf', 'page': 0}"
      ]
     },
     "execution_count": 6,
     "metadata": {},
     "output_type": "execute_result"
    }
   ],
   "source": [
    "page.metadata"
   ]
  },
  {
   "cell_type": "markdown",
   "metadata": {},
   "source": [
    "## Youtube"
   ]
  },
  {
   "cell_type": "code",
   "execution_count": 7,
   "metadata": {},
   "outputs": [],
   "source": [
    "from langchain_community.document_loaders.blob_loaders.youtube_audio import (\n",
    "    YoutubeAudioLoader,\n",
    ")\n",
    "from langchain_community.document_loaders.generic import GenericLoader\n",
    "from langchain_community.document_loaders.parsers.audio import (\n",
    "    OpenAIWhisperParser,\n",
    "    OpenAIWhisperParserLocal,\n",
    ")"
   ]
  },
  {
   "cell_type": "code",
   "execution_count": 11,
   "metadata": {},
   "outputs": [
    {
     "name": "stderr",
     "output_type": "stream",
     "text": [
      "c:\\Users\\m.landoulsi\\Desktop\\pprojects\\langchain\\venv\\Lib\\site-packages\\tqdm\\auto.py:21: TqdmWarning: IProgress not found. Please update jupyter and ipywidgets. See https://ipywidgets.readthedocs.io/en/stable/user_install.html\n",
      "  from .autonotebook import tqdm as notebook_tqdm\n"
     ]
    },
    {
     "name": "stdout",
     "output_type": "stream",
     "text": [
      "Using the following model:  openai/whisper-base\n"
     ]
    },
    {
     "name": "stderr",
     "output_type": "stream",
     "text": [
      "Device set to use cpu\n"
     ]
    }
   ],
   "source": [
    "youtube_link = \"https://www.youtube.com/watch?v=Bo_kgCHbD6I\"\n",
    "save_dir =\"docs/youtube\"\n",
    "loader = GenericLoader(\n",
    "    YoutubeAudioLoader([youtube_link], save_dir),\n",
    "    OpenAIWhisperParserLocal(),\t\n",
    ")"
   ]
  },
  {
   "cell_type": "code",
   "execution_count": 13,
   "metadata": {},
   "outputs": [
    {
     "name": "stdout",
     "output_type": "stream",
     "text": [
      "[youtube] Extracting URL: https://www.youtube.com/watch?v=Bo_kgCHbD6I\n",
      "[youtube] Bo_kgCHbD6I: Downloading webpage\n",
      "[youtube] Bo_kgCHbD6I: Downloading tv client config\n",
      "[youtube] Bo_kgCHbD6I: Downloading player d50f54ef\n",
      "[youtube] Bo_kgCHbD6I: Downloading tv player API JSON\n",
      "[youtube] Bo_kgCHbD6I: Downloading ios player API JSON\n",
      "[youtube] Bo_kgCHbD6I: Downloading m3u8 information\n",
      "[info] Bo_kgCHbD6I: Downloading 1 format(s): 140\n",
      "[download] docs\\youtube\\Marc Andreessen on Yann LeCun ｜ Lex Fridman Podcast Clips.m4a has already been downloaded\n",
      "[download] 100% of    3.65MiB\n",
      "[ExtractAudio] Not converting audio docs\\youtube\\Marc Andreessen on Yann LeCun ｜ Lex Fridman Podcast Clips.m4a; file is already in target format m4a\n",
      "Transcribing part docs\\youtube\\Marc Andreessen on Yann LeCun ｜ Lex Fridman Podcast Clips.m4a!\n"
     ]
    },
    {
     "name": "stderr",
     "output_type": "stream",
     "text": [
      "c:\\Users\\m.landoulsi\\Desktop\\pprojects\\langchain\\venv\\Lib\\site-packages\\transformers\\models\\whisper\\generation_whisper.py:573: FutureWarning: The input name `inputs` is deprecated. Please make sure to use `input_features` instead.\n",
      "  warnings.warn(\n",
      "Due to a bug fix in https://github.com/huggingface/transformers/pull/28687 transcription using a multilingual Whisper will default to language detection followed by transcription instead of translation to English.This might be a breaking change for your use case. If you want to instead always translate your audio to English, make sure to pass `language='en'`.\n",
      "The attention mask is not set and cannot be inferred from input because pad token is same as eos token. As a consequence, you may observe unexpected behavior. Please pass your input's `attention_mask` to obtain reliable results.\n"
     ]
    }
   ],
   "source": [
    "docs = loader.load()"
   ]
  },
  {
   "cell_type": "code",
   "execution_count": 20,
   "metadata": {},
   "outputs": [
    {
     "data": {
      "text/plain": [
       "Document(metadata={'source': 'docs\\\\youtube\\\\Marc Andreessen on Yann LeCun ｜ Lex Fridman Podcast Clips.m4a'}, page_content=\" Almost for fun. Let me ask a friend of yours, Jan LeCoon. What are your top 10 favorite things about Jan LeCoon? He's a I think he's a he's a brilliant guy. I think he's important to the world. I think you guys disagree on a lot of things. But I personally like vigorous disagreement. I as a person in the stands like to watch the gladiators go at it. He's a super genius. I mean, look, I haven't said we're super close, but casual friends. I worked with him at Meta. He's the chief scientist at Meta for a long time and it's still, you know, works with us. And as obviously he's a legendary figure in the field. And one of the main people responsible for what's happening is my serious observation would be that it's the thing I've talked to him about for a long time and I keep trying to follow everything he does is he's probably, he is the, I think see if you agree with this, he is the smartest and most credible critic of LLMS is the path for AI. And he's not, you know, there's certain, I would say troll-like characters here, just like crap on everything, but like, Ian has like very deeply thought through basically theories as to why LLMs are an evolutionary dead end. And I actually like, I try to do this thing where I try to model, you know, I try to have a mental model of like the two different sides of a serious argument. So I've tried to like internalize that argument as much as I can, which is difficult because like we're investing it behind LLM since aggressively as we can. So if he's right, like, that could be a big problem. But like we should also know that. And then I sort of use his ideas to challenge all the bullish people, you know, to really kind of test their level of knowledge. So I like to kind of grill people like I'm not like I'm not, you know, I was not, you know, I was got my CS degree 35 years ago, so I'm not deep in the technology, but like if to the extent I can understand, Jan's points, I can use them to, you know, to really surface a lot of the questions for the people who are more bullish. And that's been, I think, very productive. Yeah, so yeah, it's just very striking that you have somebody who is like that central in the space who is actually like a full on skeptic. And again, you could this could go different ways. He could end up being very wrong. He could end up being totally right or it could be that he will provoke the evolution of these systems to be much better than they would have been. Yeah, he could be both right and wrong. First of all, I do agree with that. He's one of the most legit and rigorous and deep critics of the LLM path to AGI. His basic notions that AI needs to have some physical understanding of the physical world. And that's very difficult to achieve with LLM. So that is a really good way to challenge the limitations of LLM and so on. He's also been a vocal and a huge proponent of open source. It's just a whole nother which you have been as well. Which is very useful. And that's been just fascinating to watch. And anti-dumar. Anti-dumar. Yeah. He's very anti-dumar. He embodies, he also has many wolves inside. So it's been really, really fun to watch. The other two. Okay, here's my other wolf coming out. Yeah. The other two of the three godfathers of AI are like radicals, like, like, full on left, you know, far left, you know, like they'd, I would say like either Marxist, Sir Borderline Marxists, and they're like, I think quite extreme in their social and political views. And I think that feeds into their dimmerism. And I think, you know, they are lobbying for like draconian government. I think what would be runestly destructive government legislation and regulation. And so it's actually super, super, super helpful to have Yon as a counterpoint to those two. you\")"
      ]
     },
     "execution_count": 20,
     "metadata": {},
     "output_type": "execute_result"
    }
   ],
   "source": [
    "docs[0]"
   ]
  },
  {
   "cell_type": "code",
   "execution_count": null,
   "metadata": {},
   "outputs": [],
   "source": []
  }
 ],
 "metadata": {
  "kernelspec": {
   "display_name": "venv",
   "language": "python",
   "name": "python3"
  },
  "language_info": {
   "codemirror_mode": {
    "name": "ipython",
    "version": 3
   },
   "file_extension": ".py",
   "mimetype": "text/x-python",
   "name": "python",
   "nbconvert_exporter": "python",
   "pygments_lexer": "ipython3",
   "version": "3.11.3"
  }
 },
 "nbformat": 4,
 "nbformat_minor": 2
}
