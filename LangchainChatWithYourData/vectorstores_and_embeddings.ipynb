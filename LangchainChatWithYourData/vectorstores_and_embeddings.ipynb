{
 "cells": [
  {
   "cell_type": "code",
   "execution_count": 1,
   "metadata": {},
   "outputs": [],
   "source": [
    "import os\n",
    "from openai import OpenAI\n",
    "\n",
    "token = os.environ[\"GITHUB_TOKEN\"]\n",
    "# print(token)\n",
    "# print(os.environ[\"OPENAI_API_KEY\"])\n",
    "endpoint = \"https://models.inference.ai.azure.com\"\n",
    "model_name = \"gpt-4o-mini\"\n",
    "\n",
    "client = OpenAI(\n",
    "    base_url=endpoint,\n",
    "    api_key=token,\n",
    ")\n",
    "\n",
    "response = client.chat.completions.create(\n",
    "    messages=[\n",
    "        {\n",
    "            \"role\": \"system\",\n",
    "            \"content\": \"You are a helpful assistant.\",\n",
    "        },\n",
    "        {\n",
    "            \"role\": \"user\",\n",
    "            \"content\": \"What is the capital of England?\",\n",
    "        }\n",
    "    ],\n",
    "    temperature=0,\n",
    "    top_p=1.0,\n",
    "    max_tokens=1000,\n",
    "    model=model_name\n",
    ")\n"
   ]
  },
  {
   "cell_type": "code",
   "execution_count": 2,
   "metadata": {},
   "outputs": [],
   "source": [
    "from langchain.document_loaders import PyPDFLoader\n",
    "\n",
    "loaders = [\n",
    "    PyPDFLoader(\"motivation.pdf\"),\n",
    "    PyPDFLoader(\"motivation.pdf\"),\n",
    "]\n",
    "\n",
    "docs = []\n",
    "for loader in loaders:\n",
    "    docs.extend(loader.load())"
   ]
  },
  {
   "cell_type": "code",
   "execution_count": 3,
   "metadata": {},
   "outputs": [
    {
     "data": {
      "text/plain": [
       "[Document(metadata={'source': 'motivation.pdf', 'page': 0}, page_content='I  am  Mohamed  Fares  Landoulsi,  AI  engineer  within  Novobit,  a  software  company  located  in  \\nBraunschweig,\\n \\nGermany.\\n \\nI\\n \\ngraduated\\n \\nin\\n \\nDecember\\n \\n2023\\n \\nas\\n \\na\\n \\nsoftware\\n \\nengineer\\n \\nfrom\\n \\nthe\\n \\nHigher\\n \\nInstitute\\n \\nof\\n \\nComputer\\n \\nScience\\n \\nAriana,\\n \\nin\\n \\nTunisia,\\n \\nafter\\n \\na\\n \\nsuccessful\\n \\nend\\n \\nof\\n \\nstudies\\n \\ninternship\\n \\nin\\n \\nNovobit\\n \\nin\\n \\nGermany\\n \\nthat\\n \\nled\\n \\nto\\n \\nbeing\\n \\nhired.\\n  My  end  of  studies  internship  lasted  about  6  months  from  May  2023  to  November  2023,  in  which  \\nI\\n \\napplied\\n \\nmy\\n \\nknowledge\\n \\nin\\n \\ndeep\\n \\nlearning\\n \\nto\\n \\nbuild\\n \\nsmart\\n \\nglasses\\n \\nfor\\n \\nvisually\\n \\nimpaired\\n \\npersons,\\n \\nin\\n \\na\\n \\nteam\\n \\nof\\n \\n8\\n \\npersons.\\n \\nMy\\n \\nresponsibility\\n \\nwas\\n \\nto\\n \\nbuild\\n \\nan\\n \\nobstacle\\n \\ndetection\\n \\nand\\n \\navoidance\\n \\nsystem\\n \\nthat\\n \\nwould\\n \\nbe\\n \\nintegrated\\n \\nwith\\n \\nthe\\n \\nother\\n \\nfunctionalities\\n \\nof\\n \\nthe\\n \\nsmart\\n \\nglasses,\\n \\nsuch\\n \\nas\\n \\nhand\\n \\ngestures\\n \\nrecognition.\\n \\nWithin\\n \\nthis\\n \\ntime\\n \\nframe,\\n \\nI\\n \\ngot\\n \\nfamiliar\\n \\nwith\\n \\ntransformer\\n \\nbased\\n \\nmodels\\n \\nand\\n \\narchitectures\\n \\nutilizing\\n \\ngrounding\\n \\nDino\\n \\nfor\\n \\nzero\\n \\nshot\\n \\nobject\\n \\ndetection,\\n \\nBLIP\\n \\nfor\\n \\nimage\\n \\ncaptioning,\\n \\nYolov8\\n \\nfor\\n \\nobject\\n \\ndetection.\\n  I  was  also  in  charge  of  the  interactive  side  of  the  smart  glasses  by  providing  a  voice  assistant  \\nand\\n \\nWake\\n \\nword\\n \\ntechnology\\n \\nto\\n \\nreceive\\n \\nthe\\n \\nvoice\\n \\nrequests\\n \\nof\\n \\nthe\\n \\nimpaired\\n \\nperson,\\n \\napplying\\n \\ntechniques\\n \\nsuch\\n \\nas\\n \\nintent\\n \\nclassification\\n \\nusing\\n \\nsimple\\n \\nRNNs\\n \\nand\\n \\nmel\\n \\nspectrograms\\n \\nclassification\\n \\nusing\\n \\na\\n \\ndeep\\n \\nneural\\n \\nnetwork\\n \\nto\\n \\ndetect\\n \\nthe\\n \\nwake\\n \\nword.\\n  Additionally,  I  have  done  benchmarks  on  the  available  tools  that  could  support  our  system  in  an  \\nembedded\\n \\ntool,\\n \\nending\\n \\nwith\\n \\nNvidia\\n \\nJetson\\n \\nOrin\\n \\nembedded\\n \\nboard\\n \\nand\\n \\nNvidia\\n \\nIntel\\n \\nRealSense\\n \\nas\\n \\na\\n \\ncamera\\n \\nthat\\n \\nprovides\\n \\nnot\\n \\njust\\n \\nRGB\\n \\nimages\\n \\nbut\\n \\nalso\\n \\ndepth\\n \\nestimation\\n \\nso\\n \\nthat\\n \\nwe\\n \\ncan\\n \\ndetect\\n \\nhow\\n \\nclose\\n \\nthe\\n \\nobjects\\n \\nare\\n \\nthe\\n \\nglasses\\n \\nand\\n \\nwarn\\n \\nthe\\n \\nvisually\\n \\nimpaired\\n \\nperson\\n \\nwhen\\n \\nthere\\n \\nis\\n \\na\\n \\npotential\\n \\nobstacle.\\n  Moving  forward  to  2024,  I  am  currently  working  with  the  same  company  as  an  AI  engineer  on  \\nanother\\n \\nproject\\n \\nthat\\n \\nwill\\n \\nempower\\n \\ndevelopers\\n \\nby\\n \\nhelping\\n \\nthem\\n \\ncreate\\n \\nsoftware\\n \\napplications\\n \\nusing\\n \\nour\\n \\nAI\\n \\nplatform\\n \\nthat\\n \\ngenerates\\n \\nfrontend\\n \\nand\\n \\nbackend\\n \\napplications\\n \\nbased\\n \\non\\n \\nLarge\\n \\nLanguage\\n \\nModels.\\n  Throughout  this  journey,  I  have  used  both  open  source  and  closed  source  LLMs  and  took  \\ndifferent\\n \\nresponsibilities,\\n \\nusing\\n \\ndifferent\\n \\ntools,\\n \\nmodels\\n \\nand\\n \\ntechnologies\\n \\nsuch\\n \\nas\\n \\nFlask,\\n \\nFastAPI,\\n \\nLlama3.3,\\n \\nClaude,\\n \\nGPT-4o,\\n \\nRoBERTa\\n \\nand\\n \\ngained\\n \\nmany\\n \\ninsights\\n \\nin\\n \\nprompt\\n \\nengineering,\\n \\nRetrieval\\n \\naugmented\\n \\ngeneration,\\n \\nLLM\\n \\ndeployments\\n \\nusing\\n \\nOllama\\n \\nand\\n \\nLlama.cpp.\\n \\nI\\n \\ncan\\n \\nsay\\n \\nit\\n \\nwas\\n \\na\\n \\nlong\\n \\njourney\\n \\nof\\n \\nexploration\\n \\nand\\n \\ntrials\\n \\nand\\n \\nerrors\\n \\nthat\\n \\ntaught\\n \\nme\\n \\na\\n \\nlot\\n \\nin\\n \\na\\n \\nvery\\n \\nshort\\n \\ntime.\\n Back  to  the  years  before  2023,  I  had  many  different  internships  ranging  from  internships  in  web  \\ndevelopment,\\n \\nblockchain\\n \\ntechnologies,\\n \\nNLP\\n \\nand\\n \\nworked\\n \\non\\n \\nmany\\n \\nacademic\\n \\nand\\n \\nside\\n \\nprojects\\n \\nthroughout\\n \\nmy\\n \\nsix\\n \\nyears\\n \\n(from\\n \\n2018\\n \\nto\\n \\n2023)\\n \\nat\\n \\nthe\\n \\nuniversity\\n \\nin\\n \\nTunisia.\\n  Finally,  I  find  a  huge  interest  in  diving  deep  into  machine  learning  and  large  language  models  \\nand\\n \\ngenerative\\n \\nAI\\n \\nin\\n \\ngeneral\\n \\nand\\n \\nI\\n \\nfind\\n \\nthat\\n \\nbeing\\n \\nin\\n \\nyour\\n \\ncompany\\n \\nwill\\n \\ngive\\n \\nme\\n \\nbetter\\n \\nand\\n \\nin\\n \\ndepth\\n \\ninsights\\n \\nabout\\n \\nthese\\n \\nlatest\\n \\nadvancements\\n \\nin\\n \\nAI\\n \\nand\\n \\nprovide\\n \\nme\\n \\nwith\\n \\na\\n \\nhuge\\n \\nopportunity\\n \\nto\\n \\nbuild\\n \\nmore\\n \\ntools\\n \\nfor\\n \\nthe\\n \\npeople\\n \\nand\\n \\nthe\\n \\ncommunity.\\n  '),\n",
       " Document(metadata={'source': 'motivation.pdf', 'page': 0}, page_content='I  am  Mohamed  Fares  Landoulsi,  AI  engineer  within  Novobit,  a  software  company  located  in  \\nBraunschweig,\\n \\nGermany.\\n \\nI\\n \\ngraduated\\n \\nin\\n \\nDecember\\n \\n2023\\n \\nas\\n \\na\\n \\nsoftware\\n \\nengineer\\n \\nfrom\\n \\nthe\\n \\nHigher\\n \\nInstitute\\n \\nof\\n \\nComputer\\n \\nScience\\n \\nAriana,\\n \\nin\\n \\nTunisia,\\n \\nafter\\n \\na\\n \\nsuccessful\\n \\nend\\n \\nof\\n \\nstudies\\n \\ninternship\\n \\nin\\n \\nNovobit\\n \\nin\\n \\nGermany\\n \\nthat\\n \\nled\\n \\nto\\n \\nbeing\\n \\nhired.\\n  My  end  of  studies  internship  lasted  about  6  months  from  May  2023  to  November  2023,  in  which  \\nI\\n \\napplied\\n \\nmy\\n \\nknowledge\\n \\nin\\n \\ndeep\\n \\nlearning\\n \\nto\\n \\nbuild\\n \\nsmart\\n \\nglasses\\n \\nfor\\n \\nvisually\\n \\nimpaired\\n \\npersons,\\n \\nin\\n \\na\\n \\nteam\\n \\nof\\n \\n8\\n \\npersons.\\n \\nMy\\n \\nresponsibility\\n \\nwas\\n \\nto\\n \\nbuild\\n \\nan\\n \\nobstacle\\n \\ndetection\\n \\nand\\n \\navoidance\\n \\nsystem\\n \\nthat\\n \\nwould\\n \\nbe\\n \\nintegrated\\n \\nwith\\n \\nthe\\n \\nother\\n \\nfunctionalities\\n \\nof\\n \\nthe\\n \\nsmart\\n \\nglasses,\\n \\nsuch\\n \\nas\\n \\nhand\\n \\ngestures\\n \\nrecognition.\\n \\nWithin\\n \\nthis\\n \\ntime\\n \\nframe,\\n \\nI\\n \\ngot\\n \\nfamiliar\\n \\nwith\\n \\ntransformer\\n \\nbased\\n \\nmodels\\n \\nand\\n \\narchitectures\\n \\nutilizing\\n \\ngrounding\\n \\nDino\\n \\nfor\\n \\nzero\\n \\nshot\\n \\nobject\\n \\ndetection,\\n \\nBLIP\\n \\nfor\\n \\nimage\\n \\ncaptioning,\\n \\nYolov8\\n \\nfor\\n \\nobject\\n \\ndetection.\\n  I  was  also  in  charge  of  the  interactive  side  of  the  smart  glasses  by  providing  a  voice  assistant  \\nand\\n \\nWake\\n \\nword\\n \\ntechnology\\n \\nto\\n \\nreceive\\n \\nthe\\n \\nvoice\\n \\nrequests\\n \\nof\\n \\nthe\\n \\nimpaired\\n \\nperson,\\n \\napplying\\n \\ntechniques\\n \\nsuch\\n \\nas\\n \\nintent\\n \\nclassification\\n \\nusing\\n \\nsimple\\n \\nRNNs\\n \\nand\\n \\nmel\\n \\nspectrograms\\n \\nclassification\\n \\nusing\\n \\na\\n \\ndeep\\n \\nneural\\n \\nnetwork\\n \\nto\\n \\ndetect\\n \\nthe\\n \\nwake\\n \\nword.\\n  Additionally,  I  have  done  benchmarks  on  the  available  tools  that  could  support  our  system  in  an  \\nembedded\\n \\ntool,\\n \\nending\\n \\nwith\\n \\nNvidia\\n \\nJetson\\n \\nOrin\\n \\nembedded\\n \\nboard\\n \\nand\\n \\nNvidia\\n \\nIntel\\n \\nRealSense\\n \\nas\\n \\na\\n \\ncamera\\n \\nthat\\n \\nprovides\\n \\nnot\\n \\njust\\n \\nRGB\\n \\nimages\\n \\nbut\\n \\nalso\\n \\ndepth\\n \\nestimation\\n \\nso\\n \\nthat\\n \\nwe\\n \\ncan\\n \\ndetect\\n \\nhow\\n \\nclose\\n \\nthe\\n \\nobjects\\n \\nare\\n \\nthe\\n \\nglasses\\n \\nand\\n \\nwarn\\n \\nthe\\n \\nvisually\\n \\nimpaired\\n \\nperson\\n \\nwhen\\n \\nthere\\n \\nis\\n \\na\\n \\npotential\\n \\nobstacle.\\n  Moving  forward  to  2024,  I  am  currently  working  with  the  same  company  as  an  AI  engineer  on  \\nanother\\n \\nproject\\n \\nthat\\n \\nwill\\n \\nempower\\n \\ndevelopers\\n \\nby\\n \\nhelping\\n \\nthem\\n \\ncreate\\n \\nsoftware\\n \\napplications\\n \\nusing\\n \\nour\\n \\nAI\\n \\nplatform\\n \\nthat\\n \\ngenerates\\n \\nfrontend\\n \\nand\\n \\nbackend\\n \\napplications\\n \\nbased\\n \\non\\n \\nLarge\\n \\nLanguage\\n \\nModels.\\n  Throughout  this  journey,  I  have  used  both  open  source  and  closed  source  LLMs  and  took  \\ndifferent\\n \\nresponsibilities,\\n \\nusing\\n \\ndifferent\\n \\ntools,\\n \\nmodels\\n \\nand\\n \\ntechnologies\\n \\nsuch\\n \\nas\\n \\nFlask,\\n \\nFastAPI,\\n \\nLlama3.3,\\n \\nClaude,\\n \\nGPT-4o,\\n \\nRoBERTa\\n \\nand\\n \\ngained\\n \\nmany\\n \\ninsights\\n \\nin\\n \\nprompt\\n \\nengineering,\\n \\nRetrieval\\n \\naugmented\\n \\ngeneration,\\n \\nLLM\\n \\ndeployments\\n \\nusing\\n \\nOllama\\n \\nand\\n \\nLlama.cpp.\\n \\nI\\n \\ncan\\n \\nsay\\n \\nit\\n \\nwas\\n \\na\\n \\nlong\\n \\njourney\\n \\nof\\n \\nexploration\\n \\nand\\n \\ntrials\\n \\nand\\n \\nerrors\\n \\nthat\\n \\ntaught\\n \\nme\\n \\na\\n \\nlot\\n \\nin\\n \\na\\n \\nvery\\n \\nshort\\n \\ntime.\\n Back  to  the  years  before  2023,  I  had  many  different  internships  ranging  from  internships  in  web  \\ndevelopment,\\n \\nblockchain\\n \\ntechnologies,\\n \\nNLP\\n \\nand\\n \\nworked\\n \\non\\n \\nmany\\n \\nacademic\\n \\nand\\n \\nside\\n \\nprojects\\n \\nthroughout\\n \\nmy\\n \\nsix\\n \\nyears\\n \\n(from\\n \\n2018\\n \\nto\\n \\n2023)\\n \\nat\\n \\nthe\\n \\nuniversity\\n \\nin\\n \\nTunisia.\\n  Finally,  I  find  a  huge  interest  in  diving  deep  into  machine  learning  and  large  language  models  \\nand\\n \\ngenerative\\n \\nAI\\n \\nin\\n \\ngeneral\\n \\nand\\n \\nI\\n \\nfind\\n \\nthat\\n \\nbeing\\n \\nin\\n \\nyour\\n \\ncompany\\n \\nwill\\n \\ngive\\n \\nme\\n \\nbetter\\n \\nand\\n \\nin\\n \\ndepth\\n \\ninsights\\n \\nabout\\n \\nthese\\n \\nlatest\\n \\nadvancements\\n \\nin\\n \\nAI\\n \\nand\\n \\nprovide\\n \\nme\\n \\nwith\\n \\na\\n \\nhuge\\n \\nopportunity\\n \\nto\\n \\nbuild\\n \\nmore\\n \\ntools\\n \\nfor\\n \\nthe\\n \\npeople\\n \\nand\\n \\nthe\\n \\ncommunity.\\n  ')]"
      ]
     },
     "execution_count": 3,
     "metadata": {},
     "output_type": "execute_result"
    }
   ],
   "source": [
    "docs"
   ]
  },
  {
   "cell_type": "code",
   "execution_count": null,
   "metadata": {},
   "outputs": [],
   "source": []
  }
 ],
 "metadata": {
  "kernelspec": {
   "display_name": "venv",
   "language": "python",
   "name": "python3"
  },
  "language_info": {
   "codemirror_mode": {
    "name": "ipython",
    "version": 3
   },
   "file_extension": ".py",
   "mimetype": "text/x-python",
   "name": "python",
   "nbconvert_exporter": "python",
   "pygments_lexer": "ipython3",
   "version": "3.11.3"
  }
 },
 "nbformat": 4,
 "nbformat_minor": 2
}
